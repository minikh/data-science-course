{
 "cells": [
  {
   "cell_type": "code",
   "execution_count": 117,
   "metadata": {
    "_cell_guid": "b1076dfc-b9ad-4769-8c92-a6c4dae69d19",
    "_uuid": "8f2839f25d086af736a60e9eeb907d3b93b6e0e5",
    "colab": {},
    "colab_type": "code",
    "id": "U2D2gTdJVp90"
   },
   "outputs": [],
   "source": [
    "import pandas as pd\n"
   ]
  },
  {
   "cell_type": "code",
   "execution_count": 118,
   "metadata": {
    "_cell_guid": "79c7e3d0-c299-4dcb-8224-4455121ee9b0",
    "_uuid": "d629ff2d2480ee46fbb7e2d37f6b5fab8052498a",
    "colab": {},
    "colab_type": "code",
    "id": "oyGfxL3eVp9-"
   },
   "outputs": [
    {
     "data": {
      "text/plain": "        imdb_id     budget    revenue              original_title  \\\n1370  tt0377818   50000000  110803676        The Dukes of Hazzard   \n1444  tt0482571   40000000  109676311                The Prestige   \n534   tt0218817   30000000   17833000                   AntiTrust   \n1252  tt1623205  200000000  491868548  Oz: The Great and Powerful   \n1667  tt0361841   35000000   22034832           Little Black Book   \n\n                                                   cast           director  \\\n1370  Johnny Knoxville|Seann William Scott|Jessica S...  Jay Chandrasekhar   \n1444  Hugh Jackman|Christian Bale|Michael Caine|Scar...  Christopher Nolan   \n534   Ryan Phillippe|Rachael Leigh Cook|Tim Robbins|...       Peter Howitt   \n1252  James Franco|Mila Kunis|Rachel Weisz|Michelle ...          Sam Raimi   \n1667  Brittany Murphy|Holly Hunter|Kathy Bates|Ron L...        Nick Hurran   \n\n                                               tagline  \\\n1370                  Cousins. Outlaws. Thrillbillies.   \n1444                         Are You Watching Closely?   \n534      Truth can be dangerous...Trust can be deadly.   \n1252                   In Oz, nothing is what it seems   \n1667  Have you ever been tempted to look inside his...   \n\n                                               overview  runtime  \\\n1370  Bo and Luke Duke are southern cousins. In Hazz...      104   \n1444  A mysterious story of two magicians whose inte...      130   \n534   A computer programmer's dream job at a hot Por...      108   \n1252  Oscar Diggs, a small-time circus illusionist a...      130   \n1667  Determined to learn about her boyfriend's past...      111   \n\n                        genres  \\\n1370   Action|Adventure|Comedy   \n1444    Drama|Mystery|Thriller   \n534         Action|Crime|Drama   \n1252  Fantasy|Adventure|Family   \n1667      Comedy|Romance|Drama   \n\n                                   production_companies release_date  \\\n1370  Village Roadshow Pictures|Gerber Pictures|Warn...     8/5/2005   \n1444                        Touchstone Pictures|Syncopy   10/19/2006   \n534   Industry Entertainment|Epsilon Motion Pictures...    1/12/2001   \n1252                    Walt Disney Pictures|Roth Films     3/7/2013   \n1667              Revolution Studios|Blue Star Pictures     8/6/2004   \n\n      vote_average  release_year  \n1370           5.2          2005  \n1444           7.8          2006  \n534            5.6          2001  \n1252           5.6          2013  \n1667           5.2          2004  ",
      "text/html": "<div>\n<style scoped>\n    .dataframe tbody tr th:only-of-type {\n        vertical-align: middle;\n    }\n\n    .dataframe tbody tr th {\n        vertical-align: top;\n    }\n\n    .dataframe thead th {\n        text-align: right;\n    }\n</style>\n<table border=\"1\" class=\"dataframe\">\n  <thead>\n    <tr style=\"text-align: right;\">\n      <th></th>\n      <th>imdb_id</th>\n      <th>budget</th>\n      <th>revenue</th>\n      <th>original_title</th>\n      <th>cast</th>\n      <th>director</th>\n      <th>tagline</th>\n      <th>overview</th>\n      <th>runtime</th>\n      <th>genres</th>\n      <th>production_companies</th>\n      <th>release_date</th>\n      <th>vote_average</th>\n      <th>release_year</th>\n    </tr>\n  </thead>\n  <tbody>\n    <tr>\n      <th>1370</th>\n      <td>tt0377818</td>\n      <td>50000000</td>\n      <td>110803676</td>\n      <td>The Dukes of Hazzard</td>\n      <td>Johnny Knoxville|Seann William Scott|Jessica S...</td>\n      <td>Jay Chandrasekhar</td>\n      <td>Cousins. Outlaws. Thrillbillies.</td>\n      <td>Bo and Luke Duke are southern cousins. In Hazz...</td>\n      <td>104</td>\n      <td>Action|Adventure|Comedy</td>\n      <td>Village Roadshow Pictures|Gerber Pictures|Warn...</td>\n      <td>8/5/2005</td>\n      <td>5.2</td>\n      <td>2005</td>\n    </tr>\n    <tr>\n      <th>1444</th>\n      <td>tt0482571</td>\n      <td>40000000</td>\n      <td>109676311</td>\n      <td>The Prestige</td>\n      <td>Hugh Jackman|Christian Bale|Michael Caine|Scar...</td>\n      <td>Christopher Nolan</td>\n      <td>Are You Watching Closely?</td>\n      <td>A mysterious story of two magicians whose inte...</td>\n      <td>130</td>\n      <td>Drama|Mystery|Thriller</td>\n      <td>Touchstone Pictures|Syncopy</td>\n      <td>10/19/2006</td>\n      <td>7.8</td>\n      <td>2006</td>\n    </tr>\n    <tr>\n      <th>534</th>\n      <td>tt0218817</td>\n      <td>30000000</td>\n      <td>17833000</td>\n      <td>AntiTrust</td>\n      <td>Ryan Phillippe|Rachael Leigh Cook|Tim Robbins|...</td>\n      <td>Peter Howitt</td>\n      <td>Truth can be dangerous...Trust can be deadly.</td>\n      <td>A computer programmer's dream job at a hot Por...</td>\n      <td>108</td>\n      <td>Action|Crime|Drama</td>\n      <td>Industry Entertainment|Epsilon Motion Pictures...</td>\n      <td>1/12/2001</td>\n      <td>5.6</td>\n      <td>2001</td>\n    </tr>\n    <tr>\n      <th>1252</th>\n      <td>tt1623205</td>\n      <td>200000000</td>\n      <td>491868548</td>\n      <td>Oz: The Great and Powerful</td>\n      <td>James Franco|Mila Kunis|Rachel Weisz|Michelle ...</td>\n      <td>Sam Raimi</td>\n      <td>In Oz, nothing is what it seems</td>\n      <td>Oscar Diggs, a small-time circus illusionist a...</td>\n      <td>130</td>\n      <td>Fantasy|Adventure|Family</td>\n      <td>Walt Disney Pictures|Roth Films</td>\n      <td>3/7/2013</td>\n      <td>5.6</td>\n      <td>2013</td>\n    </tr>\n    <tr>\n      <th>1667</th>\n      <td>tt0361841</td>\n      <td>35000000</td>\n      <td>22034832</td>\n      <td>Little Black Book</td>\n      <td>Brittany Murphy|Holly Hunter|Kathy Bates|Ron L...</td>\n      <td>Nick Hurran</td>\n      <td>Have you ever been tempted to look inside his...</td>\n      <td>Determined to learn about her boyfriend's past...</td>\n      <td>111</td>\n      <td>Comedy|Romance|Drama</td>\n      <td>Revolution Studios|Blue Star Pictures</td>\n      <td>8/6/2004</td>\n      <td>5.2</td>\n      <td>2004</td>\n    </tr>\n  </tbody>\n</table>\n</div>"
     },
     "execution_count": 118,
     "metadata": {},
     "output_type": "execute_result"
    }
   ],
   "source": [
    "data = pd.read_csv('movie_bd_v5.csv')\n",
    "data.sample(5)"
   ]
  },
  {
   "cell_type": "code",
   "execution_count": 119,
   "metadata": {
    "colab": {},
    "colab_type": "code",
    "id": "CoYUnagMVp-C"
   },
   "outputs": [
    {
     "data": {
      "text/plain": "             budget       revenue      runtime  vote_average  release_year\ncount  1.889000e+03  1.889000e+03  1889.000000   1889.000000   1889.000000\nmean   5.431083e+07  1.553653e+08   109.658549      6.140762   2007.860773\nstd    4.858721e+07  2.146698e+08    18.017041      0.764763      4.468841\nmin    5.000000e+06  2.033165e+06    63.000000      3.300000   2000.000000\n25%    2.000000e+07  3.456058e+07    97.000000      5.600000   2004.000000\n50%    3.800000e+07  8.361541e+07   107.000000      6.100000   2008.000000\n75%    7.200000e+07  1.782626e+08   120.000000      6.600000   2012.000000\nmax    3.800000e+08  2.781506e+09   214.000000      8.100000   2015.000000",
      "text/html": "<div>\n<style scoped>\n    .dataframe tbody tr th:only-of-type {\n        vertical-align: middle;\n    }\n\n    .dataframe tbody tr th {\n        vertical-align: top;\n    }\n\n    .dataframe thead th {\n        text-align: right;\n    }\n</style>\n<table border=\"1\" class=\"dataframe\">\n  <thead>\n    <tr style=\"text-align: right;\">\n      <th></th>\n      <th>budget</th>\n      <th>revenue</th>\n      <th>runtime</th>\n      <th>vote_average</th>\n      <th>release_year</th>\n    </tr>\n  </thead>\n  <tbody>\n    <tr>\n      <th>count</th>\n      <td>1.889000e+03</td>\n      <td>1.889000e+03</td>\n      <td>1889.000000</td>\n      <td>1889.000000</td>\n      <td>1889.000000</td>\n    </tr>\n    <tr>\n      <th>mean</th>\n      <td>5.431083e+07</td>\n      <td>1.553653e+08</td>\n      <td>109.658549</td>\n      <td>6.140762</td>\n      <td>2007.860773</td>\n    </tr>\n    <tr>\n      <th>std</th>\n      <td>4.858721e+07</td>\n      <td>2.146698e+08</td>\n      <td>18.017041</td>\n      <td>0.764763</td>\n      <td>4.468841</td>\n    </tr>\n    <tr>\n      <th>min</th>\n      <td>5.000000e+06</td>\n      <td>2.033165e+06</td>\n      <td>63.000000</td>\n      <td>3.300000</td>\n      <td>2000.000000</td>\n    </tr>\n    <tr>\n      <th>25%</th>\n      <td>2.000000e+07</td>\n      <td>3.456058e+07</td>\n      <td>97.000000</td>\n      <td>5.600000</td>\n      <td>2004.000000</td>\n    </tr>\n    <tr>\n      <th>50%</th>\n      <td>3.800000e+07</td>\n      <td>8.361541e+07</td>\n      <td>107.000000</td>\n      <td>6.100000</td>\n      <td>2008.000000</td>\n    </tr>\n    <tr>\n      <th>75%</th>\n      <td>7.200000e+07</td>\n      <td>1.782626e+08</td>\n      <td>120.000000</td>\n      <td>6.600000</td>\n      <td>2012.000000</td>\n    </tr>\n    <tr>\n      <th>max</th>\n      <td>3.800000e+08</td>\n      <td>2.781506e+09</td>\n      <td>214.000000</td>\n      <td>8.100000</td>\n      <td>2015.000000</td>\n    </tr>\n  </tbody>\n</table>\n</div>"
     },
     "execution_count": 119,
     "metadata": {},
     "output_type": "execute_result"
    }
   ],
   "source": [
    "data.describe()"
   ]
  },
  {
   "cell_type": "code",
   "execution_count": 120,
   "metadata": {
    "pycharm": {
     "name": "#%%\n"
    }
   },
   "outputs": [
    {
     "name": "stdout",
     "output_type": "stream",
     "text": [
      "<class 'pandas.core.frame.DataFrame'>\n",
      "RangeIndex: 1889 entries, 0 to 1888\n",
      "Data columns (total 14 columns):\n",
      " #   Column                Non-Null Count  Dtype  \n",
      "---  ------                --------------  -----  \n",
      " 0   imdb_id               1889 non-null   object \n",
      " 1   budget                1889 non-null   int64  \n",
      " 2   revenue               1889 non-null   int64  \n",
      " 3   original_title        1889 non-null   object \n",
      " 4   cast                  1889 non-null   object \n",
      " 5   director              1889 non-null   object \n",
      " 6   tagline               1889 non-null   object \n",
      " 7   overview              1889 non-null   object \n",
      " 8   runtime               1889 non-null   int64  \n",
      " 9   genres                1889 non-null   object \n",
      " 10  production_companies  1889 non-null   object \n",
      " 11  release_date          1889 non-null   object \n",
      " 12  vote_average          1889 non-null   float64\n",
      " 13  release_year          1889 non-null   int64  \n",
      "dtypes: float64(1), int64(4), object(9)\n",
      "memory usage: 206.7+ KB\n"
     ]
    }
   ],
   "source": [
    "data.info()"
   ]
  },
  {
   "cell_type": "markdown",
   "metadata": {
    "colab_type": "text",
    "id": "DTIt7ezGVp-G"
   },
   "source": [
    "# Предобработка"
   ]
  },
  {
   "cell_type": "code",
   "execution_count": 121,
   "metadata": {
    "colab": {},
    "colab_type": "code",
    "id": "jNb40DwKVp-H"
   },
   "outputs": [
    {
     "data": {
      "text/plain": "     imdb_id     budget     revenue                original_title  \\\n0  tt0369610  150000000  1513528810                Jurassic World   \n1  tt1392190  150000000   378436354            Mad Max: Fury Road   \n2  tt2908446  110000000   295238201                     Insurgent   \n3  tt2488496  200000000  2068178225  Star Wars: The Force Awakens   \n4  tt2820852  190000000  1506249360                     Furious 7   \n\n                                                cast          director  \\\n0  Chris Pratt|Bryce Dallas Howard|Irrfan Khan|Vi...   Colin Trevorrow   \n1  Tom Hardy|Charlize Theron|Hugh Keays-Byrne|Nic...     George Miller   \n2  Shailene Woodley|Theo James|Kate Winslet|Ansel...  Robert Schwentke   \n3  Harrison Ford|Mark Hamill|Carrie Fisher|Adam D...       J.J. Abrams   \n4  Vin Diesel|Paul Walker|Jason Statham|Michelle ...         James Wan   \n\n                         tagline  \\\n0              The park is open.   \n1             What a Lovely Day.   \n2     One Choice Can Destroy You   \n3  Every generation has a story.   \n4            Vengeance Hits Home   \n\n                                            overview  runtime  \\\n0  Twenty-two years after the events of Jurassic ...      124   \n1  An apocalyptic story set in the furthest reach...      120   \n2  Beatrice Prior must confront her inner demons ...      119   \n3  Thirty years after defeating the Galactic Empi...      136   \n4  Deckard Shaw seeks revenge against Dominic Tor...      137   \n\n                                      genres  \\\n0  Action|Adventure|Science Fiction|Thriller   \n1  Action|Adventure|Science Fiction|Thriller   \n2         Adventure|Science Fiction|Thriller   \n3   Action|Adventure|Science Fiction|Fantasy   \n4                      Action|Crime|Thriller   \n\n                                production_companies release_date  \\\n0  Universal Studios|Amblin Entertainment|Legenda...     6/9/2015   \n1  Village Roadshow Pictures|Kennedy Miller Produ...    5/13/2015   \n2  Summit Entertainment|Mandeville Films|Red Wago...    3/18/2015   \n3          Lucasfilm|Truenorth Productions|Bad Robot   12/15/2015   \n4  Universal Pictures|Original Film|Media Rights ...     4/1/2015   \n\n   vote_average  release_year      profit  \n0           6.5          2015  1363528810  \n1           7.1          2015   228436354  \n2           6.3          2015   185238201  \n3           7.5          2015  1868178225  \n4           7.3          2015  1316249360  ",
      "text/html": "<div>\n<style scoped>\n    .dataframe tbody tr th:only-of-type {\n        vertical-align: middle;\n    }\n\n    .dataframe tbody tr th {\n        vertical-align: top;\n    }\n\n    .dataframe thead th {\n        text-align: right;\n    }\n</style>\n<table border=\"1\" class=\"dataframe\">\n  <thead>\n    <tr style=\"text-align: right;\">\n      <th></th>\n      <th>imdb_id</th>\n      <th>budget</th>\n      <th>revenue</th>\n      <th>original_title</th>\n      <th>cast</th>\n      <th>director</th>\n      <th>tagline</th>\n      <th>overview</th>\n      <th>runtime</th>\n      <th>genres</th>\n      <th>production_companies</th>\n      <th>release_date</th>\n      <th>vote_average</th>\n      <th>release_year</th>\n      <th>profit</th>\n    </tr>\n  </thead>\n  <tbody>\n    <tr>\n      <th>0</th>\n      <td>tt0369610</td>\n      <td>150000000</td>\n      <td>1513528810</td>\n      <td>Jurassic World</td>\n      <td>Chris Pratt|Bryce Dallas Howard|Irrfan Khan|Vi...</td>\n      <td>Colin Trevorrow</td>\n      <td>The park is open.</td>\n      <td>Twenty-two years after the events of Jurassic ...</td>\n      <td>124</td>\n      <td>Action|Adventure|Science Fiction|Thriller</td>\n      <td>Universal Studios|Amblin Entertainment|Legenda...</td>\n      <td>6/9/2015</td>\n      <td>6.5</td>\n      <td>2015</td>\n      <td>1363528810</td>\n    </tr>\n    <tr>\n      <th>1</th>\n      <td>tt1392190</td>\n      <td>150000000</td>\n      <td>378436354</td>\n      <td>Mad Max: Fury Road</td>\n      <td>Tom Hardy|Charlize Theron|Hugh Keays-Byrne|Nic...</td>\n      <td>George Miller</td>\n      <td>What a Lovely Day.</td>\n      <td>An apocalyptic story set in the furthest reach...</td>\n      <td>120</td>\n      <td>Action|Adventure|Science Fiction|Thriller</td>\n      <td>Village Roadshow Pictures|Kennedy Miller Produ...</td>\n      <td>5/13/2015</td>\n      <td>7.1</td>\n      <td>2015</td>\n      <td>228436354</td>\n    </tr>\n    <tr>\n      <th>2</th>\n      <td>tt2908446</td>\n      <td>110000000</td>\n      <td>295238201</td>\n      <td>Insurgent</td>\n      <td>Shailene Woodley|Theo James|Kate Winslet|Ansel...</td>\n      <td>Robert Schwentke</td>\n      <td>One Choice Can Destroy You</td>\n      <td>Beatrice Prior must confront her inner demons ...</td>\n      <td>119</td>\n      <td>Adventure|Science Fiction|Thriller</td>\n      <td>Summit Entertainment|Mandeville Films|Red Wago...</td>\n      <td>3/18/2015</td>\n      <td>6.3</td>\n      <td>2015</td>\n      <td>185238201</td>\n    </tr>\n    <tr>\n      <th>3</th>\n      <td>tt2488496</td>\n      <td>200000000</td>\n      <td>2068178225</td>\n      <td>Star Wars: The Force Awakens</td>\n      <td>Harrison Ford|Mark Hamill|Carrie Fisher|Adam D...</td>\n      <td>J.J. Abrams</td>\n      <td>Every generation has a story.</td>\n      <td>Thirty years after defeating the Galactic Empi...</td>\n      <td>136</td>\n      <td>Action|Adventure|Science Fiction|Fantasy</td>\n      <td>Lucasfilm|Truenorth Productions|Bad Robot</td>\n      <td>12/15/2015</td>\n      <td>7.5</td>\n      <td>2015</td>\n      <td>1868178225</td>\n    </tr>\n    <tr>\n      <th>4</th>\n      <td>tt2820852</td>\n      <td>190000000</td>\n      <td>1506249360</td>\n      <td>Furious 7</td>\n      <td>Vin Diesel|Paul Walker|Jason Statham|Michelle ...</td>\n      <td>James Wan</td>\n      <td>Vengeance Hits Home</td>\n      <td>Deckard Shaw seeks revenge against Dominic Tor...</td>\n      <td>137</td>\n      <td>Action|Crime|Thriller</td>\n      <td>Universal Pictures|Original Film|Media Rights ...</td>\n      <td>4/1/2015</td>\n      <td>7.3</td>\n      <td>2015</td>\n      <td>1316249360</td>\n    </tr>\n  </tbody>\n</table>\n</div>"
     },
     "execution_count": 121,
     "metadata": {},
     "output_type": "execute_result"
    }
   ],
   "source": [
    "answers = {} # создадим словарь для ответов\n",
    "\n",
    "# тут другие ваши предобработки колонок например:\n",
    "\n",
    "#the time given in the dataset is in string format.\n",
    "#So we need to change this in datetime format\n",
    "# ...\n",
    "data['profit'] = data.revenue - data.budget\n",
    "data.head()"
   ]
  },
  {
   "cell_type": "code",
   "execution_count": 122,
   "metadata": {
    "pycharm": {
     "name": "#%%\n"
    }
   },
   "outputs": [
    {
     "data": {
      "text/plain": "     imdb_id            genre\n0  tt0369610           Action\n1  tt0369610        Adventure\n2  tt0369610  Science Fiction\n3  tt0369610         Thriller\n4  tt1392190           Action",
      "text/html": "<div>\n<style scoped>\n    .dataframe tbody tr th:only-of-type {\n        vertical-align: middle;\n    }\n\n    .dataframe tbody tr th {\n        vertical-align: top;\n    }\n\n    .dataframe thead th {\n        text-align: right;\n    }\n</style>\n<table border=\"1\" class=\"dataframe\">\n  <thead>\n    <tr style=\"text-align: right;\">\n      <th></th>\n      <th>imdb_id</th>\n      <th>genre</th>\n    </tr>\n  </thead>\n  <tbody>\n    <tr>\n      <th>0</th>\n      <td>tt0369610</td>\n      <td>Action</td>\n    </tr>\n    <tr>\n      <th>1</th>\n      <td>tt0369610</td>\n      <td>Adventure</td>\n    </tr>\n    <tr>\n      <th>2</th>\n      <td>tt0369610</td>\n      <td>Science Fiction</td>\n    </tr>\n    <tr>\n      <th>3</th>\n      <td>tt0369610</td>\n      <td>Thriller</td>\n    </tr>\n    <tr>\n      <th>4</th>\n      <td>tt1392190</td>\n      <td>Action</td>\n    </tr>\n  </tbody>\n</table>\n</div>"
     },
     "execution_count": 122,
     "metadata": {},
     "output_type": "execute_result"
    }
   ],
   "source": [
    "genres_list = []\n",
    "\n",
    "def fill_genres(row):\n",
    "    genres = row['genres'].split('|')\n",
    "    for g in genres:\n",
    "        genres_list.append([row['imdb_id'], g])\n",
    "\n",
    "data.apply(fill_genres, axis=1)\n",
    "genres_df = pd.DataFrame(genres_list, columns=['imdb_id', 'genre'])\n",
    "genres_df.head()"
   ]
  },
  {
   "cell_type": "code",
   "execution_count": 123,
   "metadata": {
    "pycharm": {
     "name": "#%%\n"
    }
   },
   "outputs": [
    {
     "data": {
      "text/plain": "     imdb_id        director_1\n0  tt0369610   Colin Trevorrow\n1  tt1392190     George Miller\n2  tt2908446  Robert Schwentke\n3  tt2488496       J.J. Abrams\n4  tt2820852         James Wan",
      "text/html": "<div>\n<style scoped>\n    .dataframe tbody tr th:only-of-type {\n        vertical-align: middle;\n    }\n\n    .dataframe tbody tr th {\n        vertical-align: top;\n    }\n\n    .dataframe thead th {\n        text-align: right;\n    }\n</style>\n<table border=\"1\" class=\"dataframe\">\n  <thead>\n    <tr style=\"text-align: right;\">\n      <th></th>\n      <th>imdb_id</th>\n      <th>director_1</th>\n    </tr>\n  </thead>\n  <tbody>\n    <tr>\n      <th>0</th>\n      <td>tt0369610</td>\n      <td>Colin Trevorrow</td>\n    </tr>\n    <tr>\n      <th>1</th>\n      <td>tt1392190</td>\n      <td>George Miller</td>\n    </tr>\n    <tr>\n      <th>2</th>\n      <td>tt2908446</td>\n      <td>Robert Schwentke</td>\n    </tr>\n    <tr>\n      <th>3</th>\n      <td>tt2488496</td>\n      <td>J.J. Abrams</td>\n    </tr>\n    <tr>\n      <th>4</th>\n      <td>tt2820852</td>\n      <td>James Wan</td>\n    </tr>\n  </tbody>\n</table>\n</div>"
     },
     "execution_count": 123,
     "metadata": {},
     "output_type": "execute_result"
    }
   ],
   "source": [
    "director_list = []\n",
    "\n",
    "def fill_directors(row):\n",
    "    genres = row['director'].split('|')\n",
    "    for g in genres:\n",
    "        director_list.append([row['imdb_id'], g])\n",
    "\n",
    "data.apply(fill_directors, axis=1)\n",
    "directors_df = pd.DataFrame(director_list, columns=['imdb_id', 'director_1'])\n",
    "directors_df.head()\n"
   ]
  },
  {
   "cell_type": "code",
   "execution_count": 124,
   "metadata": {
    "pycharm": {
     "name": "#%%\n"
    }
   },
   "outputs": [
    {
     "data": {
      "text/plain": "     imdb_id                actor\n0  tt0369610          Chris Pratt\n1  tt0369610  Bryce Dallas Howard\n2  tt0369610          Irrfan Khan\n3  tt0369610    Vincent D'Onofrio\n4  tt0369610        Nick Robinson",
      "text/html": "<div>\n<style scoped>\n    .dataframe tbody tr th:only-of-type {\n        vertical-align: middle;\n    }\n\n    .dataframe tbody tr th {\n        vertical-align: top;\n    }\n\n    .dataframe thead th {\n        text-align: right;\n    }\n</style>\n<table border=\"1\" class=\"dataframe\">\n  <thead>\n    <tr style=\"text-align: right;\">\n      <th></th>\n      <th>imdb_id</th>\n      <th>actor</th>\n    </tr>\n  </thead>\n  <tbody>\n    <tr>\n      <th>0</th>\n      <td>tt0369610</td>\n      <td>Chris Pratt</td>\n    </tr>\n    <tr>\n      <th>1</th>\n      <td>tt0369610</td>\n      <td>Bryce Dallas Howard</td>\n    </tr>\n    <tr>\n      <th>2</th>\n      <td>tt0369610</td>\n      <td>Irrfan Khan</td>\n    </tr>\n    <tr>\n      <th>3</th>\n      <td>tt0369610</td>\n      <td>Vincent D'Onofrio</td>\n    </tr>\n    <tr>\n      <th>4</th>\n      <td>tt0369610</td>\n      <td>Nick Robinson</td>\n    </tr>\n  </tbody>\n</table>\n</div>"
     },
     "execution_count": 124,
     "metadata": {},
     "output_type": "execute_result"
    }
   ],
   "source": [
    "actor_list = []\n",
    "\n",
    "def fill_actors(row):\n",
    "    genres = row['cast'].split('|')\n",
    "    for g in genres:\n",
    "        actor_list.append([row['imdb_id'], g])\n",
    "\n",
    "data.apply(fill_actors, axis=1)\n",
    "actors_df = pd.DataFrame(actor_list, columns=['imdb_id', 'actor'])\n",
    "actors_df.head()\n"
   ]
  },
  {
   "cell_type": "code",
   "execution_count": 125,
   "metadata": {
    "pycharm": {
     "name": "#%%\n"
    }
   },
   "outputs": [
    {
     "data": {
      "text/plain": "        imdb_id                                 production_company\n0     tt0369610                                  Universal Studios\n1     tt0369610                               Amblin Entertainment\n2     tt0369610                                 Legendary Pictures\n3     tt0369610                            Fuji Television Network\n4     tt0369610                                             Dentsu\n...         ...                                                ...\n6073  tt0162983                          Laurence Mark Productions\n6074  tt0162983                      Columbia Pictures Corporation\n6075  tt0162983  Global Entertainment Productions GmbH & Compan...\n6076  tt0162983                            Nora Ephron Productions\n6077  tt0163676                              Warner Bros. Pictures\n\n[6078 rows x 2 columns]",
      "text/html": "<div>\n<style scoped>\n    .dataframe tbody tr th:only-of-type {\n        vertical-align: middle;\n    }\n\n    .dataframe tbody tr th {\n        vertical-align: top;\n    }\n\n    .dataframe thead th {\n        text-align: right;\n    }\n</style>\n<table border=\"1\" class=\"dataframe\">\n  <thead>\n    <tr style=\"text-align: right;\">\n      <th></th>\n      <th>imdb_id</th>\n      <th>production_company</th>\n    </tr>\n  </thead>\n  <tbody>\n    <tr>\n      <th>0</th>\n      <td>tt0369610</td>\n      <td>Universal Studios</td>\n    </tr>\n    <tr>\n      <th>1</th>\n      <td>tt0369610</td>\n      <td>Amblin Entertainment</td>\n    </tr>\n    <tr>\n      <th>2</th>\n      <td>tt0369610</td>\n      <td>Legendary Pictures</td>\n    </tr>\n    <tr>\n      <th>3</th>\n      <td>tt0369610</td>\n      <td>Fuji Television Network</td>\n    </tr>\n    <tr>\n      <th>4</th>\n      <td>tt0369610</td>\n      <td>Dentsu</td>\n    </tr>\n    <tr>\n      <th>...</th>\n      <td>...</td>\n      <td>...</td>\n    </tr>\n    <tr>\n      <th>6073</th>\n      <td>tt0162983</td>\n      <td>Laurence Mark Productions</td>\n    </tr>\n    <tr>\n      <th>6074</th>\n      <td>tt0162983</td>\n      <td>Columbia Pictures Corporation</td>\n    </tr>\n    <tr>\n      <th>6075</th>\n      <td>tt0162983</td>\n      <td>Global Entertainment Productions GmbH &amp; Compan...</td>\n    </tr>\n    <tr>\n      <th>6076</th>\n      <td>tt0162983</td>\n      <td>Nora Ephron Productions</td>\n    </tr>\n    <tr>\n      <th>6077</th>\n      <td>tt0163676</td>\n      <td>Warner Bros. Pictures</td>\n    </tr>\n  </tbody>\n</table>\n<p>6078 rows × 2 columns</p>\n</div>"
     },
     "execution_count": 125,
     "metadata": {},
     "output_type": "execute_result"
    }
   ],
   "source": [
    "production_companies_list = []\n",
    "\n",
    "def fill_production_companies(row):\n",
    "    genres = row['production_companies'].split('|')\n",
    "    for g in genres:\n",
    "        production_companies_list.append([row['imdb_id'], g])\n",
    "\n",
    "data.apply(fill_production_companies, axis=1)\n",
    "production_companies_df = pd.DataFrame(production_companies_list, columns=['imdb_id', 'production_company'])\n",
    "production_companies_df"
   ]
  },
  {
   "cell_type": "markdown",
   "metadata": {
    "colab_type": "text",
    "id": "YxZaH-nPVp-L"
   },
   "source": [
    "# 1. У какого фильма из списка самый большой бюджет?"
   ]
  },
  {
   "cell_type": "markdown",
   "metadata": {
    "colab_type": "text",
    "id": "Nd-G5gX6Vp-M"
   },
   "source": [
    "Использовать варианты ответов в коде решения запрещено.    \n",
    "Вы думаете и в жизни у вас будут варианты ответов?)"
   ]
  },
  {
   "cell_type": "code",
   "execution_count": 126,
   "metadata": {
    "colab": {},
    "colab_type": "code",
    "id": "uVnXAY5RVp-O"
   },
   "outputs": [],
   "source": [
    "# в словарь вставляем номер вопроса и ваш ответ на него\n",
    "# Пример: \n",
    "answers['1'] = '2. Spider-Man 3 (tt0413300)'\n",
    "# запишите свой вариант ответа\n",
    "answers['1'] = 'Pirates of the Caribbean: On Stranger Tides'\n",
    "# если ответили верно, можете добавить комментарий со значком \"+\"\n",
    "# +"
   ]
  },
  {
   "cell_type": "code",
   "execution_count": 127,
   "metadata": {
    "colab": {},
    "colab_type": "code",
    "id": "dZwb3m28Vp-S"
   },
   "outputs": [
    {
     "data": {
      "text/plain": "723    Pirates of the Caribbean: On Stranger Tides\nName: original_title, dtype: object"
     },
     "execution_count": 127,
     "metadata": {},
     "output_type": "execute_result"
    }
   ],
   "source": [
    "# тут пишем ваш код для решения данного вопроса:\n",
    "data[data.budget == data.budget.max()]['original_title']"
   ]
  },
  {
   "cell_type": "markdown",
   "metadata": {
    "colab_type": "text",
    "id": "K7L3nbRXVp-X"
   },
   "source": [
    "ВАРИАНТ 2"
   ]
  },
  {
   "cell_type": "code",
   "execution_count": 128,
   "metadata": {
    "colab": {},
    "colab_type": "code",
    "id": "OGaoQI7rVp-X"
   },
   "outputs": [
    {
     "data": {
      "text/plain": "723    Pirates of the Caribbean: On Stranger Tides\nName: original_title, dtype: object"
     },
     "execution_count": 128,
     "metadata": {},
     "output_type": "execute_result"
    }
   ],
   "source": [
    "# можно добавлять разные варианты решения\n",
    "data.query('budget == budget.max()')['original_title']"
   ]
  },
  {
   "cell_type": "markdown",
   "metadata": {
    "colab_type": "text",
    "id": "FNRbbI3vVp-c"
   },
   "source": [
    "# 2. Какой из фильмов самый длительный (в минутах)?"
   ]
  },
  {
   "cell_type": "code",
   "execution_count": 129,
   "metadata": {
    "colab": {},
    "colab_type": "code",
    "id": "vHAoEXNTVp-d"
   },
   "outputs": [],
   "source": [
    "# думаю логику работы с этим словарем вы уже поняли, \n",
    "# по этому не буду больше его дублировать\n",
    "answers['2'] = 'Gods and Generals'\n",
    "# +"
   ]
  },
  {
   "cell_type": "code",
   "execution_count": 130,
   "metadata": {
    "colab": {},
    "colab_type": "code",
    "id": "ot-VX2XrVp-g"
   },
   "outputs": [
    {
     "data": {
      "text/plain": "1157    Gods and Generals\nName: original_title, dtype: object"
     },
     "execution_count": 130,
     "metadata": {},
     "output_type": "execute_result"
    }
   ],
   "source": [
    "data[data.runtime == data.runtime.max()]['original_title']"
   ]
  },
  {
   "cell_type": "markdown",
   "metadata": {
    "colab_type": "text",
    "id": "bapLlpW8Vp-k"
   },
   "source": [
    "# 3. Какой из фильмов самый короткий (в минутах)?\n",
    "\n",
    "\n",
    "\n"
   ]
  },
  {
   "cell_type": "code",
   "execution_count": 131,
   "metadata": {
    "pycharm": {
     "name": "#%%\n"
    }
   },
   "outputs": [],
   "source": [
    "answers['3'] = 'Winnie the Pooh'\n",
    "# +"
   ]
  },
  {
   "cell_type": "code",
   "execution_count": 132,
   "metadata": {
    "colab": {},
    "colab_type": "code",
    "id": "YBxaSHuAVp-l"
   },
   "outputs": [
    {
     "data": {
      "text/plain": "768    Winnie the Pooh\nName: original_title, dtype: object"
     },
     "execution_count": 132,
     "metadata": {},
     "output_type": "execute_result"
    }
   ],
   "source": [
    "data[data.runtime == data.runtime.min()]['original_title']"
   ]
  },
  {
   "cell_type": "markdown",
   "metadata": {
    "colab_type": "text",
    "id": "TfQbxbfNVp-p"
   },
   "source": [
    "# 4. Какова средняя длительность фильмов?\n"
   ]
  },
  {
   "cell_type": "code",
   "execution_count": 133,
   "metadata": {
    "pycharm": {
     "name": "#%%\n"
    }
   },
   "outputs": [],
   "source": [
    "answers['4'] = '109.6585494970884'\n",
    "# +"
   ]
  },
  {
   "cell_type": "code",
   "execution_count": 134,
   "metadata": {
    "colab": {},
    "colab_type": "code",
    "id": "5K6dKZYVVp-q"
   },
   "outputs": [
    {
     "data": {
      "text/plain": "109.6585494970884"
     },
     "execution_count": 134,
     "metadata": {},
     "output_type": "execute_result"
    }
   ],
   "source": [
    "data.runtime.mean()"
   ]
  },
  {
   "cell_type": "markdown",
   "metadata": {
    "colab_type": "text",
    "id": "r5TvbnT_Vp-u"
   },
   "source": [
    "# 5. Каково медианное значение длительности фильмов? "
   ]
  },
  {
   "cell_type": "code",
   "execution_count": 135,
   "metadata": {
    "pycharm": {
     "name": "#%%\n"
    }
   },
   "outputs": [],
   "source": [
    "answers['5'] = '107'\n",
    "# +"
   ]
  },
  {
   "cell_type": "code",
   "execution_count": 136,
   "metadata": {
    "colab": {},
    "colab_type": "code",
    "id": "iBROplKnVp-v"
   },
   "outputs": [
    {
     "data": {
      "text/plain": "107.0"
     },
     "execution_count": 136,
     "metadata": {},
     "output_type": "execute_result"
    }
   ],
   "source": [
    "data.runtime.median()"
   ]
  },
  {
   "cell_type": "markdown",
   "metadata": {
    "colab_type": "text",
    "id": "39P-deDSVp-y"
   },
   "source": [
    "# 6. Какой самый прибыльный фильм?\n",
    "#### Внимание! Здесь и далее под «прибылью» или «убытками» понимается разность между сборами и бюджетом фильма. (прибыль = сборы - бюджет) в нашем датасете это будет (profit = revenue - budget) "
   ]
  },
  {
   "cell_type": "code",
   "execution_count": 137,
   "metadata": {
    "pycharm": {
     "name": "#%%\n"
    }
   },
   "outputs": [],
   "source": [
    "answers['6'] = 'Avatar'\n",
    "# +"
   ]
  },
  {
   "cell_type": "code",
   "execution_count": 138,
   "metadata": {
    "colab": {},
    "colab_type": "code",
    "id": "UYZh4T9WVp-y"
   },
   "outputs": [
    {
     "data": {
      "text/plain": "239    Avatar\nName: original_title, dtype: object"
     },
     "execution_count": 138,
     "metadata": {},
     "output_type": "execute_result"
    }
   ],
   "source": [
    "# лучше код получения столбца profit вынести в Предобработку что в начале\n",
    "data[data.profit == data.profit.max()]['original_title']"
   ]
  },
  {
   "cell_type": "markdown",
   "metadata": {
    "colab_type": "text",
    "id": "M99JmIX4Vp-2"
   },
   "source": [
    "# 7. Какой фильм самый убыточный? "
   ]
  },
  {
   "cell_type": "code",
   "execution_count": 139,
   "metadata": {
    "pycharm": {
     "name": "#%%\n"
    }
   },
   "outputs": [],
   "source": [
    "answers['7'] = 'The Lone Ranger'\n",
    "# + странно что платформа выдает что ответ не правильный."
   ]
  },
  {
   "cell_type": "code",
   "execution_count": 140,
   "metadata": {
    "colab": {},
    "colab_type": "code",
    "id": "w-D2m4XPVp-3"
   },
   "outputs": [
    {
     "data": {
      "text/plain": "1245    The Lone Ranger\nName: original_title, dtype: object"
     },
     "execution_count": 140,
     "metadata": {},
     "output_type": "execute_result"
    }
   ],
   "source": [
    "data[data.profit == data.profit.min()]['original_title']"
   ]
  },
  {
   "cell_type": "markdown",
   "metadata": {
    "colab_type": "text",
    "id": "wEOM5ERVVp-6"
   },
   "source": [
    "# 8. У скольких фильмов из датасета объем сборов оказался выше бюджета?"
   ]
  },
  {
   "cell_type": "code",
   "execution_count": 141,
   "metadata": {
    "pycharm": {
     "name": "#%%\n"
    }
   },
   "outputs": [],
   "source": [
    "answers['8'] = '1478'\n",
    "# +"
   ]
  },
  {
   "cell_type": "code",
   "execution_count": 142,
   "metadata": {
    "pycharm": {
     "name": "#%%\n"
    }
   },
   "outputs": [
    {
     "data": {
      "text/plain": "1478"
     },
     "execution_count": 142,
     "metadata": {},
     "output_type": "execute_result"
    }
   ],
   "source": [
    "len(data[data.revenue > data.budget])\n"
   ]
  },
  {
   "cell_type": "markdown",
   "metadata": {
    "colab_type": "text",
    "id": "xhpspA9KVp_A"
   },
   "source": [
    "# 9. Какой фильм оказался самым кассовым в 2008 году?"
   ]
  },
  {
   "cell_type": "code",
   "execution_count": 143,
   "metadata": {
    "colab": {},
    "colab_type": "code",
    "id": "MoUyQr9RVp_B"
   },
   "outputs": [],
   "source": [
    "answers['9'] = 'The Dark Knight'\n",
    "# +"
   ]
  },
  {
   "cell_type": "code",
   "execution_count": 144,
   "metadata": {
    "pycharm": {
     "name": "#%%\n"
    }
   },
   "outputs": [
    {
     "data": {
      "text/plain": "599    The Dark Knight\nName: original_title, dtype: object"
     },
     "execution_count": 144,
     "metadata": {},
     "output_type": "execute_result"
    }
   ],
   "source": [
    "films_2008 = data[data.release_year == 2008]\n",
    "films_2008[films_2008.profit == films_2008.profit.max()]['original_title']\n"
   ]
  },
  {
   "cell_type": "markdown",
   "metadata": {
    "colab_type": "text",
    "id": "Zi4hDKidVp_F"
   },
   "source": [
    "# 10. Самый убыточный фильм за период с 2012 по 2014 г. (включительно)?\n"
   ]
  },
  {
   "cell_type": "code",
   "execution_count": 145,
   "metadata": {
    "colab": {},
    "colab_type": "code",
    "id": "XqyRmufJVp_F"
   },
   "outputs": [],
   "source": [
    "answers['10'] = 'The Lone Ranger'\n",
    "# +"
   ]
  },
  {
   "cell_type": "code",
   "execution_count": 146,
   "metadata": {
    "pycharm": {
     "name": "#%%\n"
    }
   },
   "outputs": [
    {
     "data": {
      "text/plain": "1245    The Lone Ranger\nName: original_title, dtype: object"
     },
     "execution_count": 146,
     "metadata": {},
     "output_type": "execute_result"
    }
   ],
   "source": [
    "films_2012_to_2014 = data[(data.release_year >= 2012) & (data.release_year <= 2014)]\n",
    "films_2012_to_2014[films_2012_to_2014.profit == films_2012_to_2014.profit.min()]['original_title']\n",
    "\n"
   ]
  },
  {
   "cell_type": "markdown",
   "metadata": {
    "colab_type": "text",
    "id": "EA7Sa9dkVp_I"
   },
   "source": [
    "# 11. Какого жанра фильмов больше всего?"
   ]
  },
  {
   "cell_type": "code",
   "execution_count": 147,
   "metadata": {
    "pycharm": {
     "name": "#%%\n"
    }
   },
   "outputs": [],
   "source": [
    "answers['11'] = 'Drama'\n",
    "# +"
   ]
  },
  {
   "cell_type": "code",
   "execution_count": 148,
   "metadata": {
    "colab": {},
    "colab_type": "code",
    "id": "zsJAwJ8QVp_J"
   },
   "outputs": [
    {
     "data": {
      "text/plain": "genre\nDrama    782\nName: genre, dtype: int64"
     },
     "execution_count": 148,
     "metadata": {},
     "output_type": "execute_result"
    }
   ],
   "source": [
    "# эту задачу тоже можно решать разными подходами, попробуй реализовать разные варианты\n",
    "# если будешь добавлять функцию - выноси ее в предобработку что в начале\n",
    "g_count = genres_df.groupby('genre')['genre'].count()\n",
    "g_count[g_count == max(g_count)]"
   ]
  },
  {
   "cell_type": "markdown",
   "metadata": {},
   "source": [
    "ВАРИАНТ 2"
   ]
  },
  {
   "cell_type": "code",
   "execution_count": 149,
   "metadata": {
    "colab": {},
    "colab_type": "code",
    "id": "otO3SbrSVp_N"
   },
   "outputs": [
    {
     "data": {
      "text/plain": "          imdb_id  genre\ncount        5107   5107\nunique       1889     19\ntop     tt0287978  Drama\nfreq            5    782",
      "text/html": "<div>\n<style scoped>\n    .dataframe tbody tr th:only-of-type {\n        vertical-align: middle;\n    }\n\n    .dataframe tbody tr th {\n        vertical-align: top;\n    }\n\n    .dataframe thead th {\n        text-align: right;\n    }\n</style>\n<table border=\"1\" class=\"dataframe\">\n  <thead>\n    <tr style=\"text-align: right;\">\n      <th></th>\n      <th>imdb_id</th>\n      <th>genre</th>\n    </tr>\n  </thead>\n  <tbody>\n    <tr>\n      <th>count</th>\n      <td>5107</td>\n      <td>5107</td>\n    </tr>\n    <tr>\n      <th>unique</th>\n      <td>1889</td>\n      <td>19</td>\n    </tr>\n    <tr>\n      <th>top</th>\n      <td>tt0287978</td>\n      <td>Drama</td>\n    </tr>\n    <tr>\n      <th>freq</th>\n      <td>5</td>\n      <td>782</td>\n    </tr>\n  </tbody>\n</table>\n</div>"
     },
     "execution_count": 149,
     "metadata": {},
     "output_type": "execute_result"
    }
   ],
   "source": [
    "genres_df.describe()\n",
    "\n"
   ]
  },
  {
   "cell_type": "markdown",
   "metadata": {
    "colab_type": "text",
    "id": "T9_bPWpkVp_Q"
   },
   "source": [
    "# 12. Фильмы какого жанра чаще всего становятся прибыльными? "
   ]
  },
  {
   "cell_type": "code",
   "execution_count": 150,
   "metadata": {
    "pycharm": {
     "name": "#%%\n"
    }
   },
   "outputs": [],
   "source": [
    "answers['12'] = 'Drama'\n",
    "# +"
   ]
  },
  {
   "cell_type": "code",
   "execution_count": 151,
   "metadata": {
    "colab": {},
    "colab_type": "code",
    "id": "Tmt8MaK1Vp_R"
   },
   "outputs": [
    {
     "data": {
      "text/plain": "genre\nDrama    560\nName: profit, dtype: int64"
     },
     "execution_count": 151,
     "metadata": {},
     "output_type": "execute_result"
    }
   ],
   "source": [
    "c_count = genres_df.merge(data[data.profit > 0], on='imdb_id').groupby('genre')['profit'].count()\n",
    "c_count[c_count == max(c_count)]"
   ]
  },
  {
   "cell_type": "markdown",
   "metadata": {
    "colab_type": "text",
    "id": "0F23bgsDVp_U"
   },
   "source": [
    "# 13. У какого режиссера самые большие суммарные кассовые сбооры?"
   ]
  },
  {
   "cell_type": "code",
   "execution_count": 152,
   "metadata": {
    "pycharm": {
     "name": "#%%\n"
    }
   },
   "outputs": [],
   "source": [
    "answers['13'] = 'Peter Jackson'\n",
    "# +"
   ]
  },
  {
   "cell_type": "code",
   "execution_count": 153,
   "metadata": {
    "pycharm": {
     "name": "#%%\n"
    }
   },
   "outputs": [
    {
     "data": {
      "text/plain": "director\nPeter Jackson    5202593685\nName: profit, dtype: int64"
     },
     "execution_count": 153,
     "metadata": {},
     "output_type": "execute_result"
    }
   ],
   "source": [
    "profit_agg = data.groupby('director')['profit'].sum()\n",
    "profit_agg[profit_agg == max(profit_agg)]\n",
    "\n"
   ]
  },
  {
   "cell_type": "markdown",
   "metadata": {
    "colab_type": "text",
    "id": "PsYC9FgRVp_a"
   },
   "source": [
    "# 14. Какой режисер снял больше всего фильмов в стиле Action?"
   ]
  },
  {
   "cell_type": "code",
   "execution_count": 154,
   "metadata": {
    "pycharm": {
     "name": "#%%\n"
    }
   },
   "outputs": [],
   "source": [
    "answers['14'] = 'Robert Rodriguez'\n",
    "# +"
   ]
  },
  {
   "cell_type": "code",
   "execution_count": 155,
   "metadata": {
    "colab": {},
    "colab_type": "code",
    "id": "wd2M-wHeVp_b"
   },
   "outputs": [
    {
     "data": {
      "text/plain": "director_1\nRobert Rodriguez    9\nName: director_1, dtype: int64"
     },
     "execution_count": 155,
     "metadata": {},
     "output_type": "execute_result"
    }
   ],
   "source": [
    "df = directors_df.merge(genres_df.merge(data, on='imdb_id'), on='imdb_id')\n",
    "dir_count = df[df.genre == 'Action'].groupby('director_1')['director_1'].count()\n",
    "dir_count[dir_count == max(dir_count)]"
   ]
  },
  {
   "cell_type": "markdown",
   "metadata": {
    "colab_type": "text",
    "id": "PQ0KciD7Vp_f"
   },
   "source": [
    "# 15. Фильмы с каким актером принесли самые высокие кассовые сборы в 2012 году?"
   ]
  },
  {
   "cell_type": "code",
   "execution_count": 156,
   "metadata": {
    "pycharm": {
     "name": "#%%\n"
    }
   },
   "outputs": [],
   "source": [
    "answers['15'] = 'Chris Hemsworth'\n",
    "# +"
   ]
  },
  {
   "cell_type": "code",
   "execution_count": 157,
   "metadata": {
    "colab": {},
    "colab_type": "code",
    "id": "aga62oeKVp_g"
   },
   "outputs": [
    {
     "data": {
      "text/plain": "0     Robert Downey Jr.\n1           Chris Evans\n2          Mark Ruffalo\n3       Chris Hemsworth\n4    Scarlett Johansson\nName: actor, dtype: object"
     },
     "execution_count": 157,
     "metadata": {},
     "output_type": "execute_result"
    }
   ],
   "source": [
    "df_2012 = data[data.release_year == 2012]\n",
    "df_2012_max = df_2012[df_2012.revenue == max(df_2012.revenue)]\n",
    "df = actors_df.merge(df_2012_max, on='imdb_id')\n",
    "df['actor']"
   ]
  },
  {
   "cell_type": "markdown",
   "metadata": {
    "colab_type": "text",
    "id": "mWHyyL7QVp_j"
   },
   "source": [
    "# 16. Какой актер снялся в большем количестве высокобюджетных фильмов?"
   ]
  },
  {
   "cell_type": "code",
   "execution_count": 158,
   "metadata": {
    "colab": {},
    "colab_type": "code",
    "id": "qQtmHKTFVp_k"
   },
   "outputs": [],
   "source": [
    "answers['16'] = 'Matt Damon'\n",
    "# +"
   ]
  },
  {
   "cell_type": "code",
   "execution_count": 159,
   "metadata": {
    "pycharm": {
     "name": "#%%\n"
    }
   },
   "outputs": [
    {
     "data": {
      "text/plain": "actor\nMatt Damon    18\nName: actor, dtype: int64"
     },
     "execution_count": 159,
     "metadata": {},
     "output_type": "execute_result"
    }
   ],
   "source": [
    "budget_mean = data.budget.mean()\n",
    "actor_count = actors_df.merge(data[data.budget > budget_mean], on='imdb_id')\\\n",
    "    .groupby('actor')['actor'].count()\n",
    "actor_count[actor_count == max(actor_count)]\n",
    "\n"
   ]
  },
  {
   "cell_type": "markdown",
   "metadata": {
    "colab_type": "text",
    "id": "NIh6AaW5Vp_n"
   },
   "source": [
    "# 17. В фильмах какого жанра больше всего снимался Nicolas Cage? "
   ]
  },
  {
   "cell_type": "code",
   "execution_count": 160,
   "metadata": {
    "colab": {},
    "colab_type": "code",
    "id": "H74SJDIBVp_n"
   },
   "outputs": [],
   "source": [
    "answers['17'] = 'Action'\n",
    "# +"
   ]
  },
  {
   "cell_type": "code",
   "execution_count": 161,
   "metadata": {
    "pycharm": {
     "name": "#%%\n"
    }
   },
   "outputs": [
    {
     "data": {
      "text/plain": "genre\nAction             17\nAdventure           7\nAnimation           3\nComedy              6\nCrime              10\nDrama              12\nFamily              3\nFantasy             8\nHistory             2\nHorror              1\nMystery             3\nRomance             1\nScience Fiction     4\nThriller           15\nWar                 1\nName: genre, dtype: int64"
     },
     "execution_count": 161,
     "metadata": {},
     "output_type": "execute_result"
    }
   ],
   "source": [
    "df_actors = actors_df.merge(data, on='imdb_id')\n",
    "df_actors[df_actors['actor'] == 'Nicolas Cage']\\\n",
    "    .merge(genres_df, on='imdb_id')\\\n",
    "    .groupby('genre')['genre'].count()\n"
   ]
  },
  {
   "cell_type": "markdown",
   "metadata": {
    "colab_type": "text",
    "id": "RqOmPRfWVp_q"
   },
   "source": [
    "# 18. Самый убыточный фильм от Paramount Pictures"
   ]
  },
  {
   "cell_type": "code",
   "execution_count": 162,
   "metadata": {
    "pycharm": {
     "name": "#%%\n"
    }
   },
   "outputs": [],
   "source": [
    "answers['18'] = 'K-19: The Widowmaker'\n",
    "# +"
   ]
  },
  {
   "cell_type": "code",
   "execution_count": 163,
   "metadata": {
    "colab": {},
    "colab_type": "code",
    "id": "9E_B0Y96Vp_r"
   },
   "outputs": [
    {
     "data": {
      "text/plain": "2998    K-19: The Widowmaker\nName: original_title, dtype: object"
     },
     "execution_count": 163,
     "metadata": {},
     "output_type": "execute_result"
    }
   ],
   "source": [
    "df_pr_c = production_companies_df.merge(data, on='imdb_id')\n",
    "df_pp = df_pr_c[df_pr_c['production_company'] == 'Paramount Pictures']\n",
    "df_pp[df_pp['profit'] == min(df_pp['profit'])]['original_title']"
   ]
  },
  {
   "cell_type": "markdown",
   "metadata": {
    "colab_type": "text",
    "id": "vS8Ur6ddVp_u"
   },
   "source": [
    "# 19. Какой год стал самым успешным по суммарным кассовым сборам?"
   ]
  },
  {
   "cell_type": "code",
   "execution_count": 164,
   "metadata": {
    "pycharm": {
     "name": "#%%\n"
    }
   },
   "outputs": [],
   "source": [
    "answers['19'] = '2015'\n",
    "# +"
   ]
  },
  {
   "cell_type": "code",
   "execution_count": 165,
   "metadata": {
    "colab": {},
    "colab_type": "code",
    "id": "Dnbt4GdIVp_v"
   },
   "outputs": [
    {
     "data": {
      "text/plain": "release_year\n2015    25449202382\nName: revenue, dtype: int64"
     },
     "execution_count": 165,
     "metadata": {},
     "output_type": "execute_result"
    }
   ],
   "source": [
    "sum_year = data.groupby('release_year')['revenue'].sum()\n",
    "sum_year[sum_year == max(sum_year)]"
   ]
  },
  {
   "cell_type": "markdown",
   "metadata": {
    "colab_type": "text",
    "id": "JAzJh4QAVp_z"
   },
   "source": [
    "# 20. Какой самый прибыльный год для студии Warner Bros?"
   ]
  },
  {
   "cell_type": "code",
   "execution_count": 166,
   "metadata": {
    "colab": {},
    "colab_type": "code",
    "id": "wgVu02DEVp_0"
   },
   "outputs": [],
   "source": [
    "answers['20'] = '2014'\n",
    "# +"
   ]
  },
  {
   "cell_type": "code",
   "execution_count": 167,
   "metadata": {
    "pycharm": {
     "name": "#%%\n"
    }
   },
   "outputs": [
    {
     "data": {
      "text/plain": "release_year\n2014    2295464519\nName: profit, dtype: int64"
     },
     "execution_count": 167,
     "metadata": {},
     "output_type": "execute_result"
    }
   ],
   "source": [
    "wb_column = data.production_companies.apply(lambda x: True if 'Warner Bros' in x else False)\n",
    "data['Warner Bros'] = wb_column\n",
    "wb_df = data[data['Warner Bros'] == True]\n",
    "wb_years = wb_df.groupby('release_year')['profit'].sum()\n",
    "wb_years[wb_years == max(wb_years)]"
   ]
  },
  {
   "cell_type": "markdown",
   "metadata": {
    "colab_type": "text",
    "id": "8Im1S2HRVp_4"
   },
   "source": [
    "# 21. В каком месяце за все годы суммарно вышло больше всего фильмов?"
   ]
  },
  {
   "cell_type": "code",
   "execution_count": 168,
   "metadata": {
    "colab": {},
    "colab_type": "code",
    "id": "lev6TH7gVp_4"
   },
   "outputs": [],
   "source": [
    "answers['21'] = 'Сентябрь'\n",
    "# +"
   ]
  },
  {
   "cell_type": "code",
   "execution_count": 169,
   "metadata": {
    "pycharm": {
     "name": "#%%\n"
    }
   },
   "outputs": [
    {
     "data": {
      "text/plain": "release_month\n9    227\nName: release_month, dtype: int64"
     },
     "execution_count": 169,
     "metadata": {},
     "output_type": "execute_result"
    }
   ],
   "source": [
    "months = data.release_date.apply(lambda x: int(str(x).split('/')[0]))\n",
    "data['release_month'] = months\n",
    "months_count = data.groupby('release_month')['release_month'].count()\n",
    "months_count[months_count == max(months_count)]\n"
   ]
  },
  {
   "cell_type": "markdown",
   "metadata": {
    "colab_type": "text",
    "id": "uAJsZ_NeVp_7"
   },
   "source": [
    "# 22. Сколько суммарно вышло фильмов летом? (за июнь, июль, август)"
   ]
  },
  {
   "cell_type": "code",
   "execution_count": 170,
   "metadata": {
    "colab": {},
    "colab_type": "code",
    "id": "Aa-hEREoVp_8"
   },
   "outputs": [],
   "source": [
    "answers['22'] = '450'\n",
    "# +"
   ]
  },
  {
   "cell_type": "code",
   "execution_count": 171,
   "metadata": {
    "pycharm": {
     "name": "#%%\n"
    }
   },
   "outputs": [
    {
     "data": {
      "text/plain": "450"
     },
     "execution_count": 171,
     "metadata": {},
     "output_type": "execute_result"
    }
   ],
   "source": [
    "months = data.release_date.apply(lambda x: int(str(x).split('/')[0]))\n",
    "data['release_month'] = months\n",
    "months_count = data[(data['release_month'] >= 6) & (data['release_month'] <= 8)].groupby('release_month')['release_month'].count()\n",
    "sum(months_count)\n"
   ]
  },
  {
   "cell_type": "markdown",
   "metadata": {
    "colab_type": "text",
    "id": "G94ppOY1VqAA"
   },
   "source": [
    "# 23. Для какого режиссера зима – самое продуктивное время года? "
   ]
  },
  {
   "cell_type": "code",
   "execution_count": 172,
   "metadata": {
    "colab": {},
    "colab_type": "code",
    "id": "RhNTsamuVqAB"
   },
   "outputs": [],
   "source": [
    "answers['23'] = 'Peter Jackson'\n",
    "# +"
   ]
  },
  {
   "cell_type": "code",
   "execution_count": 173,
   "metadata": {
    "pycharm": {
     "name": "#%%\n"
    }
   },
   "outputs": [
    {
     "data": {
      "text/plain": "director_1\nPeter Jackson    7\nName: director_1, dtype: int64"
     },
     "execution_count": 173,
     "metadata": {},
     "output_type": "execute_result"
    }
   ],
   "source": [
    "months = data.release_date.apply(lambda x: int(str(x).split('/')[0]))\n",
    "data['release_month'] = months\n",
    "winter = data[(data['release_month'] >= 12) | (data['release_month'] <= 2)]\n",
    "df = directors_df.merge(winter, on='imdb_id')\n",
    "dir_count = df.groupby('director_1')['director_1'].count()\n",
    "dir_count[dir_count == max(dir_count)]"
   ]
  },
  {
   "cell_type": "markdown",
   "metadata": {
    "colab_type": "text",
    "id": "RBo0JVjVVqAF"
   },
   "source": [
    "# 24. Какая студия дает самые длинные названия своим фильмам по количеству символов?"
   ]
  },
  {
   "cell_type": "code",
   "execution_count": 174,
   "metadata": {
    "colab": {},
    "colab_type": "code",
    "id": "QRGS8L0iVqAG"
   },
   "outputs": [],
   "source": [
    "answers['24'] = 'Four By Two Productions'\n",
    "# +"
   ]
  },
  {
   "cell_type": "code",
   "execution_count": 175,
   "metadata": {
    "pycharm": {
     "name": "#%%\n"
    }
   },
   "outputs": [],
   "source": [
    "len_title = data['original_title'].apply(lambda x: len(x))\n",
    "data['len_title'] = len_title\n",
    "max_title = max(len_title)\n",
    "comp_max_title = data[data['len_title'] == max_title]['production_companies']"
   ]
  },
  {
   "cell_type": "code",
   "execution_count": 176,
   "metadata": {
    "pycharm": {
     "name": "#%%\n"
    }
   },
   "outputs": [
    {
     "data": {
      "text/plain": "1448    Twentieth Century Fox Film Corporation|Four By...\nName: production_companies, dtype: object"
     },
     "execution_count": 176,
     "metadata": {},
     "output_type": "execute_result"
    }
   ],
   "source": [
    "comp_max_title"
   ]
  },
  {
   "cell_type": "markdown",
   "metadata": {
    "colab_type": "text",
    "id": "9G0hbvR7VqAK"
   },
   "source": [
    "# 25. Описание фильмов какой студии в среднем самые длинные по количеству слов?"
   ]
  },
  {
   "cell_type": "code",
   "execution_count": 177,
   "metadata": {
    "colab": {},
    "colab_type": "code",
    "id": "Ge2GsLNxVqAK"
   },
   "outputs": [],
   "source": [
    "answers['25'] = 'Midnight Picture Show'\n",
    "# +"
   ]
  },
  {
   "cell_type": "code",
   "execution_count": 178,
   "metadata": {
    "pycharm": {
     "name": "#%%\n"
    }
   },
   "outputs": [
    {
     "data": {
      "text/plain": "711    Lions Gate Films|Lakeshore Entertainment|Green...\nName: production_companies, dtype: object"
     },
     "execution_count": 178,
     "metadata": {},
     "output_type": "execute_result"
    }
   ],
   "source": [
    "count_words = data['overview'].apply(lambda x: len(str(x).split()))\n",
    "data['count_words'] = count_words\n",
    "max_words = max(count_words)\n",
    "data[data['count_words'] == max_words]['production_companies']"
   ]
  },
  {
   "cell_type": "markdown",
   "metadata": {
    "colab_type": "text",
    "id": "FJ1AFt90VqAP"
   },
   "source": [
    "# 26. Какие фильмы входят в 1 процент лучших по рейтингу? \n",
    "по vote_average"
   ]
  },
  {
   "cell_type": "code",
   "execution_count": 179,
   "metadata": {
    "colab": {},
    "colab_type": "code",
    "id": "8qmJVq4CVqAQ"
   },
   "outputs": [],
   "source": [
    "answers['26'] = 'The Dark Knight,Interstellar,The Imitation Game,Inside Out,Room,The Wolf of Wall Street,Gone Girl,12 Years a Slave'\n",
    "# +"
   ]
  },
  {
   "cell_type": "code",
   "execution_count": 180,
   "metadata": {
    "pycharm": {
     "name": "#%%\n"
    }
   },
   "outputs": [
    {
     "data": {
      "text/plain": "599             The Dark Knight\n118                Interstellar\n125          The Imitation Game\n9                    Inside Out\n34                         Room\n1183    The Wolf of Wall Street\n128                   Gone Girl\n1191           12 Years a Slave\nName: original_title, dtype: object"
     },
     "execution_count": 180,
     "metadata": {},
     "output_type": "execute_result"
    }
   ],
   "source": [
    "#vote_average\n",
    "one_percent_films = int(len(data) / 100)\n",
    "data.sort_values('vote_average', ascending=False).head(8)['original_title']"
   ]
  },
  {
   "cell_type": "markdown",
   "metadata": {
    "colab_type": "text",
    "id": "MdXsUXbCVqAV"
   },
   "source": [
    "# 27. Какие актеры чаще всего снимаются в одном фильме вместе?"
   ]
  },
  {
   "cell_type": "code",
   "execution_count": 181,
   "metadata": {
    "pycharm": {
     "name": "#%%\n"
    }
   },
   "outputs": [],
   "source": [
    "answers['27'] = 'Daniel Radcliffe,Emma Watson'\n",
    "# +"
   ]
  },
  {
   "cell_type": "code",
   "execution_count": 182,
   "metadata": {
    "pycharm": {
     "name": "#%%\n"
    }
   },
   "outputs": [
    {
     "data": {
      "text/plain": "0       [Bryce Dallas Howard, Chris Pratt, Irrfan Khan...\n1       [Charlize Theron, Hugh Keays-Byrne, Josh Helma...\n2       [Ansel Elgort, Kate Winslet, Miles Teller, Sha...\n3       [Adam Driver, Carrie Fisher, Daisy Ridley, Har...\n4       [Dwayne Johnson, Jason Statham, Michelle Rodri...\n                              ...                        \n1884    [Famke Janssen, Halle Berry, Hugh Jackman, Ian...\n1885    [Alice Krige, Jim Carter, Jonathan Lipnicki, P...\n1886    [Jason Alexander, Piper Perabo, Randy Quaid, R...\n1887    [Adam Arkin, Diane Keaton, Lisa Kudrow, Meg Ry...\n1888    [Lori Heuring, Matthew Settle, Nathan Bexton, ...\nName: cast, Length: 1889, dtype: object"
     },
     "execution_count": 182,
     "metadata": {},
     "output_type": "execute_result"
    }
   ],
   "source": [
    "actors = data['cast'].apply(lambda x: sorted(str(x).split('|')))\n",
    "actors"
   ]
  },
  {
   "cell_type": "code",
   "execution_count": 183,
   "metadata": {
    "pycharm": {
     "name": "#%%\n"
    }
   },
   "outputs": [
    {
     "data": {
      "text/plain": "                        0                  1                         pairs\ncount               37736              37736                         37736\nunique               3406               3406                         17943\ntop     Samuel L. Jackson  Samuel L. Jackson  Daniel Radcliffe,Emma Watson\nfreq                  108                108                            16",
      "text/html": "<div>\n<style scoped>\n    .dataframe tbody tr th:only-of-type {\n        vertical-align: middle;\n    }\n\n    .dataframe tbody tr th {\n        vertical-align: top;\n    }\n\n    .dataframe thead th {\n        text-align: right;\n    }\n</style>\n<table border=\"1\" class=\"dataframe\">\n  <thead>\n    <tr style=\"text-align: right;\">\n      <th></th>\n      <th>0</th>\n      <th>1</th>\n      <th>pairs</th>\n    </tr>\n  </thead>\n  <tbody>\n    <tr>\n      <th>count</th>\n      <td>37736</td>\n      <td>37736</td>\n      <td>37736</td>\n    </tr>\n    <tr>\n      <th>unique</th>\n      <td>3406</td>\n      <td>3406</td>\n      <td>17943</td>\n    </tr>\n    <tr>\n      <th>top</th>\n      <td>Samuel L. Jackson</td>\n      <td>Samuel L. Jackson</td>\n      <td>Daniel Radcliffe,Emma Watson</td>\n    </tr>\n    <tr>\n      <th>freq</th>\n      <td>108</td>\n      <td>108</td>\n      <td>16</td>\n    </tr>\n  </tbody>\n</table>\n</div>"
     },
     "execution_count": 183,
     "metadata": {},
     "output_type": "execute_result"
    }
   ],
   "source": [
    "import itertools\n",
    "\n",
    "def join_sort(x):\n",
    "    local_list = list()\n",
    "    local_list.append(x[0])\n",
    "    local_list.append(x[1])\n",
    "    local_list = sorted(local_list)\n",
    "    return local_list[0] + ',' + local_list[1]\n",
    "\n",
    "all_actors = list()\n",
    "for actors_in_film in actors:\n",
    "    pairs = list(itertools.permutations(actors_in_film, 2))\n",
    "    all_actors.extend(pairs)\n",
    "act_df = pd.DataFrame(all_actors)\n",
    "act_df['pairs'] = act_df.apply(join_sort, axis=1)\n",
    "act_df.describe()\n"
   ]
  },
  {
   "cell_type": "code",
   "execution_count": 184,
   "metadata": {},
   "outputs": [
    {
     "data": {
      "text/plain": "                         0                    1  \\\n0      Bryce Dallas Howard          Chris Pratt   \n1      Bryce Dallas Howard          Irrfan Khan   \n2      Bryce Dallas Howard        Nick Robinson   \n3      Bryce Dallas Howard    Vincent D'Onofrio   \n4              Chris Pratt  Bryce Dallas Howard   \n...                    ...                  ...   \n37731           Susan Ward          Tess Harper   \n37732          Tess Harper         Lori Heuring   \n37733          Tess Harper       Matthew Settle   \n37734          Tess Harper        Nathan Bexton   \n37735          Tess Harper           Susan Ward   \n\n                                       pairs  \n0            Bryce Dallas Howard,Chris Pratt  \n1            Bryce Dallas Howard,Irrfan Khan  \n2          Bryce Dallas Howard,Nick Robinson  \n3      Bryce Dallas Howard,Vincent D'Onofrio  \n4            Bryce Dallas Howard,Chris Pratt  \n...                                      ...  \n37731                 Susan Ward,Tess Harper  \n37732               Lori Heuring,Tess Harper  \n37733             Matthew Settle,Tess Harper  \n37734              Nathan Bexton,Tess Harper  \n37735                 Susan Ward,Tess Harper  \n\n[37736 rows x 3 columns]",
      "text/html": "<div>\n<style scoped>\n    .dataframe tbody tr th:only-of-type {\n        vertical-align: middle;\n    }\n\n    .dataframe tbody tr th {\n        vertical-align: top;\n    }\n\n    .dataframe thead th {\n        text-align: right;\n    }\n</style>\n<table border=\"1\" class=\"dataframe\">\n  <thead>\n    <tr style=\"text-align: right;\">\n      <th></th>\n      <th>0</th>\n      <th>1</th>\n      <th>pairs</th>\n    </tr>\n  </thead>\n  <tbody>\n    <tr>\n      <th>0</th>\n      <td>Bryce Dallas Howard</td>\n      <td>Chris Pratt</td>\n      <td>Bryce Dallas Howard,Chris Pratt</td>\n    </tr>\n    <tr>\n      <th>1</th>\n      <td>Bryce Dallas Howard</td>\n      <td>Irrfan Khan</td>\n      <td>Bryce Dallas Howard,Irrfan Khan</td>\n    </tr>\n    <tr>\n      <th>2</th>\n      <td>Bryce Dallas Howard</td>\n      <td>Nick Robinson</td>\n      <td>Bryce Dallas Howard,Nick Robinson</td>\n    </tr>\n    <tr>\n      <th>3</th>\n      <td>Bryce Dallas Howard</td>\n      <td>Vincent D'Onofrio</td>\n      <td>Bryce Dallas Howard,Vincent D'Onofrio</td>\n    </tr>\n    <tr>\n      <th>4</th>\n      <td>Chris Pratt</td>\n      <td>Bryce Dallas Howard</td>\n      <td>Bryce Dallas Howard,Chris Pratt</td>\n    </tr>\n    <tr>\n      <th>...</th>\n      <td>...</td>\n      <td>...</td>\n      <td>...</td>\n    </tr>\n    <tr>\n      <th>37731</th>\n      <td>Susan Ward</td>\n      <td>Tess Harper</td>\n      <td>Susan Ward,Tess Harper</td>\n    </tr>\n    <tr>\n      <th>37732</th>\n      <td>Tess Harper</td>\n      <td>Lori Heuring</td>\n      <td>Lori Heuring,Tess Harper</td>\n    </tr>\n    <tr>\n      <th>37733</th>\n      <td>Tess Harper</td>\n      <td>Matthew Settle</td>\n      <td>Matthew Settle,Tess Harper</td>\n    </tr>\n    <tr>\n      <th>37734</th>\n      <td>Tess Harper</td>\n      <td>Nathan Bexton</td>\n      <td>Nathan Bexton,Tess Harper</td>\n    </tr>\n    <tr>\n      <th>37735</th>\n      <td>Tess Harper</td>\n      <td>Susan Ward</td>\n      <td>Susan Ward,Tess Harper</td>\n    </tr>\n  </tbody>\n</table>\n<p>37736 rows × 3 columns</p>\n</div>"
     },
     "execution_count": 184,
     "metadata": {},
     "output_type": "execute_result"
    }
   ],
   "source": [
    "act_df"
   ]
  },
  {
   "cell_type": "code",
   "execution_count": 184,
   "metadata": {
    "pycharm": {
     "name": "#%%\n"
    }
   },
   "outputs": [],
   "source": []
  },
  {
   "cell_type": "markdown",
   "metadata": {
    "colab_type": "text",
    "id": "4ymnxEVoVqAW"
   },
   "source": [
    "ВАРИАНТ 2"
   ]
  },
  {
   "cell_type": "markdown",
   "metadata": {
    "colab_type": "text",
    "id": "U0nONFnGVqAX"
   },
   "source": [
    "# Submission"
   ]
  },
  {
   "cell_type": "code",
   "execution_count": 185,
   "metadata": {
    "colab": {},
    "colab_type": "code",
    "id": "IfcaRO9-VqAX",
    "outputId": "0f132912-32bb-4196-c98c-abfbc4ad5a5f"
   },
   "outputs": [
    {
     "data": {
      "text/plain": "{'1': 'Pirates of the Caribbean: On Stranger Tides',\n '2': 'Gods and Generals',\n '3': 'Winnie the Pooh',\n '4': '109.6585494970884',\n '5': '107',\n '6': 'Avatar',\n '7': 'The Lone Ranger',\n '8': '1478',\n '9': 'The Dark Knight',\n '10': 'The Lone Ranger',\n '11': 'Drama',\n '12': 'Drama',\n '13': 'Peter Jackson',\n '14': 'Robert Rodriguez',\n '15': 'Chris Hemsworth',\n '16': 'Matt Damon',\n '17': 'Action',\n '18': 'K-19: The Widowmaker',\n '19': '2015',\n '20': '2014',\n '21': 'Сентябрь',\n '22': '450',\n '23': 'Peter Jackson',\n '24': 'Four By Two Productions',\n '25': 'Midnight Picture Show',\n '26': 'The Dark Knight,Interstellar,The Imitation Game,Inside Out,Room,The Wolf of Wall Street,Gone Girl,12 Years a Slave',\n '27': 'Daniel Radcliffe,Emma Watson'}"
     },
     "execution_count": 185,
     "metadata": {},
     "output_type": "execute_result"
    }
   ],
   "source": [
    "# в конце можно посмотреть свои ответы к каждому вопросу\n",
    "answers"
   ]
  },
  {
   "cell_type": "code",
   "execution_count": 186,
   "metadata": {
    "colab": {},
    "colab_type": "code",
    "id": "SiRmHPl8VqAd"
   },
   "outputs": [
    {
     "data": {
      "text/plain": "27"
     },
     "execution_count": 186,
     "metadata": {},
     "output_type": "execute_result"
    }
   ],
   "source": [
    "# и убедиться что ни чего не пропустил)\n",
    "len(answers)"
   ]
  },
  {
   "cell_type": "code",
   "execution_count": 186,
   "metadata": {
    "colab": {},
    "colab_type": "code",
    "id": "uCfuTkRbVqAg"
   },
   "outputs": [],
   "source": []
  },
  {
   "cell_type": "code",
   "execution_count": 186,
   "metadata": {
    "colab": {},
    "colab_type": "code",
    "id": "Vwx3NrkSVqAl"
   },
   "outputs": [],
   "source": []
  }
 ],
 "metadata": {
  "colab": {
   "name": "Copy of [SF-DST] Movies IMBD v4.1 TEMPLATE.ipynb",
   "provenance": []
  },
  "kernelspec": {
   "display_name": "Python 3",
   "language": "python",
   "name": "python3"
  },
  "language_info": {
   "codemirror_mode": {
    "name": "ipython",
    "version": 3
   },
   "file_extension": ".py",
   "mimetype": "text/x-python",
   "name": "python",
   "nbconvert_exporter": "python",
   "pygments_lexer": "ipython3",
   "version": "3.7.6"
  }
 },
 "nbformat": 4,
 "nbformat_minor": 1
}