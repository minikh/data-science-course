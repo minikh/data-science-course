{
 "cells": [
  {
   "cell_type": "markdown",
   "source": [
    "2.8. Итоговое задание\n",
    "Вас пригласили поучаствовать в одном из проектов UNICEF — международного подразделения ООН, чья миссия состоит в повышении уровня благополучия детей по всему миру.\n",
    "\n",
    "Суть проекта — отследить влияние условий жизни учащихся в возрасте от 15 до 22 лет на их успеваемость по математике, чтобы на ранней стадии выявлять студентов, находящихся в группе риска.\n",
    "\n",
    "И сделать это можно с помощью модели, которая предсказывала бы результаты госэкзамена по математике для каждого ученика школы (вот она, сила ML!). Чтобы определиться с параметрами будущей модели, проведите разведывательный анализ данных и составьте отчёт по его результатам.\n",
    "\n",
    "Ниже вы найдете пошаговую инструкцию по выполнению проекта."
   ],
   "metadata": {
    "collapsed": false
   }
  },
  {
   "cell_type": "markdown",
   "source": [
    "Описание датасета\n",
    "Посмотрим на переменные, которые содержит датасет:\n",
    "1 school — аббревиатура школы, в которой учится ученик\n",
    "\n",
    "2 sex — пол ученика ('F' - женский, 'M' - мужской)\n",
    "\n",
    "3 age — возраст ученика (от 15 до 22)\n",
    "\n",
    "4 address — тип адреса ученика ('U' - городской, 'R' - за городом)\n",
    "\n",
    "5 famsize — размер семьи('LE3' <= 3, 'GT3' >3)\n",
    "\n",
    "6 Pstatus — статус совместного жилья родителей ('T' - живут вместе 'A' - раздельно)\n",
    "\n",
    "7 Medu — образование матери (0 - нет, 1 - 4 класса, 2 - 5-9 классы, 3 - среднее специальное или 11 классов, 4 - высшее)\n",
    "\n",
    "8 Fedu — образование отца (0 - нет, 1 - 4 класса, 2 - 5-9 классы, 3 - среднее специальное или 11 классов, 4 - высшее)\n",
    "\n",
    "9 Mjob — работа матери ('teacher' - учитель, 'health' - сфера здравоохранения, 'services' - гос служба, 'at_home' - не работает, 'other' - другое)\n",
    "\n",
    "10 Fjob — работа отца ('teacher' - учитель, 'health' - сфера здравоохранения, 'services' - гос служба, 'at_home' - не работает, 'other' - другое)\n",
    "\n",
    "11 reason — причина выбора школы ('home' - близость к дому, 'reputation' - репутация школы, 'course' - образовательная программа, 'other' - другое)\n",
    "\n",
    "12 guardian — опекун ('mother' - мать, 'father' - отец, 'other' - другое)\n",
    "\n",
    "13 traveltime — время в пути до школы (1 - <15 мин., 2 - 15-30 мин., 3 - 30-60 мин., 4 - >60 мин.)\n",
    "\n",
    "14 studytime — время на учёбу помимо школы в неделю (1 - <2 часов, 2 - 2-5 часов, 3 - 5-10 часов, 4 - >10 часов)\n",
    "\n",
    "15 failures — количество внеучебных неудач (n, если 1<=n<=3, иначе 0)\n",
    "\n",
    "16 schoolsup — дополнительная образовательная поддержка (yes или no)\n",
    "\n",
    "17 famsup — семейная образовательная поддержка (yes или no)\n",
    "\n",
    "18 paid — дополнительные платные занятия по математике (yes или no)\n",
    "\n",
    "19 activities — дополнительные внеучебные занятия (yes или no)\n",
    "\n",
    "20 nursery — посещал детский сад (yes или no)\n",
    "\n",
    "21 higher — хочет получить высшее образование (yes или no)\n",
    "\n",
    "22 internet — наличие интернета дома (yes или no)\n",
    "\n",
    "23 romantic — в романтических отношениях (yes или no)\n",
    "\n",
    "24 famrel — семейные отношения (от 1 - очень плохо до 5 - очень хорошо)\n",
    "\n",
    "25 freetime — свободное время после школы (от 1 - очень мало до 5 - очень мого)\n",
    "\n",
    "26 goout — проведение времени с друзьями (от 1 - очень мало до 5 - очень много)\n",
    "\n",
    "27 health — текущее состояние здоровья (от 1 - очень плохо до 5 - очень хорошо)\n",
    "\n",
    "28 absences — количество пропущенных занятий\n",
    "\n",
    "29 score — баллы по госэкзамену по математике\n",
    "\n",
    "Рекомендации по выполнению проекта\n",
    "\n",
    "    Проведите первичную обработку данных. Так как данных много, стоит написать функции, которые можно применять к столбцам определённого типа.\n",
    "    Посмотрите на распределение признака для числовых переменных, устраните выбросы.\n",
    "    Оцените количество уникальных значений для номинативных переменных.\n",
    "    По необходимости преобразуйте данные\n",
    "    Проведите корреляционный анализ количественных переменных\n",
    "    Отберите не коррелирующие переменные.\n",
    "    Проанализируйте номинативные переменные и устраните те, которые не влияют на предсказываемую величину (в нашем случае — на переменную score).\n",
    "    Не забудьте сформулировать выводы относительно качества данных и тех переменных, которые вы будете использовать в дальнейшем построении модели."
   ],
   "metadata": {
    "collapsed": false,
    "pycharm": {
     "name": "#%% md\n"
    }
   }
  },
  {
   "cell_type": "code",
   "execution_count": null,
   "outputs": [],
   "source": [
    "# !conda install -c conda-forge jupyter_contrib_nbextensions"
   ],
   "metadata": {
    "collapsed": false,
    "pycharm": {
     "name": "#%%\n",
     "is_executing": true
    }
   }
  },
  {
   "cell_type": "code",
   "execution_count": null,
   "outputs": [],
   "source": [
    "# !pip install autopep8"
   ],
   "metadata": {
    "collapsed": false,
    "pycharm": {
     "name": "#%%\n",
     "is_executing": true
    }
   }
  },
  {
   "cell_type": "code",
   "execution_count": null,
   "outputs": [],
   "source": [
    "import pandas as pd\n",
    "import matplotlib.pyplot as plt\n",
    "import seaborn as sns\n",
    "from itertools import combinations\n",
    "from IPython.core.display import display\n",
    "from scipy.stats import ttest_ind\n",
    "\n",
    "pd.set_option('display.max_rows', 50) # показывать больше строк\n",
    "pd.set_option('display.max_columns', 50) # показывать больше колонок"
   ],
   "metadata": {
    "collapsed": false,
    "pycharm": {
     "name": "#%%\n",
     "is_executing": true
    }
   }
  },
  {
   "cell_type": "code",
   "execution_count": null,
   "outputs": [],
   "source": [
    "students = pd.read_csv('stud_math.csv')"
   ],
   "metadata": {
    "collapsed": false,
    "pycharm": {
     "name": "#%%\n",
     "is_executing": true
    }
   }
  },
  {
   "cell_type": "code",
   "execution_count": null,
   "outputs": [],
   "source": [
    "display(students.head(10))\n",
    "students.info()"
   ],
   "metadata": {
    "collapsed": false,
    "pycharm": {
     "name": "#%%\n",
     "is_executing": true
    }
   }
  },
  {
   "cell_type": "code",
   "execution_count": null,
   "outputs": [],
   "source": [
    "def print_column_info(column):\n",
    "    d_type = column.dtype\n",
    "    count = column.value_counts()\n",
    "    values = len(column)\n",
    "    uniq = column.unique()\n",
    "    print(f'Название колонки: {column.name}. \\nТип: {d_type}. '\n",
    "          f'\\nЗначений: \\n{count}. \\nВсего: {values} \\nУникальные значения: {uniq}')\n",
    "    print('-----')\n",
    "    return column"
   ],
   "metadata": {
    "collapsed": false,
    "pycharm": {
     "name": "#%%\n",
     "is_executing": true
    }
   }
  },
  {
   "cell_type": "code",
   "execution_count": null,
   "outputs": [],
   "source": [
    "for column_name in students.columns:\n",
    "    column = students[column_name]\n",
    "    students[column_name] = column.apply(lambda x: None if pd.isnull(x) or x == 'nan' else x)\n",
    "    print_column_info(students[column_name])"
   ],
   "metadata": {
    "collapsed": false,
    "pycharm": {
     "name": "#%%\n",
     "is_executing": true
    }
   }
  },
  {
   "cell_type": "markdown",
   "source": [
    "Видим, что в колонке \"score\" есть пропуски. Уберем эти строки из выборки, т.к. мы не сможем понять влияние условий жизни на успеваемость"
   ],
   "metadata": {
    "collapsed": false,
    "pycharm": {
     "name": "#%% md\n"
    }
   }
  },
  {
   "cell_type": "code",
   "execution_count": null,
   "outputs": [],
   "source": [
    "# students.score = students.score[students.score != None]\n",
    "students=students[pd.isnull(students.score) != True]"
   ],
   "metadata": {
    "collapsed": false,
    "pycharm": {
     "name": "#%%\n",
     "is_executing": true
    }
   }
  },
  {
   "cell_type": "code",
   "execution_count": null,
   "outputs": [],
   "source": [
    "students.age.hist(label = 'возраст ученика')\n",
    "students.age.describe()"
   ],
   "metadata": {
    "collapsed": false,
    "pycharm": {
     "name": "#%%\n",
     "is_executing": true
    }
   }
  },
  {
   "cell_type": "code",
   "execution_count": null,
   "outputs": [],
   "source": [
    "students.traveltime.hist(label = 'время в пути до школы')\n",
    "students.traveltime.describe()"
   ],
   "metadata": {
    "collapsed": false,
    "pycharm": {
     "name": "#%%\n",
     "is_executing": true
    }
   }
  },
  {
   "cell_type": "code",
   "execution_count": null,
   "outputs": [],
   "source": [
    "students.studytime.hist(label = 'время на учёбу помимо школы в неделю')\n",
    "students.studytime.describe()"
   ],
   "metadata": {
    "collapsed": false,
    "pycharm": {
     "name": "#%%\n",
     "is_executing": true
    }
   }
  },
  {
   "cell_type": "code",
   "execution_count": null,
   "outputs": [],
   "source": [
    "students.failures.hist(label = 'количество внеучебных неудач')\n",
    "students.failures.describe()"
   ],
   "metadata": {
    "collapsed": false,
    "pycharm": {
     "name": "#%%\n",
     "is_executing": true
    }
   }
  },
  {
   "cell_type": "code",
   "execution_count": null,
   "outputs": [],
   "source": [
    "students.famrel.hist(label = 'семейные отношения')\n",
    "students.famrel.describe()"
   ],
   "metadata": {
    "collapsed": false,
    "pycharm": {
     "name": "#%%\n",
     "is_executing": true
    }
   }
  },
  {
   "cell_type": "markdown",
   "source": [
    "-1 - выброс. делаем = 1"
   ],
   "metadata": {
    "collapsed": false,
    "pycharm": {
     "name": "#%% md\n"
    }
   }
  },
  {
   "cell_type": "code",
   "execution_count": null,
   "outputs": [],
   "source": [
    "students.famrel = students.famrel.apply(lambda x: 1 if x < 1 else x)"
   ],
   "metadata": {
    "collapsed": false,
    "pycharm": {
     "name": "#%%\n",
     "is_executing": true
    }
   }
  },
  {
   "cell_type": "code",
   "execution_count": null,
   "outputs": [],
   "source": [
    "students.freetime.hist(label = 'свободное время после школы')\n",
    "students.freetime.describe()"
   ],
   "metadata": {
    "collapsed": false,
    "pycharm": {
     "name": "#%%\n",
     "is_executing": true
    }
   }
  },
  {
   "cell_type": "code",
   "execution_count": null,
   "outputs": [],
   "source": [
    "students.goout.hist(label = 'проведение времени с друзьями')\n",
    "students.goout.describe()"
   ],
   "metadata": {
    "collapsed": false,
    "pycharm": {
     "name": "#%%\n",
     "is_executing": true
    }
   }
  },
  {
   "cell_type": "code",
   "execution_count": null,
   "outputs": [],
   "source": [
    "students.health.hist(label = 'текущее состояние здоровья')\n",
    "students.health.describe()"
   ],
   "metadata": {
    "collapsed": false,
    "pycharm": {
     "name": "#%%\n",
     "is_executing": true
    }
   }
  },
  {
   "cell_type": "code",
   "execution_count": null,
   "outputs": [],
   "source": [
    "students.absences.hist(label = 'количество пропущенных занятий')\n",
    "students.absences.describe()"
   ],
   "metadata": {
    "collapsed": false,
    "pycharm": {
     "name": "#%%\n",
     "is_executing": true
    }
   }
  },
  {
   "cell_type": "markdown",
   "source": [
    "Уберем выбросы"
   ],
   "metadata": {
    "collapsed": false,
    "pycharm": {
     "name": "#%% md\n"
    }
   }
  },
  {
   "cell_type": "code",
   "execution_count": null,
   "outputs": [],
   "source": [
    "median = students.absences.median()\n",
    "IQR = students.absences.quantile(0.75) - students.absences.quantile(0.25)\n",
    "perc25 = students.absences.quantile(0.25)\n",
    "perc75 = students.absences.quantile(0.75)\n",
    "print('25-й перцентиль: {},'.format(perc25), '75-й перцентиль: {},'.format(perc75)\n",
    "      , \"IQR: {}, \".format(IQR),\"Границы выбросов: [{f}, {l}].\".format(f=perc25 - 1.5*IQR, l=perc75 + 1.5*IQR))\n",
    "students.absences=students.absences.loc[students.absences.between(perc25 - 1.5*IQR, perc75 + 1.5*IQR)]\n",
    "students.absences.hist(bins = 16, label = 'IQR')\n",
    "# students.absences.loc[students.absences <= 100].hist(alpha = 0.5, bins = 16, range = (40, 100), label = 'Здравый смысл')\n",
    "plt.legend();"
   ],
   "metadata": {
    "collapsed": false,
    "pycharm": {
     "name": "#%%\n",
     "is_executing": true
    }
   }
  },
  {
   "cell_type": "code",
   "execution_count": null,
   "outputs": [],
   "source": [
    "students.absences.hist(label = 'количество пропущенных занятий')\n",
    "students.absences.describe()"
   ],
   "metadata": {
    "collapsed": false,
    "pycharm": {
     "name": "#%%\n",
     "is_executing": true
    }
   }
  },
  {
   "cell_type": "code",
   "execution_count": null,
   "outputs": [],
   "source": [
    "students.score.hist(label = ' баллы по госэкзамену по математике')\n",
    "students.score.describe()"
   ],
   "metadata": {
    "collapsed": false,
    "pycharm": {
     "name": "#%%\n",
     "is_executing": true
    }
   }
  },
  {
   "cell_type": "code",
   "source": [
    "display(students.head(10))\n",
    "students.info()"
   ],
   "metadata": {
    "collapsed": false,
    "pycharm": {
     "name": "#%%\n",
     "is_executing": true
    }
   },
   "execution_count": null,
   "outputs": []
  },
  {
   "cell_type": "markdown",
   "source": [
    "Образование матери"
   ],
   "metadata": {
    "collapsed": false,
    "pycharm": {
     "name": "#%% md\n"
    }
   }
  },
  {
   "cell_type": "code",
   "execution_count": null,
   "outputs": [],
   "source": [
    "students.Medu.hist(label = 'Образование матери')\n",
    "students.Medu.describe()"
   ],
   "metadata": {
    "collapsed": false,
    "pycharm": {
     "name": "#%%\n",
     "is_executing": true
    }
   }
  },
  {
   "cell_type": "markdown",
   "source": [
    "Образование отца"
   ],
   "metadata": {
    "collapsed": false
   }
  },
  {
   "cell_type": "code",
   "execution_count": null,
   "outputs": [],
   "source": [
    "students.Fedu.hist(label = 'Образование отца')\n",
    "students.Fedu.describe()"
   ],
   "metadata": {
    "collapsed": false,
    "pycharm": {
     "name": "#%%\n",
     "is_executing": true
    }
   }
  },
  {
   "cell_type": "markdown",
   "source": [
    "Есть выброс на 40, скорее всего это опечатка = 4.0\n",
    "Все что больше 10 делим на 10"
   ],
   "metadata": {
    "collapsed": false
   }
  },
  {
   "cell_type": "code",
   "execution_count": null,
   "outputs": [],
   "source": [
    "students.Fedu = students.Fedu.apply(lambda x: x/10 if x >= 10 else x)"
   ],
   "metadata": {
    "collapsed": false,
    "pycharm": {
     "name": "#%%\n",
     "is_executing": true
    }
   }
  },
  {
   "cell_type": "code",
   "execution_count": null,
   "outputs": [],
   "source": [
    "students.Fedu.hist(label = 'Образование отца')\n",
    "students.Fedu.describe()"
   ],
   "metadata": {
    "collapsed": false,
    "pycharm": {
     "name": "#%%\n",
     "is_executing": true
    }
   }
  },
  {
   "cell_type": "markdown",
   "source": [
    "Образование. Сводная гистограма"
   ],
   "metadata": {
    "collapsed": false,
    "pycharm": {
     "name": "#%% md\n"
    }
   }
  },
  {
   "cell_type": "code",
   "execution_count": null,
   "outputs": [],
   "source": [
    "students.Medu.hist(label = 'Образование матери')\n",
    "students.Fedu.hist(label = 'Образование отца', alpha = 0.5)\n",
    "students.Medu.describe()\n",
    "plt.legend()\n"
   ],
   "metadata": {
    "collapsed": false,
    "pycharm": {
     "name": "#%%\n",
     "is_executing": true
    }
   }
  },
  {
   "cell_type": "markdown",
   "source": [
    "Анализ номинативных переменных"
   ],
   "metadata": {
    "collapsed": false,
    "pycharm": {
     "name": "#%% md\n"
    }
   }
  },
  {
   "cell_type": "code",
   "execution_count": null,
   "outputs": [],
   "source": [
    "def get_boxplot(column):\n",
    "    fig, ax = plt.subplots(figsize = (14, 4))\n",
    "    sns.boxplot(x=column, y='score',\n",
    "                data=students.loc[students.loc[:, column].isin(students.loc[:, column].value_counts().index)],\n",
    "               ax=ax)\n",
    "    plt.xticks(rotation=45)\n",
    "    ax.set_title('Boxplot for ' + column)\n",
    "    plt.show()"
   ],
   "metadata": {
    "collapsed": false,
    "pycharm": {
     "name": "#%%\n",
     "is_executing": true
    }
   }
  },
  {
   "cell_type": "code",
   "execution_count": null,
   "outputs": [],
   "source": [
    "for column_name in students.columns:\n",
    "    col = students[column_name]\n",
    "    if col.dtype == 'object':\n",
    "        get_boxplot(column_name)\n"
   ],
   "metadata": {
    "collapsed": false,
    "pycharm": {
     "name": "#%%\n",
     "is_executing": true
    }
   }
  },
  {
   "cell_type": "markdown",
   "source": [
    "Не сильно влияет на оценку:\n",
    "название школы, пол, причина выбора школы,семейная образовательная поддержка,\n",
    " дополнительные платные занятия по математике,\n",
    "\n",
    "Городские ученики учатся лучше\n",
    "Размер семьи не сильно влияет\n",
    "Pstatus  - не сильно влияет\n",
    "Работа родителей оказывает влияние на оценку\n",
    "\n",
    "Если опекун не один из родителей, то ученик учится хуже\n",
    "дополнительная образовательная поддержка ухудшает оценку\n",
    "дополнительные внеучебные занятия - улучшают оценку\n",
    "посещал детский сад - улучшает оценку\n",
    "Желание получить высшее образование очень сильно повышает оценку\n",
    "наличие интернета дома - тоже повышает оценку\n",
    "романтические отношения немного мешают учебе\n",
    "\n",
    "Итого: Городские ученики, у которых родители имеют хорошую работу. Если ученик\n",
    "посещал детский сад, имеет дома интернет и есть желание получить высшее образование\n",
    "учатся лучше."
   ],
   "metadata": {
    "collapsed": false
   }
  },
  {
   "cell_type": "markdown",
   "source": [
    "Корреляционный анализ"
   ],
   "metadata": {
    "collapsed": false
   }
  },
  {
   "cell_type": "code",
   "execution_count": null,
   "outputs": [],
   "source": [
    "sns.pairplot(students, kind = 'reg')"
   ],
   "metadata": {
    "collapsed": false,
    "pycharm": {
     "name": "#%%\n",
     "is_executing": true
    }
   }
  },
  {
   "cell_type": "markdown",
   "source": [
    "Используем для наглядности матрицу корреляций:"
   ],
   "metadata": {
    "collapsed": false
   }
  },
  {
   "cell_type": "code",
   "execution_count": null,
   "outputs": [],
   "source": [
    "students.corr()\n",
    "\n"
   ],
   "metadata": {
    "collapsed": false,
    "pycharm": {
     "name": "#%%\n",
     "is_executing": true
    }
   }
  },
  {
   "cell_type": "markdown",
   "source": [
    "Видим, что образование матери и отца сильнее всего влияет на успеваемость,\n",
    "и образрвание матери влияет сильнее, чем отца\n",
    "Дальность от школы ухудшает успеваемость\n",
    "Дополнительные часы обучения так же повышают оценку\n",
    "а вот количество внеучебных неудач наоборот ухудшают успеваемость\n",
    "Семейные отношения и здоровье немного повышают успеваемость, а проведение времени с друзьями\n",
    "уменьшают"
   ],
   "metadata": {
    "collapsed": false,
    "pycharm": {
     "name": "#%% md\n"
    }
   }
  },
  {
   "cell_type": "markdown",
   "source": [
    "Данные в целом чистые, присутствуют небольшые выбросы и пропуски по успеваемости\n",
    "\n",
    "\n",
    "\n"
   ],
   "metadata": {
    "collapsed": false,
    "pycharm": {
     "name": "#%% md\n"
    }
   }
  }
 ],
 "metadata": {
  "kernelspec": {
   "name": "python3",
   "language": "python",
   "display_name": "Python 3"
  },
  "language_info": {
   "codemirror_mode": {
    "name": "ipython",
    "version": 2
   },
   "file_extension": ".py",
   "mimetype": "text/x-python",
   "name": "python",
   "nbconvert_exporter": "python",
   "pygments_lexer": "ipython2",
   "version": "2.7.6"
  }
 },
 "nbformat": 4,
 "nbformat_minor": 0
}