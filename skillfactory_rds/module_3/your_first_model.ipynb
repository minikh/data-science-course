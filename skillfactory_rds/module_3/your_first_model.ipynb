{
 "cells": [
  {
   "cell_type": "markdown",
   "metadata": {},
   "source": [
    "# Загрузка Pandas и очистка данных"
   ]
  },
  {
   "cell_type": "code",
   "execution_count": 231,
   "metadata": {},
   "outputs": [],
   "source": [
    "import pandas as pd"
   ]
  },
  {
   "cell_type": "code",
   "execution_count": 232,
   "metadata": {},
   "outputs": [],
   "source": [
    "df = pd.read_csv('main_task.csv')"
   ]
  },
  {
   "cell_type": "code",
   "execution_count": 233,
   "outputs": [
    {
     "name": "stdout",
     "output_type": "stream",
     "text": [
      "<class 'pandas.core.frame.DataFrame'>\n",
      "RangeIndex: 40000 entries, 0 to 39999\n",
      "Data columns (total 10 columns):\n",
      " #   Column             Non-Null Count  Dtype  \n",
      "---  ------             --------------  -----  \n",
      " 0   Restaurant_id      40000 non-null  object \n",
      " 1   City               40000 non-null  object \n",
      " 2   Cuisine Style      30717 non-null  object \n",
      " 3   Ranking            40000 non-null  float64\n",
      " 4   Rating             40000 non-null  float64\n",
      " 5   Price Range        26114 non-null  object \n",
      " 6   Number of Reviews  37457 non-null  float64\n",
      " 7   Reviews            40000 non-null  object \n",
      " 8   URL_TA             40000 non-null  object \n",
      " 9   ID_TA              40000 non-null  object \n",
      "dtypes: float64(3), object(7)\n",
      "memory usage: 3.1+ MB\n"
     ]
    }
   ],
   "source": [
    "df.info()"
   ],
   "metadata": {
    "collapsed": false,
    "pycharm": {
     "name": "#%%\n"
    }
   }
  },
  {
   "cell_type": "code",
   "execution_count": 234,
   "outputs": [
    {
     "data": {
      "text/plain": "  Restaurant_id       City                                      Cuisine Style  \\\n0       id_5569      Paris            ['European', 'French', 'International']   \n1       id_1535  Stockholm                                                NaN   \n2        id_352     London  ['Japanese', 'Sushi', 'Asian', 'Grill', 'Veget...   \n3       id_3456     Berlin                                                NaN   \n4        id_615     Munich  ['German', 'Central European', 'Vegetarian Fri...   \n\n   Ranking  Rating Price Range  Number of Reviews  \\\n0   5570.0     3.5    $$ - $$$              194.0   \n1   1537.0     4.0         NaN               10.0   \n2    353.0     4.5        $$$$              688.0   \n3   3458.0     5.0         NaN                3.0   \n4    621.0     4.0    $$ - $$$               84.0   \n\n                                             Reviews  \\\n0  [['Good food at your doorstep', 'A good hotel ...   \n1  [['Unique cuisine', 'Delicious Nepalese food']...   \n2  [['Catch up with friends', 'Not exceptional'],...   \n3                                           [[], []]   \n4  [['Best place to try a Bavarian food', 'Nice b...   \n\n                                              URL_TA     ID_TA  \n0  /Restaurant_Review-g187147-d1912643-Reviews-R_...  d1912643  \n1  /Restaurant_Review-g189852-d7992032-Reviews-Bu...  d7992032  \n2  /Restaurant_Review-g186338-d8632781-Reviews-RO...  d8632781  \n3  /Restaurant_Review-g187323-d1358776-Reviews-Es...  d1358776  \n4  /Restaurant_Review-g187309-d6864963-Reviews-Au...  d6864963  ",
      "text/html": "<div>\n<style scoped>\n    .dataframe tbody tr th:only-of-type {\n        vertical-align: middle;\n    }\n\n    .dataframe tbody tr th {\n        vertical-align: top;\n    }\n\n    .dataframe thead th {\n        text-align: right;\n    }\n</style>\n<table border=\"1\" class=\"dataframe\">\n  <thead>\n    <tr style=\"text-align: right;\">\n      <th></th>\n      <th>Restaurant_id</th>\n      <th>City</th>\n      <th>Cuisine Style</th>\n      <th>Ranking</th>\n      <th>Rating</th>\n      <th>Price Range</th>\n      <th>Number of Reviews</th>\n      <th>Reviews</th>\n      <th>URL_TA</th>\n      <th>ID_TA</th>\n    </tr>\n  </thead>\n  <tbody>\n    <tr>\n      <th>0</th>\n      <td>id_5569</td>\n      <td>Paris</td>\n      <td>['European', 'French', 'International']</td>\n      <td>5570.0</td>\n      <td>3.5</td>\n      <td>$$ - $$$</td>\n      <td>194.0</td>\n      <td>[['Good food at your doorstep', 'A good hotel ...</td>\n      <td>/Restaurant_Review-g187147-d1912643-Reviews-R_...</td>\n      <td>d1912643</td>\n    </tr>\n    <tr>\n      <th>1</th>\n      <td>id_1535</td>\n      <td>Stockholm</td>\n      <td>NaN</td>\n      <td>1537.0</td>\n      <td>4.0</td>\n      <td>NaN</td>\n      <td>10.0</td>\n      <td>[['Unique cuisine', 'Delicious Nepalese food']...</td>\n      <td>/Restaurant_Review-g189852-d7992032-Reviews-Bu...</td>\n      <td>d7992032</td>\n    </tr>\n    <tr>\n      <th>2</th>\n      <td>id_352</td>\n      <td>London</td>\n      <td>['Japanese', 'Sushi', 'Asian', 'Grill', 'Veget...</td>\n      <td>353.0</td>\n      <td>4.5</td>\n      <td>$$$$</td>\n      <td>688.0</td>\n      <td>[['Catch up with friends', 'Not exceptional'],...</td>\n      <td>/Restaurant_Review-g186338-d8632781-Reviews-RO...</td>\n      <td>d8632781</td>\n    </tr>\n    <tr>\n      <th>3</th>\n      <td>id_3456</td>\n      <td>Berlin</td>\n      <td>NaN</td>\n      <td>3458.0</td>\n      <td>5.0</td>\n      <td>NaN</td>\n      <td>3.0</td>\n      <td>[[], []]</td>\n      <td>/Restaurant_Review-g187323-d1358776-Reviews-Es...</td>\n      <td>d1358776</td>\n    </tr>\n    <tr>\n      <th>4</th>\n      <td>id_615</td>\n      <td>Munich</td>\n      <td>['German', 'Central European', 'Vegetarian Fri...</td>\n      <td>621.0</td>\n      <td>4.0</td>\n      <td>$$ - $$$</td>\n      <td>84.0</td>\n      <td>[['Best place to try a Bavarian food', 'Nice b...</td>\n      <td>/Restaurant_Review-g187309-d6864963-Reviews-Au...</td>\n      <td>d6864963</td>\n    </tr>\n  </tbody>\n</table>\n</div>"
     },
     "execution_count": 234,
     "metadata": {},
     "output_type": "execute_result"
    }
   ],
   "source": [
    "df.head()"
   ],
   "metadata": {
    "collapsed": false,
    "pycharm": {
     "name": "#%%\n"
    }
   }
  },
  {
   "cell_type": "code",
   "execution_count": 235,
   "outputs": [
    {
     "data": {
      "text/plain": "Restaurant_id            0\nCity                     0\nCuisine Style         9283\nRanking                  0\nRating                   0\nPrice Range          13886\nNumber of Reviews     2543\nReviews                  0\nURL_TA                   0\nID_TA                    0\ndtype: int64"
     },
     "execution_count": 235,
     "metadata": {},
     "output_type": "execute_result"
    }
   ],
   "source": [
    "df.isna().sum()"
   ],
   "metadata": {
    "collapsed": false,
    "pycharm": {
     "name": "#%%\n"
    }
   }
  },
  {
   "cell_type": "code",
   "execution_count": 236,
   "outputs": [
    {
     "data": {
      "text/plain": "True"
     },
     "execution_count": 236,
     "metadata": {},
     "output_type": "execute_result"
    }
   ],
   "source": [
    "# проверим что все id начинаются с d\n",
    "ids = df[df['ID_TA'].str.contains('d')]['ID_TA']\n",
    "len(ids) == len(df)"
   ],
   "metadata": {
    "collapsed": false,
    "pycharm": {
     "name": "#%%\n"
    }
   }
  },
  {
   "cell_type": "code",
   "execution_count": 237,
   "outputs": [
    {
     "name": "stdout",
     "output_type": "stream",
     "text": [
      "<class 'pandas.core.frame.DataFrame'>\n",
      "RangeIndex: 40000 entries, 0 to 39999\n",
      "Data columns (total 10 columns):\n",
      " #   Column             Non-Null Count  Dtype  \n",
      "---  ------             --------------  -----  \n",
      " 0   Restaurant_id      40000 non-null  object \n",
      " 1   City               40000 non-null  object \n",
      " 2   Cuisine Style      30717 non-null  object \n",
      " 3   Ranking            40000 non-null  float64\n",
      " 4   Rating             40000 non-null  float64\n",
      " 5   Price Range        26114 non-null  object \n",
      " 6   Number of Reviews  37457 non-null  float64\n",
      " 7   Reviews            40000 non-null  object \n",
      " 8   URL_TA             40000 non-null  object \n",
      " 9   ID_TA              40000 non-null  int64  \n",
      "dtypes: float64(3), int64(1), object(6)\n",
      "memory usage: 3.1+ MB\n"
     ]
    }
   ],
   "source": [
    "# оставим только числовую часть\n",
    "df['ID_TA'] = df['ID_TA'].apply(lambda x: int(x.replace('d', '')))\n",
    "df.info()"
   ],
   "metadata": {
    "collapsed": false,
    "pycharm": {
     "name": "#%%\n"
    }
   }
  },
  {
   "cell_type": "code",
   "execution_count": 238,
   "outputs": [
    {
     "data": {
      "text/plain": "True"
     },
     "execution_count": 238,
     "metadata": {},
     "output_type": "execute_result"
    }
   ],
   "source": [
    "ids = df[df['Restaurant_id'].str.contains('id_')]['Restaurant_id']\n",
    "len(ids) == len(df)"
   ],
   "metadata": {
    "collapsed": false,
    "pycharm": {
     "name": "#%% проверим что все id начинаются с id_\n"
    }
   }
  },
  {
   "cell_type": "code",
   "execution_count": 239,
   "outputs": [
    {
     "name": "stdout",
     "output_type": "stream",
     "text": [
      "<class 'pandas.core.frame.DataFrame'>\n",
      "RangeIndex: 40000 entries, 0 to 39999\n",
      "Data columns (total 10 columns):\n",
      " #   Column             Non-Null Count  Dtype  \n",
      "---  ------             --------------  -----  \n",
      " 0   Restaurant_id      40000 non-null  int64  \n",
      " 1   City               40000 non-null  object \n",
      " 2   Cuisine Style      30717 non-null  object \n",
      " 3   Ranking            40000 non-null  float64\n",
      " 4   Rating             40000 non-null  float64\n",
      " 5   Price Range        26114 non-null  object \n",
      " 6   Number of Reviews  37457 non-null  float64\n",
      " 7   Reviews            40000 non-null  object \n",
      " 8   URL_TA             40000 non-null  object \n",
      " 9   ID_TA              40000 non-null  int64  \n",
      "dtypes: float64(3), int64(2), object(5)\n",
      "memory usage: 3.1+ MB\n"
     ]
    }
   ],
   "source": [
    "# оставим только числовую часть\n",
    "df['Restaurant_id'] = df['Restaurant_id'].apply(lambda x: int(x.replace('id_', '')))\n",
    "df.info()"
   ],
   "metadata": {
    "collapsed": false,
    "pycharm": {
     "name": "#%%\n"
    }
   }
  },
  {
   "cell_type": "code",
   "execution_count": 240,
   "outputs": [
    {
     "name": "stdout",
     "output_type": "stream",
     "text": [
      "<class 'pandas.core.frame.DataFrame'>\n",
      "RangeIndex: 40000 entries, 0 to 39999\n",
      "Data columns (total 9 columns):\n",
      " #   Column             Non-Null Count  Dtype  \n",
      "---  ------             --------------  -----  \n",
      " 0   Restaurant_id      40000 non-null  int64  \n",
      " 1   City               40000 non-null  object \n",
      " 2   Cuisine Style      30717 non-null  object \n",
      " 3   Ranking            40000 non-null  float64\n",
      " 4   Rating             40000 non-null  float64\n",
      " 5   Price Range        26114 non-null  object \n",
      " 6   Number of Reviews  37457 non-null  float64\n",
      " 7   Reviews            40000 non-null  object \n",
      " 8   ID_TA              40000 non-null  int64  \n",
      "dtypes: float64(3), int64(2), object(4)\n",
      "memory usage: 2.7+ MB\n"
     ]
    }
   ],
   "source": [
    "df = df.drop(columns=['URL_TA'])\n",
    "df.info()"
   ],
   "metadata": {
    "collapsed": false,
    "pycharm": {
     "name": "#%% url скорее всего не нужен. удаляем\n"
    }
   }
  },
  {
   "cell_type": "code",
   "execution_count": 241,
   "outputs": [
    {
     "data": {
      "text/plain": "['Amsterdam',\n 'Athens',\n 'Barcelona',\n 'Berlin',\n 'Bratislava',\n 'Brussels',\n 'Budapest',\n 'Copenhagen',\n 'Dublin',\n 'Edinburgh',\n 'Geneva',\n 'Hamburg',\n 'Helsinki',\n 'Krakow',\n 'Lisbon',\n 'Ljubljana',\n 'London',\n 'Luxembourg',\n 'Lyon',\n 'Madrid',\n 'Milan',\n 'Munich',\n 'Oporto',\n 'Oslo',\n 'Paris',\n 'Prague',\n 'Rome',\n 'Stockholm',\n 'Vienna',\n 'Warsaw',\n 'Zurich']"
     },
     "execution_count": 241,
     "metadata": {},
     "output_type": "execute_result"
    }
   ],
   "source": [
    "sorted(df['City'].unique())"
   ],
   "metadata": {
    "collapsed": false,
    "pycharm": {
     "name": "#%% посмотрим на города\n"
    }
   }
  },
  {
   "cell_type": "code",
   "execution_count": 242,
   "outputs": [
    {
     "data": {
      "text/plain": "31"
     },
     "execution_count": 242,
     "metadata": {},
     "output_type": "execute_result"
    }
   ],
   "source": [
    "len(df['City'].unique())"
   ],
   "metadata": {
    "collapsed": false,
    "pycharm": {
     "name": "#%%\n"
    }
   }
  },
  {
   "cell_type": "code",
   "execution_count": 243,
   "outputs": [
    {
     "name": "stdout",
     "output_type": "stream",
     "text": [
      "<class 'pandas.core.frame.DataFrame'>\n",
      "RangeIndex: 40000 entries, 0 to 39999\n",
      "Data columns (total 39 columns):\n",
      " #   Column             Non-Null Count  Dtype  \n",
      "---  ------             --------------  -----  \n",
      " 0   Restaurant_id      40000 non-null  int64  \n",
      " 1   Cuisine Style      30717 non-null  object \n",
      " 2   Ranking            40000 non-null  float64\n",
      " 3   Rating             40000 non-null  float64\n",
      " 4   Price Range        26114 non-null  object \n",
      " 5   Number of Reviews  37457 non-null  float64\n",
      " 6   Reviews            40000 non-null  object \n",
      " 7   ID_TA              40000 non-null  int64  \n",
      " 8   City_Amsterdam     40000 non-null  uint8  \n",
      " 9   City_Athens        40000 non-null  uint8  \n",
      " 10  City_Barcelona     40000 non-null  uint8  \n",
      " 11  City_Berlin        40000 non-null  uint8  \n",
      " 12  City_Bratislava    40000 non-null  uint8  \n",
      " 13  City_Brussels      40000 non-null  uint8  \n",
      " 14  City_Budapest      40000 non-null  uint8  \n",
      " 15  City_Copenhagen    40000 non-null  uint8  \n",
      " 16  City_Dublin        40000 non-null  uint8  \n",
      " 17  City_Edinburgh     40000 non-null  uint8  \n",
      " 18  City_Geneva        40000 non-null  uint8  \n",
      " 19  City_Hamburg       40000 non-null  uint8  \n",
      " 20  City_Helsinki      40000 non-null  uint8  \n",
      " 21  City_Krakow        40000 non-null  uint8  \n",
      " 22  City_Lisbon        40000 non-null  uint8  \n",
      " 23  City_Ljubljana     40000 non-null  uint8  \n",
      " 24  City_London        40000 non-null  uint8  \n",
      " 25  City_Luxembourg    40000 non-null  uint8  \n",
      " 26  City_Lyon          40000 non-null  uint8  \n",
      " 27  City_Madrid        40000 non-null  uint8  \n",
      " 28  City_Milan         40000 non-null  uint8  \n",
      " 29  City_Munich        40000 non-null  uint8  \n",
      " 30  City_Oporto        40000 non-null  uint8  \n",
      " 31  City_Oslo          40000 non-null  uint8  \n",
      " 32  City_Paris         40000 non-null  uint8  \n",
      " 33  City_Prague        40000 non-null  uint8  \n",
      " 34  City_Rome          40000 non-null  uint8  \n",
      " 35  City_Stockholm     40000 non-null  uint8  \n",
      " 36  City_Vienna        40000 non-null  uint8  \n",
      " 37  City_Warsaw        40000 non-null  uint8  \n",
      " 38  City_Zurich        40000 non-null  uint8  \n",
      "dtypes: float64(3), int64(2), object(3), uint8(31)\n",
      "memory usage: 3.6+ MB\n"
     ]
    }
   ],
   "source": [
    "df = pd.get_dummies(df, columns=['City'])\n",
    "df.info()"
   ],
   "metadata": {
    "collapsed": false,
    "pycharm": {
     "name": "#%% делаем dummy колонк по городам\n"
    }
   }
  },
  {
   "cell_type": "code",
   "execution_count": 244,
   "outputs": [
    {
     "data": {
      "text/plain": "0                        [International, French, European]\n1                                                       []\n2        [GlutenFreeOptions, Japanese, Asian, VeganOpti...\n3                                                       []\n4            [German, VegetarianFriendly, CentralEuropean]\n                               ...                        \n39995    [Italian, VegetarianFriendly, GlutenFreeOption...\n39996    [French, Bar, American, VegetarianFriendly, Eu...\n39997                                    [Sushi, Japanese]\n39998    [CentralEuropean, EasternEuropean, VegetarianF...\n39999                                            [Spanish]\nName: Cuisine Style, Length: 40000, dtype: object"
     },
     "execution_count": 244,
     "metadata": {},
     "output_type": "execute_result"
    }
   ],
   "source": [
    "cuisines_as_list = df['Cuisine Style']\\\n",
    "    .apply(lambda x: str(x).replace('[', '')\n",
    "           .replace(']', '').replace(\"'\", '')\n",
    "           .replace(\" \", '').replace('nan', ''))\\\n",
    "    .apply(lambda x: list(set(x.split(','))))\n",
    "cuisines_as_list"
   ],
   "metadata": {
    "collapsed": false,
    "pycharm": {
     "name": "#%%\n"
    }
   }
  },
  {
   "cell_type": "code",
   "execution_count": 245,
   "outputs": [
    {
     "data": {
      "text/plain": "                                                                   0  \\\nRestaurant_id                                                   5569   \nCuisine Style                      [International, French, European]   \nRanking                                                         5570   \nRating                                                           3.5   \nPrice Range                                                 $$ - $$$   \nNumber of Reviews                                                194   \nReviews            [['Good food at your doorstep', 'A good hotel ...   \nID_TA                                                        1912643   \nCity_Amsterdam                                                     0   \nCity_Athens                                                        0   \nCity_Barcelona                                                     0   \nCity_Berlin                                                        0   \nCity_Bratislava                                                    0   \nCity_Brussels                                                      0   \nCity_Budapest                                                      0   \nCity_Copenhagen                                                    0   \nCity_Dublin                                                        0   \nCity_Edinburgh                                                     0   \nCity_Geneva                                                        0   \nCity_Hamburg                                                       0   \nCity_Helsinki                                                      0   \nCity_Krakow                                                        0   \nCity_Lisbon                                                        0   \nCity_Ljubljana                                                     0   \nCity_London                                                        0   \nCity_Luxembourg                                                    0   \nCity_Lyon                                                          0   \nCity_Madrid                                                        0   \nCity_Milan                                                         0   \nCity_Munich                                                        0   \nCity_Oporto                                                        0   \nCity_Oslo                                                          0   \nCity_Paris                                                         1   \nCity_Prague                                                        0   \nCity_Rome                                                          0   \nCity_Stockholm                                                     0   \nCity_Vienna                                                        0   \nCity_Warsaw                                                        0   \nCity_Zurich                                                        0   \n\n                                                                   1  \\\nRestaurant_id                                                   1535   \nCuisine Style                                                     []   \nRanking                                                         1537   \nRating                                                             4   \nPrice Range                                                      NaN   \nNumber of Reviews                                                 10   \nReviews            [['Unique cuisine', 'Delicious Nepalese food']...   \nID_TA                                                        7992032   \nCity_Amsterdam                                                     0   \nCity_Athens                                                        0   \nCity_Barcelona                                                     0   \nCity_Berlin                                                        0   \nCity_Bratislava                                                    0   \nCity_Brussels                                                      0   \nCity_Budapest                                                      0   \nCity_Copenhagen                                                    0   \nCity_Dublin                                                        0   \nCity_Edinburgh                                                     0   \nCity_Geneva                                                        0   \nCity_Hamburg                                                       0   \nCity_Helsinki                                                      0   \nCity_Krakow                                                        0   \nCity_Lisbon                                                        0   \nCity_Ljubljana                                                     0   \nCity_London                                                        0   \nCity_Luxembourg                                                    0   \nCity_Lyon                                                          0   \nCity_Madrid                                                        0   \nCity_Milan                                                         0   \nCity_Munich                                                        0   \nCity_Oporto                                                        0   \nCity_Oslo                                                          0   \nCity_Paris                                                         0   \nCity_Prague                                                        0   \nCity_Rome                                                          0   \nCity_Stockholm                                                     1   \nCity_Vienna                                                        0   \nCity_Warsaw                                                        0   \nCity_Zurich                                                        0   \n\n                                                                   2  \\\nRestaurant_id                                                    352   \nCuisine Style      [GlutenFreeOptions, Japanese, Asian, VeganOpti...   \nRanking                                                          353   \nRating                                                           4.5   \nPrice Range                                                     $$$$   \nNumber of Reviews                                                688   \nReviews            [['Catch up with friends', 'Not exceptional'],...   \nID_TA                                                        8632781   \nCity_Amsterdam                                                     0   \nCity_Athens                                                        0   \nCity_Barcelona                                                     0   \nCity_Berlin                                                        0   \nCity_Bratislava                                                    0   \nCity_Brussels                                                      0   \nCity_Budapest                                                      0   \nCity_Copenhagen                                                    0   \nCity_Dublin                                                        0   \nCity_Edinburgh                                                     0   \nCity_Geneva                                                        0   \nCity_Hamburg                                                       0   \nCity_Helsinki                                                      0   \nCity_Krakow                                                        0   \nCity_Lisbon                                                        0   \nCity_Ljubljana                                                     0   \nCity_London                                                        1   \nCity_Luxembourg                                                    0   \nCity_Lyon                                                          0   \nCity_Madrid                                                        0   \nCity_Milan                                                         0   \nCity_Munich                                                        0   \nCity_Oporto                                                        0   \nCity_Oslo                                                          0   \nCity_Paris                                                         0   \nCity_Prague                                                        0   \nCity_Rome                                                          0   \nCity_Stockholm                                                     0   \nCity_Vienna                                                        0   \nCity_Warsaw                                                        0   \nCity_Zurich                                                        0   \n\n                          3                                                  4  \nRestaurant_id          3456                                                615  \nCuisine Style            []      [German, VegetarianFriendly, CentralEuropean]  \nRanking                3458                                                621  \nRating                    5                                                  4  \nPrice Range             NaN                                           $$ - $$$  \nNumber of Reviews         3                                                 84  \nReviews            [[], []]  [['Best place to try a Bavarian food', 'Nice b...  \nID_TA               1358776                                            6864963  \nCity_Amsterdam            0                                                  0  \nCity_Athens               0                                                  0  \nCity_Barcelona            0                                                  0  \nCity_Berlin               1                                                  0  \nCity_Bratislava           0                                                  0  \nCity_Brussels             0                                                  0  \nCity_Budapest             0                                                  0  \nCity_Copenhagen           0                                                  0  \nCity_Dublin               0                                                  0  \nCity_Edinburgh            0                                                  0  \nCity_Geneva               0                                                  0  \nCity_Hamburg              0                                                  0  \nCity_Helsinki             0                                                  0  \nCity_Krakow               0                                                  0  \nCity_Lisbon               0                                                  0  \nCity_Ljubljana            0                                                  0  \nCity_London               0                                                  0  \nCity_Luxembourg           0                                                  0  \nCity_Lyon                 0                                                  0  \nCity_Madrid               0                                                  0  \nCity_Milan                0                                                  0  \nCity_Munich               0                                                  1  \nCity_Oporto               0                                                  0  \nCity_Oslo                 0                                                  0  \nCity_Paris                0                                                  0  \nCity_Prague               0                                                  0  \nCity_Rome                 0                                                  0  \nCity_Stockholm            0                                                  0  \nCity_Vienna               0                                                  0  \nCity_Warsaw               0                                                  0  \nCity_Zurich               0                                                  0  ",
      "text/html": "<div>\n<style scoped>\n    .dataframe tbody tr th:only-of-type {\n        vertical-align: middle;\n    }\n\n    .dataframe tbody tr th {\n        vertical-align: top;\n    }\n\n    .dataframe thead th {\n        text-align: right;\n    }\n</style>\n<table border=\"1\" class=\"dataframe\">\n  <thead>\n    <tr style=\"text-align: right;\">\n      <th></th>\n      <th>0</th>\n      <th>1</th>\n      <th>2</th>\n      <th>3</th>\n      <th>4</th>\n    </tr>\n  </thead>\n  <tbody>\n    <tr>\n      <th>Restaurant_id</th>\n      <td>5569</td>\n      <td>1535</td>\n      <td>352</td>\n      <td>3456</td>\n      <td>615</td>\n    </tr>\n    <tr>\n      <th>Cuisine Style</th>\n      <td>[International, French, European]</td>\n      <td>[]</td>\n      <td>[GlutenFreeOptions, Japanese, Asian, VeganOpti...</td>\n      <td>[]</td>\n      <td>[German, VegetarianFriendly, CentralEuropean]</td>\n    </tr>\n    <tr>\n      <th>Ranking</th>\n      <td>5570</td>\n      <td>1537</td>\n      <td>353</td>\n      <td>3458</td>\n      <td>621</td>\n    </tr>\n    <tr>\n      <th>Rating</th>\n      <td>3.5</td>\n      <td>4</td>\n      <td>4.5</td>\n      <td>5</td>\n      <td>4</td>\n    </tr>\n    <tr>\n      <th>Price Range</th>\n      <td>$$ - $$$</td>\n      <td>NaN</td>\n      <td>$$$$</td>\n      <td>NaN</td>\n      <td>$$ - $$$</td>\n    </tr>\n    <tr>\n      <th>Number of Reviews</th>\n      <td>194</td>\n      <td>10</td>\n      <td>688</td>\n      <td>3</td>\n      <td>84</td>\n    </tr>\n    <tr>\n      <th>Reviews</th>\n      <td>[['Good food at your doorstep', 'A good hotel ...</td>\n      <td>[['Unique cuisine', 'Delicious Nepalese food']...</td>\n      <td>[['Catch up with friends', 'Not exceptional'],...</td>\n      <td>[[], []]</td>\n      <td>[['Best place to try a Bavarian food', 'Nice b...</td>\n    </tr>\n    <tr>\n      <th>ID_TA</th>\n      <td>1912643</td>\n      <td>7992032</td>\n      <td>8632781</td>\n      <td>1358776</td>\n      <td>6864963</td>\n    </tr>\n    <tr>\n      <th>City_Amsterdam</th>\n      <td>0</td>\n      <td>0</td>\n      <td>0</td>\n      <td>0</td>\n      <td>0</td>\n    </tr>\n    <tr>\n      <th>City_Athens</th>\n      <td>0</td>\n      <td>0</td>\n      <td>0</td>\n      <td>0</td>\n      <td>0</td>\n    </tr>\n    <tr>\n      <th>City_Barcelona</th>\n      <td>0</td>\n      <td>0</td>\n      <td>0</td>\n      <td>0</td>\n      <td>0</td>\n    </tr>\n    <tr>\n      <th>City_Berlin</th>\n      <td>0</td>\n      <td>0</td>\n      <td>0</td>\n      <td>1</td>\n      <td>0</td>\n    </tr>\n    <tr>\n      <th>City_Bratislava</th>\n      <td>0</td>\n      <td>0</td>\n      <td>0</td>\n      <td>0</td>\n      <td>0</td>\n    </tr>\n    <tr>\n      <th>City_Brussels</th>\n      <td>0</td>\n      <td>0</td>\n      <td>0</td>\n      <td>0</td>\n      <td>0</td>\n    </tr>\n    <tr>\n      <th>City_Budapest</th>\n      <td>0</td>\n      <td>0</td>\n      <td>0</td>\n      <td>0</td>\n      <td>0</td>\n    </tr>\n    <tr>\n      <th>City_Copenhagen</th>\n      <td>0</td>\n      <td>0</td>\n      <td>0</td>\n      <td>0</td>\n      <td>0</td>\n    </tr>\n    <tr>\n      <th>City_Dublin</th>\n      <td>0</td>\n      <td>0</td>\n      <td>0</td>\n      <td>0</td>\n      <td>0</td>\n    </tr>\n    <tr>\n      <th>City_Edinburgh</th>\n      <td>0</td>\n      <td>0</td>\n      <td>0</td>\n      <td>0</td>\n      <td>0</td>\n    </tr>\n    <tr>\n      <th>City_Geneva</th>\n      <td>0</td>\n      <td>0</td>\n      <td>0</td>\n      <td>0</td>\n      <td>0</td>\n    </tr>\n    <tr>\n      <th>City_Hamburg</th>\n      <td>0</td>\n      <td>0</td>\n      <td>0</td>\n      <td>0</td>\n      <td>0</td>\n    </tr>\n    <tr>\n      <th>City_Helsinki</th>\n      <td>0</td>\n      <td>0</td>\n      <td>0</td>\n      <td>0</td>\n      <td>0</td>\n    </tr>\n    <tr>\n      <th>City_Krakow</th>\n      <td>0</td>\n      <td>0</td>\n      <td>0</td>\n      <td>0</td>\n      <td>0</td>\n    </tr>\n    <tr>\n      <th>City_Lisbon</th>\n      <td>0</td>\n      <td>0</td>\n      <td>0</td>\n      <td>0</td>\n      <td>0</td>\n    </tr>\n    <tr>\n      <th>City_Ljubljana</th>\n      <td>0</td>\n      <td>0</td>\n      <td>0</td>\n      <td>0</td>\n      <td>0</td>\n    </tr>\n    <tr>\n      <th>City_London</th>\n      <td>0</td>\n      <td>0</td>\n      <td>1</td>\n      <td>0</td>\n      <td>0</td>\n    </tr>\n    <tr>\n      <th>City_Luxembourg</th>\n      <td>0</td>\n      <td>0</td>\n      <td>0</td>\n      <td>0</td>\n      <td>0</td>\n    </tr>\n    <tr>\n      <th>City_Lyon</th>\n      <td>0</td>\n      <td>0</td>\n      <td>0</td>\n      <td>0</td>\n      <td>0</td>\n    </tr>\n    <tr>\n      <th>City_Madrid</th>\n      <td>0</td>\n      <td>0</td>\n      <td>0</td>\n      <td>0</td>\n      <td>0</td>\n    </tr>\n    <tr>\n      <th>City_Milan</th>\n      <td>0</td>\n      <td>0</td>\n      <td>0</td>\n      <td>0</td>\n      <td>0</td>\n    </tr>\n    <tr>\n      <th>City_Munich</th>\n      <td>0</td>\n      <td>0</td>\n      <td>0</td>\n      <td>0</td>\n      <td>1</td>\n    </tr>\n    <tr>\n      <th>City_Oporto</th>\n      <td>0</td>\n      <td>0</td>\n      <td>0</td>\n      <td>0</td>\n      <td>0</td>\n    </tr>\n    <tr>\n      <th>City_Oslo</th>\n      <td>0</td>\n      <td>0</td>\n      <td>0</td>\n      <td>0</td>\n      <td>0</td>\n    </tr>\n    <tr>\n      <th>City_Paris</th>\n      <td>1</td>\n      <td>0</td>\n      <td>0</td>\n      <td>0</td>\n      <td>0</td>\n    </tr>\n    <tr>\n      <th>City_Prague</th>\n      <td>0</td>\n      <td>0</td>\n      <td>0</td>\n      <td>0</td>\n      <td>0</td>\n    </tr>\n    <tr>\n      <th>City_Rome</th>\n      <td>0</td>\n      <td>0</td>\n      <td>0</td>\n      <td>0</td>\n      <td>0</td>\n    </tr>\n    <tr>\n      <th>City_Stockholm</th>\n      <td>0</td>\n      <td>1</td>\n      <td>0</td>\n      <td>0</td>\n      <td>0</td>\n    </tr>\n    <tr>\n      <th>City_Vienna</th>\n      <td>0</td>\n      <td>0</td>\n      <td>0</td>\n      <td>0</td>\n      <td>0</td>\n    </tr>\n    <tr>\n      <th>City_Warsaw</th>\n      <td>0</td>\n      <td>0</td>\n      <td>0</td>\n      <td>0</td>\n      <td>0</td>\n    </tr>\n    <tr>\n      <th>City_Zurich</th>\n      <td>0</td>\n      <td>0</td>\n      <td>0</td>\n      <td>0</td>\n      <td>0</td>\n    </tr>\n  </tbody>\n</table>\n</div>"
     },
     "execution_count": 245,
     "metadata": {},
     "output_type": "execute_result"
    }
   ],
   "source": [
    "df['Cuisine Style'] = cuisines_as_list\n",
    "df.head().T"
   ],
   "metadata": {
    "collapsed": false,
    "pycharm": {
     "name": "#%%\n"
    }
   }
  },
  {
   "cell_type": "code",
   "execution_count": 246,
   "outputs": [
    {
     "data": {
      "text/plain": "          Afghani  African  Albanian  American  Arabic  Argentinean  Armenian  \\\n0      0        0        0         0         0       0            0         0   \n1      1        0        0         0         0       0            0         0   \n2      0        0        0         0         0       0            0         0   \n3      1        0        0         0         0       0            0         0   \n4      0        0        0         0         0       0            0         0   \n...   ..      ...      ...       ...       ...     ...          ...       ...   \n39995  0        0        0         0         0       0            0         0   \n39996  0        0        0         0         1       0            0         0   \n39997  0        0        0         0         0       0            0         0   \n39998  0        0        0         0         0       0            0         0   \n39999  0        0        0         0         0       0            0         0   \n\n       Asian  Australian  ...  Ukrainian  Uzbek  VeganOptions  \\\n0          0           0  ...          0      0             0   \n1          0           0  ...          0      0             0   \n2          1           0  ...          0      0             1   \n3          0           0  ...          0      0             0   \n4          0           0  ...          0      0             0   \n...      ...         ...  ...        ...    ...           ...   \n39995      0           0  ...          0      0             1   \n39996      0           0  ...          0      0             0   \n39997      0           0  ...          0      0             0   \n39998      0           0  ...          0      0             0   \n39999      0           0  ...          0      0             0   \n\n       VegetarianFriendly  Venezuelan  Vietnamese  Welsh  WineBar  Xinjiang  \\\n0                       0           0           0      0        0         0   \n1                       0           0           0      0        0         0   \n2                       1           0           0      0        0         0   \n3                       0           0           0      0        0         0   \n4                       1           0           0      0        0         0   \n...                   ...         ...         ...    ...      ...       ...   \n39995                   1           0           0      0        0         0   \n39996                   1           0           0      0        0         0   \n39997                   0           0           0      0        0         0   \n39998                   1           0           0      0        0         0   \n39999                   0           0           0      0        0         0   \n\n       Yun  \n0        0  \n1        0  \n2        0  \n3        0  \n4        0  \n...    ...  \n39995    0  \n39996    0  \n39997    0  \n39998    0  \n39999    0  \n\n[40000 rows x 126 columns]",
      "text/html": "<div>\n<style scoped>\n    .dataframe tbody tr th:only-of-type {\n        vertical-align: middle;\n    }\n\n    .dataframe tbody tr th {\n        vertical-align: top;\n    }\n\n    .dataframe thead th {\n        text-align: right;\n    }\n</style>\n<table border=\"1\" class=\"dataframe\">\n  <thead>\n    <tr style=\"text-align: right;\">\n      <th></th>\n      <th></th>\n      <th>Afghani</th>\n      <th>African</th>\n      <th>Albanian</th>\n      <th>American</th>\n      <th>Arabic</th>\n      <th>Argentinean</th>\n      <th>Armenian</th>\n      <th>Asian</th>\n      <th>Australian</th>\n      <th>...</th>\n      <th>Ukrainian</th>\n      <th>Uzbek</th>\n      <th>VeganOptions</th>\n      <th>VegetarianFriendly</th>\n      <th>Venezuelan</th>\n      <th>Vietnamese</th>\n      <th>Welsh</th>\n      <th>WineBar</th>\n      <th>Xinjiang</th>\n      <th>Yun</th>\n    </tr>\n  </thead>\n  <tbody>\n    <tr>\n      <th>0</th>\n      <td>0</td>\n      <td>0</td>\n      <td>0</td>\n      <td>0</td>\n      <td>0</td>\n      <td>0</td>\n      <td>0</td>\n      <td>0</td>\n      <td>0</td>\n      <td>0</td>\n      <td>...</td>\n      <td>0</td>\n      <td>0</td>\n      <td>0</td>\n      <td>0</td>\n      <td>0</td>\n      <td>0</td>\n      <td>0</td>\n      <td>0</td>\n      <td>0</td>\n      <td>0</td>\n    </tr>\n    <tr>\n      <th>1</th>\n      <td>1</td>\n      <td>0</td>\n      <td>0</td>\n      <td>0</td>\n      <td>0</td>\n      <td>0</td>\n      <td>0</td>\n      <td>0</td>\n      <td>0</td>\n      <td>0</td>\n      <td>...</td>\n      <td>0</td>\n      <td>0</td>\n      <td>0</td>\n      <td>0</td>\n      <td>0</td>\n      <td>0</td>\n      <td>0</td>\n      <td>0</td>\n      <td>0</td>\n      <td>0</td>\n    </tr>\n    <tr>\n      <th>2</th>\n      <td>0</td>\n      <td>0</td>\n      <td>0</td>\n      <td>0</td>\n      <td>0</td>\n      <td>0</td>\n      <td>0</td>\n      <td>0</td>\n      <td>1</td>\n      <td>0</td>\n      <td>...</td>\n      <td>0</td>\n      <td>0</td>\n      <td>1</td>\n      <td>1</td>\n      <td>0</td>\n      <td>0</td>\n      <td>0</td>\n      <td>0</td>\n      <td>0</td>\n      <td>0</td>\n    </tr>\n    <tr>\n      <th>3</th>\n      <td>1</td>\n      <td>0</td>\n      <td>0</td>\n      <td>0</td>\n      <td>0</td>\n      <td>0</td>\n      <td>0</td>\n      <td>0</td>\n      <td>0</td>\n      <td>0</td>\n      <td>...</td>\n      <td>0</td>\n      <td>0</td>\n      <td>0</td>\n      <td>0</td>\n      <td>0</td>\n      <td>0</td>\n      <td>0</td>\n      <td>0</td>\n      <td>0</td>\n      <td>0</td>\n    </tr>\n    <tr>\n      <th>4</th>\n      <td>0</td>\n      <td>0</td>\n      <td>0</td>\n      <td>0</td>\n      <td>0</td>\n      <td>0</td>\n      <td>0</td>\n      <td>0</td>\n      <td>0</td>\n      <td>0</td>\n      <td>...</td>\n      <td>0</td>\n      <td>0</td>\n      <td>0</td>\n      <td>1</td>\n      <td>0</td>\n      <td>0</td>\n      <td>0</td>\n      <td>0</td>\n      <td>0</td>\n      <td>0</td>\n    </tr>\n    <tr>\n      <th>...</th>\n      <td>...</td>\n      <td>...</td>\n      <td>...</td>\n      <td>...</td>\n      <td>...</td>\n      <td>...</td>\n      <td>...</td>\n      <td>...</td>\n      <td>...</td>\n      <td>...</td>\n      <td>...</td>\n      <td>...</td>\n      <td>...</td>\n      <td>...</td>\n      <td>...</td>\n      <td>...</td>\n      <td>...</td>\n      <td>...</td>\n      <td>...</td>\n      <td>...</td>\n      <td>...</td>\n    </tr>\n    <tr>\n      <th>39995</th>\n      <td>0</td>\n      <td>0</td>\n      <td>0</td>\n      <td>0</td>\n      <td>0</td>\n      <td>0</td>\n      <td>0</td>\n      <td>0</td>\n      <td>0</td>\n      <td>0</td>\n      <td>...</td>\n      <td>0</td>\n      <td>0</td>\n      <td>1</td>\n      <td>1</td>\n      <td>0</td>\n      <td>0</td>\n      <td>0</td>\n      <td>0</td>\n      <td>0</td>\n      <td>0</td>\n    </tr>\n    <tr>\n      <th>39996</th>\n      <td>0</td>\n      <td>0</td>\n      <td>0</td>\n      <td>0</td>\n      <td>1</td>\n      <td>0</td>\n      <td>0</td>\n      <td>0</td>\n      <td>0</td>\n      <td>0</td>\n      <td>...</td>\n      <td>0</td>\n      <td>0</td>\n      <td>0</td>\n      <td>1</td>\n      <td>0</td>\n      <td>0</td>\n      <td>0</td>\n      <td>0</td>\n      <td>0</td>\n      <td>0</td>\n    </tr>\n    <tr>\n      <th>39997</th>\n      <td>0</td>\n      <td>0</td>\n      <td>0</td>\n      <td>0</td>\n      <td>0</td>\n      <td>0</td>\n      <td>0</td>\n      <td>0</td>\n      <td>0</td>\n      <td>0</td>\n      <td>...</td>\n      <td>0</td>\n      <td>0</td>\n      <td>0</td>\n      <td>0</td>\n      <td>0</td>\n      <td>0</td>\n      <td>0</td>\n      <td>0</td>\n      <td>0</td>\n      <td>0</td>\n    </tr>\n    <tr>\n      <th>39998</th>\n      <td>0</td>\n      <td>0</td>\n      <td>0</td>\n      <td>0</td>\n      <td>0</td>\n      <td>0</td>\n      <td>0</td>\n      <td>0</td>\n      <td>0</td>\n      <td>0</td>\n      <td>...</td>\n      <td>0</td>\n      <td>0</td>\n      <td>0</td>\n      <td>1</td>\n      <td>0</td>\n      <td>0</td>\n      <td>0</td>\n      <td>0</td>\n      <td>0</td>\n      <td>0</td>\n    </tr>\n    <tr>\n      <th>39999</th>\n      <td>0</td>\n      <td>0</td>\n      <td>0</td>\n      <td>0</td>\n      <td>0</td>\n      <td>0</td>\n      <td>0</td>\n      <td>0</td>\n      <td>0</td>\n      <td>0</td>\n      <td>...</td>\n      <td>0</td>\n      <td>0</td>\n      <td>0</td>\n      <td>0</td>\n      <td>0</td>\n      <td>0</td>\n      <td>0</td>\n      <td>0</td>\n      <td>0</td>\n      <td>0</td>\n    </tr>\n  </tbody>\n</table>\n<p>40000 rows × 126 columns</p>\n</div>"
     },
     "execution_count": 246,
     "metadata": {},
     "output_type": "execute_result"
    }
   ],
   "source": [
    "cuisines = pd.get_dummies(cuisines_as_list.apply(pd.Series).stack()).sum(level=0)\n",
    "cuisines"
   ],
   "metadata": {
    "collapsed": false,
    "pycharm": {
     "name": "#%% делаем dummy колонк по кухням\n"
    }
   }
  },
  {
   "cell_type": "code",
   "execution_count": 247,
   "outputs": [
    {
     "data": {
      "text/plain": "      Afghani  African  Albanian  American  Arabic  Argentinean  Armenian  \\\n0  0        0        0         0         0       0            0         0   \n1  1        0        0         0         0       0            0         0   \n2  0        0        0         0         0       0            0         0   \n3  1        0        0         0         0       0            0         0   \n4  0        0        0         0         0       0            0         0   \n\n   Asian  Australian  ...  Ukrainian  Uzbek  VeganOptions  VegetarianFriendly  \\\n0      0           0  ...          0      0             0                   0   \n1      0           0  ...          0      0             0                   0   \n2      1           0  ...          0      0             1                   1   \n3      0           0  ...          0      0             0                   0   \n4      0           0  ...          0      0             0                   1   \n\n   Venezuelan  Vietnamese  Welsh  WineBar  Xinjiang  Yun  \n0           0           0      0        0         0    0  \n1           0           0      0        0         0    0  \n2           0           0      0        0         0    0  \n3           0           0      0        0         0    0  \n4           0           0      0        0         0    0  \n\n[5 rows x 126 columns]",
      "text/html": "<div>\n<style scoped>\n    .dataframe tbody tr th:only-of-type {\n        vertical-align: middle;\n    }\n\n    .dataframe tbody tr th {\n        vertical-align: top;\n    }\n\n    .dataframe thead th {\n        text-align: right;\n    }\n</style>\n<table border=\"1\" class=\"dataframe\">\n  <thead>\n    <tr style=\"text-align: right;\">\n      <th></th>\n      <th></th>\n      <th>Afghani</th>\n      <th>African</th>\n      <th>Albanian</th>\n      <th>American</th>\n      <th>Arabic</th>\n      <th>Argentinean</th>\n      <th>Armenian</th>\n      <th>Asian</th>\n      <th>Australian</th>\n      <th>...</th>\n      <th>Ukrainian</th>\n      <th>Uzbek</th>\n      <th>VeganOptions</th>\n      <th>VegetarianFriendly</th>\n      <th>Venezuelan</th>\n      <th>Vietnamese</th>\n      <th>Welsh</th>\n      <th>WineBar</th>\n      <th>Xinjiang</th>\n      <th>Yun</th>\n    </tr>\n  </thead>\n  <tbody>\n    <tr>\n      <th>0</th>\n      <td>0</td>\n      <td>0</td>\n      <td>0</td>\n      <td>0</td>\n      <td>0</td>\n      <td>0</td>\n      <td>0</td>\n      <td>0</td>\n      <td>0</td>\n      <td>0</td>\n      <td>...</td>\n      <td>0</td>\n      <td>0</td>\n      <td>0</td>\n      <td>0</td>\n      <td>0</td>\n      <td>0</td>\n      <td>0</td>\n      <td>0</td>\n      <td>0</td>\n      <td>0</td>\n    </tr>\n    <tr>\n      <th>1</th>\n      <td>1</td>\n      <td>0</td>\n      <td>0</td>\n      <td>0</td>\n      <td>0</td>\n      <td>0</td>\n      <td>0</td>\n      <td>0</td>\n      <td>0</td>\n      <td>0</td>\n      <td>...</td>\n      <td>0</td>\n      <td>0</td>\n      <td>0</td>\n      <td>0</td>\n      <td>0</td>\n      <td>0</td>\n      <td>0</td>\n      <td>0</td>\n      <td>0</td>\n      <td>0</td>\n    </tr>\n    <tr>\n      <th>2</th>\n      <td>0</td>\n      <td>0</td>\n      <td>0</td>\n      <td>0</td>\n      <td>0</td>\n      <td>0</td>\n      <td>0</td>\n      <td>0</td>\n      <td>1</td>\n      <td>0</td>\n      <td>...</td>\n      <td>0</td>\n      <td>0</td>\n      <td>1</td>\n      <td>1</td>\n      <td>0</td>\n      <td>0</td>\n      <td>0</td>\n      <td>0</td>\n      <td>0</td>\n      <td>0</td>\n    </tr>\n    <tr>\n      <th>3</th>\n      <td>1</td>\n      <td>0</td>\n      <td>0</td>\n      <td>0</td>\n      <td>0</td>\n      <td>0</td>\n      <td>0</td>\n      <td>0</td>\n      <td>0</td>\n      <td>0</td>\n      <td>...</td>\n      <td>0</td>\n      <td>0</td>\n      <td>0</td>\n      <td>0</td>\n      <td>0</td>\n      <td>0</td>\n      <td>0</td>\n      <td>0</td>\n      <td>0</td>\n      <td>0</td>\n    </tr>\n    <tr>\n      <th>4</th>\n      <td>0</td>\n      <td>0</td>\n      <td>0</td>\n      <td>0</td>\n      <td>0</td>\n      <td>0</td>\n      <td>0</td>\n      <td>0</td>\n      <td>0</td>\n      <td>0</td>\n      <td>...</td>\n      <td>0</td>\n      <td>0</td>\n      <td>0</td>\n      <td>1</td>\n      <td>0</td>\n      <td>0</td>\n      <td>0</td>\n      <td>0</td>\n      <td>0</td>\n      <td>0</td>\n    </tr>\n  </tbody>\n</table>\n<p>5 rows × 126 columns</p>\n</div>"
     },
     "execution_count": 247,
     "metadata": {},
     "output_type": "execute_result"
    }
   ],
   "source": [
    "cuisines.head()"
   ],
   "metadata": {
    "collapsed": false,
    "pycharm": {
     "name": "#%%\n"
    }
   }
  },
  {
   "cell_type": "code",
   "execution_count": 248,
   "outputs": [
    {
     "data": {
      "text/plain": "2.622399999999999"
     },
     "execution_count": 248,
     "metadata": {},
     "output_type": "execute_result"
    }
   ],
   "source": [
    "#Какое среднее количество кухонь предлагается в одном ресторане?\n",
    "sum(cuisines.mean())"
   ],
   "metadata": {
    "collapsed": false,
    "pycharm": {
     "name": "#%%\n"
    }
   }
  },
  {
   "cell_type": "code",
   "execution_count": 249,
   "outputs": [
    {
     "data": {
      "text/plain": "VegetarianFriendly    11189\ndtype: int64"
     },
     "execution_count": 249,
     "metadata": {},
     "output_type": "execute_result"
    }
   ],
   "source": [
    "#Какая кухня представлена в наибольшем количестве ресторанов? Введите название кухни без кавычек или апострофов.\n",
    "c_sum = cuisines.apply(lambda x: sum(x))\n",
    "c_sum[c_sum == max(c_sum)]"
   ],
   "metadata": {
    "collapsed": false,
    "pycharm": {
     "name": "#%%\n"
    }
   }
  },
  {
   "cell_type": "code",
   "execution_count": 250,
   "outputs": [
    {
     "name": "stdout",
     "output_type": "stream",
     "text": [
      "<class 'pandas.core.frame.DataFrame'>\n",
      "RangeIndex: 40000 entries, 0 to 39999\n",
      "Columns: 164 entries, Restaurant_id to Yun\n",
      "dtypes: float64(3), int64(2), object(2), uint8(157)\n",
      "memory usage: 8.1+ MB\n"
     ]
    }
   ],
   "source": [
    "df = pd.concat([df, cuisines], axis=1)\n",
    "df = df.drop(columns=['Cuisine Style'])\n",
    "df.info()"
   ],
   "metadata": {
    "collapsed": false,
    "pycharm": {
     "name": "#%%\n"
    }
   }
  },
  {
   "cell_type": "code",
   "execution_count": 251,
   "outputs": [
    {
     "data": {
      "text/plain": "['Restaurant_id',\n 'Ranking',\n 'Rating',\n 'Price Range',\n 'Number of Reviews',\n 'Reviews',\n 'ID_TA',\n 'City_Amsterdam',\n 'City_Athens',\n 'City_Barcelona',\n 'City_Berlin',\n 'City_Bratislava',\n 'City_Brussels',\n 'City_Budapest',\n 'City_Copenhagen',\n 'City_Dublin',\n 'City_Edinburgh',\n 'City_Geneva',\n 'City_Hamburg',\n 'City_Helsinki',\n 'City_Krakow',\n 'City_Lisbon',\n 'City_Ljubljana',\n 'City_London',\n 'City_Luxembourg',\n 'City_Lyon',\n 'City_Madrid',\n 'City_Milan',\n 'City_Munich',\n 'City_Oporto',\n 'City_Oslo',\n 'City_Paris',\n 'City_Prague',\n 'City_Rome',\n 'City_Stockholm',\n 'City_Vienna',\n 'City_Warsaw',\n 'City_Zurich',\n '',\n 'Afghani',\n 'African',\n 'Albanian',\n 'American',\n 'Arabic',\n 'Argentinean',\n 'Armenian',\n 'Asian',\n 'Australian',\n 'Austrian',\n 'Azerbaijani',\n 'Balti',\n 'Bangladeshi',\n 'Bar',\n 'Barbecue',\n 'Belgian',\n 'Brazilian',\n 'BrewPub',\n 'British',\n 'Burmese',\n 'Cafe',\n 'Cajun&Creole',\n 'Cambodian',\n 'Canadian',\n 'Caribbean',\n 'Caucasian',\n 'CentralAmerican',\n 'CentralAsian',\n 'CentralEuropean',\n 'Chilean',\n 'Chinese',\n 'Colombian',\n 'Contemporary',\n 'Croatian',\n 'Cuban',\n 'Czech',\n 'Danish',\n 'Delicatessen',\n 'Diner',\n 'Dutch',\n 'EasternEuropean',\n 'Ecuadorean',\n 'Egyptian',\n 'Ethiopian',\n 'European',\n 'FastFood',\n 'Filipino',\n 'French',\n 'Fujian',\n 'Fusion',\n 'Gastropub',\n 'Georgian',\n 'German',\n 'GlutenFreeOptions',\n 'Greek',\n 'Grill',\n 'Halal',\n 'Hawaiian',\n 'Healthy',\n 'Hungarian',\n 'Indian',\n 'Indonesian',\n 'International',\n 'Irish',\n 'Israeli',\n 'Italian',\n 'Jamaican',\n 'Japanese',\n 'Korean',\n 'Kosher',\n 'Latin',\n 'Latvian',\n 'Lebanese',\n 'Malaysian',\n 'Mediterranean',\n 'Mexican',\n 'MiddleEastern',\n 'MinorityChinese',\n 'Mongolian',\n 'Moroccan',\n 'NativeAmerican',\n 'Nepali',\n 'NewZealand',\n 'Norwegian',\n 'Pakistani',\n 'Persian',\n 'Peruvian',\n 'Pizza',\n 'Polish',\n 'Polynesian',\n 'Portuguese',\n 'Pub',\n 'Romanian',\n 'Russian',\n 'Salvadoran',\n 'Scandinavian',\n 'Scottish',\n 'Seafood',\n 'Singaporean',\n 'Slovenian',\n 'Soups',\n 'SouthAmerican',\n 'Southwestern',\n 'Spanish',\n 'SriLankan',\n 'Steakhouse',\n 'StreetFood',\n 'Sushi',\n 'Swedish',\n 'Swiss',\n 'Taiwanese',\n 'Thai',\n 'Tibetan',\n 'Tunisian',\n 'Turkish',\n 'Ukrainian',\n 'Uzbek',\n 'VeganOptions',\n 'VegetarianFriendly',\n 'Venezuelan',\n 'Vietnamese',\n 'Welsh',\n 'WineBar',\n 'Xinjiang',\n 'Yun']"
     },
     "execution_count": 251,
     "metadata": {},
     "output_type": "execute_result"
    }
   ],
   "source": [
    "list(df.columns)"
   ],
   "metadata": {
    "collapsed": false,
    "pycharm": {
     "name": "#%%\n"
    }
   }
  },
  {
   "cell_type": "code",
   "execution_count": 252,
   "outputs": [
    {
     "data": {
      "text/plain": "array(['$$ - $$$', nan, '$$$$', '$'], dtype=object)"
     },
     "execution_count": 252,
     "metadata": {},
     "output_type": "execute_result"
    }
   ],
   "source": [
    "df['Price Range'].unique()"
   ],
   "metadata": {
    "collapsed": false,
    "pycharm": {
     "name": "#%%\n"
    }
   }
  },
  {
   "cell_type": "code",
   "execution_count": 253,
   "outputs": [
    {
     "data": {
      "text/plain": "0        $$ - $$$\n4        $$ - $$$\n11       $$ - $$$\n12       $$ - $$$\n13       $$ - $$$\n           ...   \n39994    $$ - $$$\n39995    $$ - $$$\n39996    $$ - $$$\n39998    $$ - $$$\n39999    $$ - $$$\nName: Price Range, Length: 18412, dtype: object"
     },
     "execution_count": 253,
     "metadata": {},
     "output_type": "execute_result"
    }
   ],
   "source": [
    "df[df['Price Range'] == '$$ - $$$']['Price Range']"
   ],
   "metadata": {
    "collapsed": false,
    "pycharm": {
     "name": "#%%\n"
    }
   }
  },
  {
   "cell_type": "code",
   "execution_count": 254,
   "outputs": [],
   "source": [
    "df['Number of Reviews'] = df['Number of Reviews'].fillna(0)"
   ],
   "metadata": {
    "collapsed": false,
    "pycharm": {
     "name": "#%%\n"
    }
   }
  },
  {
   "cell_type": "code",
   "execution_count": 255,
   "outputs": [
    {
     "data": {
      "text/plain": "array([\"[['Good food at your doorstep', 'A good hotel restaurant'], ['12/31/2017', '11/20/2017']]\",\n       \"[['Unique cuisine', 'Delicious Nepalese food'], ['07/06/2017', '06/19/2016']]\",\n       \"[['Catch up with friends', 'Not exceptional'], ['01/08/2018', '01/06/2018']]\",\n       ...,\n       \"[['Good by swedish standards', 'A hidden jewel in the middle of Västertorp...'], ['11/03/2016', '04/12/2008']]\",\n       \"[['Underground restaurant', 'Oldest Restaurant in Warsaw'], ['07/11/2017', '06/18/2017']]\",\n       \"[['Average', 'Nice an informal'], ['01/31/2016', '07/04/2012']]\"],\n      dtype=object)"
     },
     "execution_count": 255,
     "metadata": {},
     "output_type": "execute_result"
    }
   ],
   "source": [
    "df['Reviews'].unique()"
   ],
   "metadata": {
    "collapsed": false,
    "pycharm": {
     "name": "#%%\n"
    }
   }
  },
  {
   "cell_type": "code",
   "execution_count": 256,
   "outputs": [
    {
     "name": "stdout",
     "output_type": "stream",
     "text": [
      "<class 'pandas.core.frame.DataFrame'>\n",
      "RangeIndex: 40000 entries, 0 to 39999\n",
      "Columns: 164 entries, Restaurant_id to Yun\n",
      "dtypes: float64(3), int64(2), object(2), uint8(157)\n",
      "memory usage: 8.1+ MB\n"
     ]
    }
   ],
   "source": [
    "df.info()"
   ],
   "metadata": {
    "collapsed": false,
    "pycharm": {
     "name": "#%%\n"
    }
   }
  },
  {
   "cell_type": "code",
   "execution_count": 257,
   "outputs": [
    {
     "name": "stdout",
     "output_type": "stream",
     "text": [
      "<class 'pandas.core.frame.DataFrame'>\n",
      "RangeIndex: 40000 entries, 0 to 39999\n",
      "Columns: 162 entries, Restaurant_id to Yun\n",
      "dtypes: float64(3), int64(2), uint8(157)\n",
      "memory usage: 7.5 MB\n"
     ]
    }
   ],
   "source": [
    "df = df.drop(columns=['Price Range', 'Reviews'])\n",
    "df.info()"
   ],
   "metadata": {
    "collapsed": false,
    "pycharm": {
     "name": "#%%\n"
    }
   }
  },
  {
   "cell_type": "code",
   "execution_count": 258,
   "metadata": {},
   "outputs": [],
   "source": [
    "# Ваш код по очистке данных и генерации новых признаков\n",
    "# При необходимости добавьте ячейки"
   ]
  },
  {
   "cell_type": "code",
   "execution_count": 258,
   "metadata": {},
   "outputs": [],
   "source": []
  },
  {
   "cell_type": "markdown",
   "metadata": {},
   "source": [
    "# Разбиваем датафрейм на части, необходимые для обучения и тестирования модели"
   ]
  },
  {
   "cell_type": "code",
   "execution_count": 259,
   "metadata": {},
   "outputs": [],
   "source": [
    "# Х - данные с информацией о ресторанах, у - целевая переменная (рейтинги ресторанов)\n",
    "X = df.drop(['Restaurant_id', 'Rating'], axis = 1)\n",
    "y = df['Rating']"
   ]
  },
  {
   "cell_type": "code",
   "execution_count": 260,
   "metadata": {},
   "outputs": [],
   "source": [
    "# Загружаем специальный инструмент для разбивки:\n",
    "from sklearn.model_selection import train_test_split"
   ]
  },
  {
   "cell_type": "code",
   "execution_count": 261,
   "metadata": {},
   "outputs": [],
   "source": [
    "# Наборы данных с меткой \"train\" будут использоваться для обучения модели, \"test\" - для тестирования.\n",
    "# Для тестирования мы будем использовать 25% от исходного датасета.\n",
    "X_train, X_test, y_train, y_test = train_test_split(X, y, test_size=0.25)"
   ]
  },
  {
   "cell_type": "markdown",
   "metadata": {},
   "source": [
    "# Создаём, обучаем и тестируем модель"
   ]
  },
  {
   "cell_type": "code",
   "execution_count": 262,
   "metadata": {},
   "outputs": [],
   "source": [
    "# Импортируем необходимые библиотеки:\n",
    "from sklearn.ensemble import RandomForestRegressor # инструмент для создания и обучения модели\n",
    "from sklearn import metrics # инструменты для оценки точности модели"
   ]
  },
  {
   "cell_type": "code",
   "execution_count": 263,
   "metadata": {},
   "outputs": [],
   "source": [
    "# Создаём модель\n",
    "regr = RandomForestRegressor(n_estimators=100)\n",
    "\n",
    "# Обучаем модель на тестовом наборе данных\n",
    "regr.fit(X_train, y_train)\n",
    "\n",
    "# Используем обученную модель для предсказания рейтинга ресторанов в тестовой выборке.\n",
    "# Предсказанные значения записываем в переменную y_pred\n",
    "y_pred = regr.predict(X_test)"
   ]
  },
  {
   "cell_type": "code",
   "execution_count": 264,
   "metadata": {},
   "outputs": [
    {
     "name": "stdout",
     "output_type": "stream",
     "text": [
      "MAE: 0.21686999999999998\n"
     ]
    }
   ],
   "source": [
    "# Сравниваем предсказанные значения (y_pred) с реальными (y_test), и смотрим насколько они в среднем отличаются\n",
    "# Метрика называется Mean Absolute Error (MAE) и показывает среднее отклонение предсказанных значений от фактических.\n",
    "print('MAE:', metrics.mean_absolute_error(y_test, y_pred))\n",
    "\n",
    "\n",
    "#0.21492199999999997"
   ]
  }
 ],
 "metadata": {
  "kernelspec": {
   "display_name": "Python 3",
   "language": "python",
   "name": "python3"
  },
  "language_info": {
   "codemirror_mode": {
    "name": "ipython",
    "version": 3
   },
   "file_extension": ".py",
   "mimetype": "text/x-python",
   "name": "python",
   "nbconvert_exporter": "python",
   "pygments_lexer": "ipython3",
   "version": "3.7.1"
  }
 },
 "nbformat": 4,
 "nbformat_minor": 2
}