{
 "cells": [
  {
   "cell_type": "code",
   "execution_count": 7,
   "outputs": [],
   "source": [],
   "metadata": {
    "collapsed": false,
    "pycharm": {
     "name": "#%%\n"
    }
   }
  },
  {
   "cell_type": "code",
   "execution_count": 8,
   "outputs": [],
   "source": [
    "# ![](https://www.pata.org/wp-content/uploads/2014/09/TripAdvisor_Logo-300x119.png)\n",
    "# # Predict TripAdvisor Rating\n",
    "# ## В этом соревновании нам предстоит предсказать рейтинг ресторана в TripAdvisor\n",
    "# **По ходу задачи:**\n",
    "# * Прокачаем работу с pandas\n",
    "# * Научимся работать с Kaggle Notebooks\n",
    "# * Поймем как делать предобработку различных данных\n",
    "# * Научимся работать с пропущенными данными (Nan)\n",
    "# * Познакомимся с различными видами кодирования признаков\n",
    "# * Немного попробуем [Feature Engineering](https://ru.wikipedia.org/wiki/Конструирование_признаков) (генерировать новые признаки)\n",
    "# * И совсем немного затронем ML\n",
    "# * И многое другое...\n",
    "#\n",
    "#\n",
    "#\n",
    "# ### И самое важное, все это вы сможете сделать самостоятельно!\n",
    "#\n",
    "# *Этот Ноутбук являетсся Примером/Шаблоном к этому соревнованию (Baseline) и не служит готовым решением!*\n",
    "# Вы можете использовать его как основу для построения своего решения.\n",
    "#\n",
    "# > что такое baseline решение, зачем оно нужно и почему предоставлять baseline к соревнованию стало важным стандартом на kaggle и других площадках.\n",
    "# **baseline** создается больше как шаблон, где можно посмотреть как происходит обращение с входящими данными и что нужно получить на выходе. При этом МЛ начинка может быть достаточно простой, просто для примера. Это помогает быстрее приступить к самому МЛ, а не тратить ценное время на чисто инженерные задачи.\n",
    "# Также baseline являеться хорошей опорной точкой по метрике. Если твое решение хуже baseline - ты явно делаешь что-то не то и стоит попробовать другой путь)\n",
    "#\n",
    "# В контексте нашего соревнования baseline идет с небольшими примерами того, что можно делать с данными, и с инструкцией, что делать дальше, чтобы улучшить результат.  Вообще готовым решением это сложно назвать, так как используются всего 2 самых простых признака (а остальные исключаются)."
   ],
   "metadata": {
    "collapsed": false,
    "pycharm": {
     "name": "#%% [markdown]\n"
    }
   }
  },
  {
   "cell_type": "code",
   "execution_count": 9,
   "outputs": [],
   "source": [
    "# # import"
   ],
   "metadata": {
    "collapsed": false,
    "pycharm": {
     "name": "#%% [markdown]\n"
    }
   }
  },
  {
   "cell_type": "code",
   "execution_count": 10,
   "outputs": [
    {
     "name": "stdout",
     "output_type": "stream",
     "text": [
      "./input\\kaggle_task.csv\n",
      "./input\\main_task.csv\n",
      "./input\\sample_submission.csv\n"
     ]
    }
   ],
   "source": [
    "# This Python 3 environment comes with many helpful analytics libraries installed\n",
    "# It is defined by the kaggle/python docker image: https://github.com/kaggle/docker-python\n",
    "# For example, here's several helpful packages to load in\n",
    "\n",
    "from datetime import datetime\n",
    "import numpy as np # linear algebra\n",
    "import pandas as pd # data processing, CSV file I/O (e.g. pd.read_csv)\n",
    "\n",
    "import matplotlib.pyplot as plt\n",
    "import seaborn as sns\n",
    "%matplotlib inline\n",
    "\n",
    "# Загружаем специальный удобный инструмент для разделения датасета:\n",
    "from sklearn.model_selection import train_test_split\n",
    "\n",
    "# Input data files are available in the \"../input/\" directory.\n",
    "# For example, running this (by clicking run or pressing Shift+Enter) will list all files under the input directory\n",
    "\n",
    "import os\n",
    "for dirname, _, filenames in os.walk('./input'):\n",
    "    for filename in filenames:\n",
    "        print(os.path.join(dirname, filename))\n",
    "\n",
    "# Any results you write to the current directory are saved as output."
   ],
   "metadata": {
    "collapsed": false,
    "pycharm": {
     "name": "#%% [code]\n"
    }
   }
  },
  {
   "cell_type": "code",
   "execution_count": 11,
   "outputs": [],
   "source": [
    "# всегда фиксируйте RANDOM_SEED, чтобы ваши эксперименты были воспроизводимы!\n",
    "RANDOM_SEED = 42"
   ],
   "metadata": {
    "collapsed": false,
    "pycharm": {
     "name": "#%% [code]\n"
    }
   }
  },
  {
   "cell_type": "code",
   "execution_count": 12,
   "outputs": [],
   "source": [
    "# зафиксируем версию пакетов, чтобы эксперименты были воспроизводимы:\n",
    "!pip freeze > requirements.txt"
   ],
   "metadata": {
    "collapsed": false,
    "pycharm": {
     "name": "#%% [code]\n"
    }
   }
  },
  {
   "cell_type": "code",
   "execution_count": 13,
   "outputs": [],
   "source": [
    "# # DATA"
   ],
   "metadata": {
    "collapsed": false,
    "pycharm": {
     "name": "#%% [markdown]\n"
    }
   }
  },
  {
   "cell_type": "code",
   "execution_count": 14,
   "outputs": [],
   "source": [
    "DATA_DIR = 'input/'\n",
    "df_train = pd.read_csv(DATA_DIR+'/main_task.csv')\n",
    "df_test = pd.read_csv(DATA_DIR+'kaggle_task.csv')\n",
    "sample_submission = pd.read_csv(DATA_DIR+'/sample_submission.csv')"
   ],
   "metadata": {
    "collapsed": false,
    "pycharm": {
     "name": "#%% [code]\n"
    }
   }
  },
  {
   "cell_type": "code",
   "execution_count": 15,
   "outputs": [
    {
     "name": "stdout",
     "output_type": "stream",
     "text": [
      "<class 'pandas.core.frame.DataFrame'>\n",
      "RangeIndex: 40000 entries, 0 to 39999\n",
      "Data columns (total 10 columns):\n",
      " #   Column             Non-Null Count  Dtype  \n",
      "---  ------             --------------  -----  \n",
      " 0   Restaurant_id      40000 non-null  object \n",
      " 1   City               40000 non-null  object \n",
      " 2   Cuisine Style      30717 non-null  object \n",
      " 3   Ranking            40000 non-null  float64\n",
      " 4   Rating             40000 non-null  float64\n",
      " 5   Price Range        26114 non-null  object \n",
      " 6   Number of Reviews  37457 non-null  float64\n",
      " 7   Reviews            40000 non-null  object \n",
      " 8   URL_TA             40000 non-null  object \n",
      " 9   ID_TA              40000 non-null  object \n",
      "dtypes: float64(3), object(7)\n",
      "memory usage: 3.1+ MB\n"
     ]
    }
   ],
   "source": [
    "df_train.info()"
   ],
   "metadata": {
    "collapsed": false,
    "pycharm": {
     "name": "#%% [code]\n"
    }
   }
  },
  {
   "cell_type": "code",
   "execution_count": 16,
   "outputs": [
    {
     "data": {
      "text/plain": "  Restaurant_id       City                                      Cuisine Style  \\\n0       id_5569      Paris            ['European', 'French', 'International']   \n1       id_1535  Stockholm                                                NaN   \n2        id_352     London  ['Japanese', 'Sushi', 'Asian', 'Grill', 'Veget...   \n3       id_3456     Berlin                                                NaN   \n4        id_615     Munich  ['German', 'Central European', 'Vegetarian Fri...   \n\n   Ranking  Rating Price Range  Number of Reviews  \\\n0   5570.0     3.5    $$ - $$$              194.0   \n1   1537.0     4.0         NaN               10.0   \n2    353.0     4.5        $$$$              688.0   \n3   3458.0     5.0         NaN                3.0   \n4    621.0     4.0    $$ - $$$               84.0   \n\n                                             Reviews  \\\n0  [['Good food at your doorstep', 'A good hotel ...   \n1  [['Unique cuisine', 'Delicious Nepalese food']...   \n2  [['Catch up with friends', 'Not exceptional'],...   \n3                                           [[], []]   \n4  [['Best place to try a Bavarian food', 'Nice b...   \n\n                                              URL_TA     ID_TA  \n0  /Restaurant_Review-g187147-d1912643-Reviews-R_...  d1912643  \n1  /Restaurant_Review-g189852-d7992032-Reviews-Bu...  d7992032  \n2  /Restaurant_Review-g186338-d8632781-Reviews-RO...  d8632781  \n3  /Restaurant_Review-g187323-d1358776-Reviews-Es...  d1358776  \n4  /Restaurant_Review-g187309-d6864963-Reviews-Au...  d6864963  ",
      "text/html": "<div>\n<style scoped>\n    .dataframe tbody tr th:only-of-type {\n        vertical-align: middle;\n    }\n\n    .dataframe tbody tr th {\n        vertical-align: top;\n    }\n\n    .dataframe thead th {\n        text-align: right;\n    }\n</style>\n<table border=\"1\" class=\"dataframe\">\n  <thead>\n    <tr style=\"text-align: right;\">\n      <th></th>\n      <th>Restaurant_id</th>\n      <th>City</th>\n      <th>Cuisine Style</th>\n      <th>Ranking</th>\n      <th>Rating</th>\n      <th>Price Range</th>\n      <th>Number of Reviews</th>\n      <th>Reviews</th>\n      <th>URL_TA</th>\n      <th>ID_TA</th>\n    </tr>\n  </thead>\n  <tbody>\n    <tr>\n      <th>0</th>\n      <td>id_5569</td>\n      <td>Paris</td>\n      <td>['European', 'French', 'International']</td>\n      <td>5570.0</td>\n      <td>3.5</td>\n      <td>$$ - $$$</td>\n      <td>194.0</td>\n      <td>[['Good food at your doorstep', 'A good hotel ...</td>\n      <td>/Restaurant_Review-g187147-d1912643-Reviews-R_...</td>\n      <td>d1912643</td>\n    </tr>\n    <tr>\n      <th>1</th>\n      <td>id_1535</td>\n      <td>Stockholm</td>\n      <td>NaN</td>\n      <td>1537.0</td>\n      <td>4.0</td>\n      <td>NaN</td>\n      <td>10.0</td>\n      <td>[['Unique cuisine', 'Delicious Nepalese food']...</td>\n      <td>/Restaurant_Review-g189852-d7992032-Reviews-Bu...</td>\n      <td>d7992032</td>\n    </tr>\n    <tr>\n      <th>2</th>\n      <td>id_352</td>\n      <td>London</td>\n      <td>['Japanese', 'Sushi', 'Asian', 'Grill', 'Veget...</td>\n      <td>353.0</td>\n      <td>4.5</td>\n      <td>$$$$</td>\n      <td>688.0</td>\n      <td>[['Catch up with friends', 'Not exceptional'],...</td>\n      <td>/Restaurant_Review-g186338-d8632781-Reviews-RO...</td>\n      <td>d8632781</td>\n    </tr>\n    <tr>\n      <th>3</th>\n      <td>id_3456</td>\n      <td>Berlin</td>\n      <td>NaN</td>\n      <td>3458.0</td>\n      <td>5.0</td>\n      <td>NaN</td>\n      <td>3.0</td>\n      <td>[[], []]</td>\n      <td>/Restaurant_Review-g187323-d1358776-Reviews-Es...</td>\n      <td>d1358776</td>\n    </tr>\n    <tr>\n      <th>4</th>\n      <td>id_615</td>\n      <td>Munich</td>\n      <td>['German', 'Central European', 'Vegetarian Fri...</td>\n      <td>621.0</td>\n      <td>4.0</td>\n      <td>$$ - $$$</td>\n      <td>84.0</td>\n      <td>[['Best place to try a Bavarian food', 'Nice b...</td>\n      <td>/Restaurant_Review-g187309-d6864963-Reviews-Au...</td>\n      <td>d6864963</td>\n    </tr>\n  </tbody>\n</table>\n</div>"
     },
     "execution_count": 16,
     "metadata": {},
     "output_type": "execute_result"
    }
   ],
   "source": [
    "df_train.head(5)"
   ],
   "metadata": {
    "collapsed": false,
    "pycharm": {
     "name": "#%% [code]\n"
    }
   }
  },
  {
   "cell_type": "code",
   "execution_count": 17,
   "outputs": [
    {
     "name": "stdout",
     "output_type": "stream",
     "text": [
      "<class 'pandas.core.frame.DataFrame'>\n",
      "RangeIndex: 10000 entries, 0 to 9999\n",
      "Data columns (total 9 columns):\n",
      " #   Column             Non-Null Count  Dtype  \n",
      "---  ------             --------------  -----  \n",
      " 0   Restaurant_id      10000 non-null  object \n",
      " 1   City               10000 non-null  object \n",
      " 2   Cuisine Style      7693 non-null   object \n",
      " 3   Ranking            10000 non-null  float64\n",
      " 4   Price Range        6525 non-null   object \n",
      " 5   Number of Reviews  9343 non-null   float64\n",
      " 6   Reviews            9998 non-null   object \n",
      " 7   URL_TA             10000 non-null  object \n",
      " 8   ID_TA              10000 non-null  object \n",
      "dtypes: float64(2), object(7)\n",
      "memory usage: 703.2+ KB\n"
     ]
    }
   ],
   "source": [
    "df_test.info()"
   ],
   "metadata": {
    "collapsed": false,
    "pycharm": {
     "name": "#%% [code]\n"
    }
   }
  },
  {
   "cell_type": "code",
   "execution_count": 18,
   "outputs": [
    {
     "data": {
      "text/plain": "  Restaurant_id        City  \\\n0          id_0       Paris   \n1          id_1    Helsinki   \n2          id_2   Edinburgh   \n3          id_3      London   \n4          id_4  Bratislava   \n\n                                       Cuisine Style  Ranking Price Range  \\\n0                                     ['Bar', 'Pub']  12963.0    $$ - $$$   \n1  ['European', 'Scandinavian', 'Gluten Free Opti...    106.0    $$ - $$$   \n2                            ['Vegetarian Friendly']    810.0    $$ - $$$   \n3  ['Italian', 'Mediterranean', 'European', 'Vege...   1669.0        $$$$   \n4  ['Italian', 'Mediterranean', 'European', 'Seaf...     37.0        $$$$   \n\n   Number of Reviews                                            Reviews  \\\n0                4.0                                           [[], []]   \n1               97.0  [['Very good reviews!', 'Fine dining in Hakani...   \n2               28.0  [['Better than the Links', 'Ivy Black'], ['12/...   \n3              202.0  [['Most exquisite', 'Delicious and authentic']...   \n4              162.0  [['Always the best in bratislava', 'Very good ...   \n\n                                              URL_TA      ID_TA  \n0  /Restaurant_Review-g187147-d10746918-Reviews-L...  d10746918  \n1  /Restaurant_Review-g189934-d6674944-Reviews-Ra...   d6674944  \n2  /Restaurant_Review-g186525-d13129638-Reviews-B...  d13129638  \n3  /Restaurant_Review-g186338-d680417-Reviews-Qui...    d680417  \n4  /Restaurant_Review-g274924-d1112354-Reviews-Ma...   d1112354  ",
      "text/html": "<div>\n<style scoped>\n    .dataframe tbody tr th:only-of-type {\n        vertical-align: middle;\n    }\n\n    .dataframe tbody tr th {\n        vertical-align: top;\n    }\n\n    .dataframe thead th {\n        text-align: right;\n    }\n</style>\n<table border=\"1\" class=\"dataframe\">\n  <thead>\n    <tr style=\"text-align: right;\">\n      <th></th>\n      <th>Restaurant_id</th>\n      <th>City</th>\n      <th>Cuisine Style</th>\n      <th>Ranking</th>\n      <th>Price Range</th>\n      <th>Number of Reviews</th>\n      <th>Reviews</th>\n      <th>URL_TA</th>\n      <th>ID_TA</th>\n    </tr>\n  </thead>\n  <tbody>\n    <tr>\n      <th>0</th>\n      <td>id_0</td>\n      <td>Paris</td>\n      <td>['Bar', 'Pub']</td>\n      <td>12963.0</td>\n      <td>$$ - $$$</td>\n      <td>4.0</td>\n      <td>[[], []]</td>\n      <td>/Restaurant_Review-g187147-d10746918-Reviews-L...</td>\n      <td>d10746918</td>\n    </tr>\n    <tr>\n      <th>1</th>\n      <td>id_1</td>\n      <td>Helsinki</td>\n      <td>['European', 'Scandinavian', 'Gluten Free Opti...</td>\n      <td>106.0</td>\n      <td>$$ - $$$</td>\n      <td>97.0</td>\n      <td>[['Very good reviews!', 'Fine dining in Hakani...</td>\n      <td>/Restaurant_Review-g189934-d6674944-Reviews-Ra...</td>\n      <td>d6674944</td>\n    </tr>\n    <tr>\n      <th>2</th>\n      <td>id_2</td>\n      <td>Edinburgh</td>\n      <td>['Vegetarian Friendly']</td>\n      <td>810.0</td>\n      <td>$$ - $$$</td>\n      <td>28.0</td>\n      <td>[['Better than the Links', 'Ivy Black'], ['12/...</td>\n      <td>/Restaurant_Review-g186525-d13129638-Reviews-B...</td>\n      <td>d13129638</td>\n    </tr>\n    <tr>\n      <th>3</th>\n      <td>id_3</td>\n      <td>London</td>\n      <td>['Italian', 'Mediterranean', 'European', 'Vege...</td>\n      <td>1669.0</td>\n      <td>$$$$</td>\n      <td>202.0</td>\n      <td>[['Most exquisite', 'Delicious and authentic']...</td>\n      <td>/Restaurant_Review-g186338-d680417-Reviews-Qui...</td>\n      <td>d680417</td>\n    </tr>\n    <tr>\n      <th>4</th>\n      <td>id_4</td>\n      <td>Bratislava</td>\n      <td>['Italian', 'Mediterranean', 'European', 'Seaf...</td>\n      <td>37.0</td>\n      <td>$$$$</td>\n      <td>162.0</td>\n      <td>[['Always the best in bratislava', 'Very good ...</td>\n      <td>/Restaurant_Review-g274924-d1112354-Reviews-Ma...</td>\n      <td>d1112354</td>\n    </tr>\n  </tbody>\n</table>\n</div>"
     },
     "execution_count": 18,
     "metadata": {},
     "output_type": "execute_result"
    }
   ],
   "source": [
    "df_test.head(5)"
   ],
   "metadata": {
    "collapsed": false,
    "pycharm": {
     "name": "#%% [code]\n"
    }
   }
  },
  {
   "cell_type": "code",
   "execution_count": 19,
   "outputs": [
    {
     "data": {
      "text/plain": "  Restaurant_id  Rating\n0          id_0     2.0\n1          id_1     2.5\n2          id_2     4.0\n3          id_3     1.0\n4          id_4     4.0",
      "text/html": "<div>\n<style scoped>\n    .dataframe tbody tr th:only-of-type {\n        vertical-align: middle;\n    }\n\n    .dataframe tbody tr th {\n        vertical-align: top;\n    }\n\n    .dataframe thead th {\n        text-align: right;\n    }\n</style>\n<table border=\"1\" class=\"dataframe\">\n  <thead>\n    <tr style=\"text-align: right;\">\n      <th></th>\n      <th>Restaurant_id</th>\n      <th>Rating</th>\n    </tr>\n  </thead>\n  <tbody>\n    <tr>\n      <th>0</th>\n      <td>id_0</td>\n      <td>2.0</td>\n    </tr>\n    <tr>\n      <th>1</th>\n      <td>id_1</td>\n      <td>2.5</td>\n    </tr>\n    <tr>\n      <th>2</th>\n      <td>id_2</td>\n      <td>4.0</td>\n    </tr>\n    <tr>\n      <th>3</th>\n      <td>id_3</td>\n      <td>1.0</td>\n    </tr>\n    <tr>\n      <th>4</th>\n      <td>id_4</td>\n      <td>4.0</td>\n    </tr>\n  </tbody>\n</table>\n</div>"
     },
     "execution_count": 19,
     "metadata": {},
     "output_type": "execute_result"
    }
   ],
   "source": [
    "sample_submission.head(5)"
   ],
   "metadata": {
    "collapsed": false,
    "pycharm": {
     "name": "#%% [code]\n"
    }
   }
  },
  {
   "cell_type": "code",
   "execution_count": 20,
   "outputs": [
    {
     "name": "stdout",
     "output_type": "stream",
     "text": [
      "<class 'pandas.core.frame.DataFrame'>\n",
      "RangeIndex: 10000 entries, 0 to 9999\n",
      "Data columns (total 2 columns):\n",
      " #   Column         Non-Null Count  Dtype  \n",
      "---  ------         --------------  -----  \n",
      " 0   Restaurant_id  10000 non-null  object \n",
      " 1   Rating         10000 non-null  float64\n",
      "dtypes: float64(1), object(1)\n",
      "memory usage: 156.4+ KB\n"
     ]
    }
   ],
   "source": [
    "sample_submission.info()"
   ],
   "metadata": {
    "collapsed": false,
    "pycharm": {
     "name": "#%% [code]\n"
    }
   }
  },
  {
   "cell_type": "code",
   "execution_count": 21,
   "outputs": [],
   "source": [
    "# ВАЖНО! дря корректной обработки признаков объединяем трейн и тест в один датасет\n",
    "df_train['sample'] = 1 # помечаем где у нас трейн\n",
    "df_test['sample'] = 0 # помечаем где у нас тест\n",
    "df_test['Rating'] = 0 # в тесте у нас нет значения Rating, мы его должны предсказать, по этому пока просто заполняем нулями\n",
    "\n",
    "data = df_test.append(df_train, sort=False).reset_index(drop=True) # объединяем"
   ],
   "metadata": {
    "collapsed": false,
    "pycharm": {
     "name": "#%% [code]\n"
    }
   }
  },
  {
   "cell_type": "code",
   "execution_count": 22,
   "outputs": [
    {
     "name": "stdout",
     "output_type": "stream",
     "text": [
      "<class 'pandas.core.frame.DataFrame'>\n",
      "RangeIndex: 50000 entries, 0 to 49999\n",
      "Data columns (total 11 columns):\n",
      " #   Column             Non-Null Count  Dtype  \n",
      "---  ------             --------------  -----  \n",
      " 0   Restaurant_id      50000 non-null  object \n",
      " 1   City               50000 non-null  object \n",
      " 2   Cuisine Style      38410 non-null  object \n",
      " 3   Ranking            50000 non-null  float64\n",
      " 4   Price Range        32639 non-null  object \n",
      " 5   Number of Reviews  46800 non-null  float64\n",
      " 6   Reviews            49998 non-null  object \n",
      " 7   URL_TA             50000 non-null  object \n",
      " 8   ID_TA              50000 non-null  object \n",
      " 9   sample             50000 non-null  int64  \n",
      " 10  Rating             50000 non-null  float64\n",
      "dtypes: float64(3), int64(1), object(7)\n",
      "memory usage: 4.2+ MB\n"
     ]
    }
   ],
   "source": [
    "data.info()"
   ],
   "metadata": {
    "collapsed": false,
    "pycharm": {
     "name": "#%% [code]\n"
    }
   }
  },
  {
   "cell_type": "code",
   "execution_count": 23,
   "outputs": [],
   "source": [
    "# Подробнее по признакам:\n",
    "# * City: Город\n",
    "# * Cuisine Style: Кухня\n",
    "# * Ranking: Ранг ресторана относительно других ресторанов в этом городе\n",
    "# * Price Range: Цены в ресторане в 3 категориях\n",
    "# * Number of Reviews: Количество отзывов\n",
    "# * Reviews: 2 последних отзыва и даты этих отзывов\n",
    "# * URL_TA: страница ресторана на 'www.tripadvisor.com'\n",
    "# * ID_TA: ID ресторана в TripAdvisor\n",
    "# * Rating: Рейтинг ресторана"
   ],
   "metadata": {
    "collapsed": false,
    "pycharm": {
     "name": "#%% [markdown]\n"
    }
   }
  },
  {
   "cell_type": "code",
   "execution_count": 24,
   "outputs": [
    {
     "data": {
      "text/plain": "      Restaurant_id    City                               Cuisine Style  \\\n8484        id_8484  London  ['Cafe', 'British', 'Gluten Free Options']   \n43578      id_11734  London                                 ['Chinese']   \n33072       id_5224    Rome                                         NaN   \n17691        id_995  London                      ['Seafood', 'British']   \n17241       id_1706  Dublin                                ['Wine Bar']   \n\n       Ranking Price Range  Number of Reviews  \\\n8484    7948.0    $$ - $$$               80.0   \n43578  11744.0         NaN                5.0   \n33072   5225.0         NaN                3.0   \n17691    997.0           $              255.0   \n17241   1710.0    $$ - $$$               13.0   \n\n                                                 Reviews  \\\n8484   [['Amazing brunch, wonderful cakes, great cof....   \n43578  [['Saaaaaaaaaalty!', 'Wonderful place'], ['08/...   \n33072  [['Great Bar', 'Great Cafe and Snacks'], ['12/...   \n17691  [['reading Tripadvisor led me here', 'YOU SHOU...   \n17241  [['Fantastic', 'Awful experience!!!!'], ['07/1...   \n\n                                                  URL_TA      ID_TA  sample  \\\n8484   /Restaurant_Review-g186338-d4129260-Reviews-An...   d4129260       0   \n43578  /Restaurant_Review-g186338-d4925534-Reviews-Ha...   d4925534       1   \n33072  /Restaurant_Review-g187791-d12832311-Reviews-C...  d12832311       1   \n17691  /Restaurant_Review-g186338-d10663214-Reviews-P...  d10663214       1   \n17241  /Restaurant_Review-g186605-d8490194-Reviews-Re...   d8490194       1   \n\n       Rating  \n8484      0.0  \n43578     4.0  \n33072     5.0  \n17691     4.0  \n17241     3.5  ",
      "text/html": "<div>\n<style scoped>\n    .dataframe tbody tr th:only-of-type {\n        vertical-align: middle;\n    }\n\n    .dataframe tbody tr th {\n        vertical-align: top;\n    }\n\n    .dataframe thead th {\n        text-align: right;\n    }\n</style>\n<table border=\"1\" class=\"dataframe\">\n  <thead>\n    <tr style=\"text-align: right;\">\n      <th></th>\n      <th>Restaurant_id</th>\n      <th>City</th>\n      <th>Cuisine Style</th>\n      <th>Ranking</th>\n      <th>Price Range</th>\n      <th>Number of Reviews</th>\n      <th>Reviews</th>\n      <th>URL_TA</th>\n      <th>ID_TA</th>\n      <th>sample</th>\n      <th>Rating</th>\n    </tr>\n  </thead>\n  <tbody>\n    <tr>\n      <th>8484</th>\n      <td>id_8484</td>\n      <td>London</td>\n      <td>['Cafe', 'British', 'Gluten Free Options']</td>\n      <td>7948.0</td>\n      <td>$$ - $$$</td>\n      <td>80.0</td>\n      <td>[['Amazing brunch, wonderful cakes, great cof....</td>\n      <td>/Restaurant_Review-g186338-d4129260-Reviews-An...</td>\n      <td>d4129260</td>\n      <td>0</td>\n      <td>0.0</td>\n    </tr>\n    <tr>\n      <th>43578</th>\n      <td>id_11734</td>\n      <td>London</td>\n      <td>['Chinese']</td>\n      <td>11744.0</td>\n      <td>NaN</td>\n      <td>5.0</td>\n      <td>[['Saaaaaaaaaalty!', 'Wonderful place'], ['08/...</td>\n      <td>/Restaurant_Review-g186338-d4925534-Reviews-Ha...</td>\n      <td>d4925534</td>\n      <td>1</td>\n      <td>4.0</td>\n    </tr>\n    <tr>\n      <th>33072</th>\n      <td>id_5224</td>\n      <td>Rome</td>\n      <td>NaN</td>\n      <td>5225.0</td>\n      <td>NaN</td>\n      <td>3.0</td>\n      <td>[['Great Bar', 'Great Cafe and Snacks'], ['12/...</td>\n      <td>/Restaurant_Review-g187791-d12832311-Reviews-C...</td>\n      <td>d12832311</td>\n      <td>1</td>\n      <td>5.0</td>\n    </tr>\n    <tr>\n      <th>17691</th>\n      <td>id_995</td>\n      <td>London</td>\n      <td>['Seafood', 'British']</td>\n      <td>997.0</td>\n      <td>$</td>\n      <td>255.0</td>\n      <td>[['reading Tripadvisor led me here', 'YOU SHOU...</td>\n      <td>/Restaurant_Review-g186338-d10663214-Reviews-P...</td>\n      <td>d10663214</td>\n      <td>1</td>\n      <td>4.0</td>\n    </tr>\n    <tr>\n      <th>17241</th>\n      <td>id_1706</td>\n      <td>Dublin</td>\n      <td>['Wine Bar']</td>\n      <td>1710.0</td>\n      <td>$$ - $$$</td>\n      <td>13.0</td>\n      <td>[['Fantastic', 'Awful experience!!!!'], ['07/1...</td>\n      <td>/Restaurant_Review-g186605-d8490194-Reviews-Re...</td>\n      <td>d8490194</td>\n      <td>1</td>\n      <td>3.5</td>\n    </tr>\n  </tbody>\n</table>\n</div>"
     },
     "execution_count": 24,
     "metadata": {},
     "output_type": "execute_result"
    }
   ],
   "source": [
    "data.sample(5)"
   ],
   "metadata": {
    "collapsed": false,
    "pycharm": {
     "name": "#%% [code]\n"
    }
   }
  },
  {
   "cell_type": "code",
   "execution_count": 25,
   "outputs": [
    {
     "data": {
      "text/plain": "\"[['Very good reviews!', 'Fine dining in Hakaniemi'], ['12/05/2017', '10/29/2017']]\""
     },
     "execution_count": 25,
     "metadata": {},
     "output_type": "execute_result"
    }
   ],
   "source": [
    "data.Reviews[1]"
   ],
   "metadata": {
    "collapsed": false,
    "pycharm": {
     "name": "#%% [code]\n"
    }
   }
  },
  {
   "cell_type": "code",
   "execution_count": 26,
   "outputs": [],
   "source": [
    "# Как видим, большинство признаков у нас требует очистки и предварительной обработки."
   ],
   "metadata": {
    "collapsed": false,
    "pycharm": {
     "name": "#%% [markdown]\n"
    }
   }
  },
  {
   "cell_type": "code",
   "execution_count": 27,
   "outputs": [],
   "source": [
    "# # Cleaning and Prepping Data\n",
    "# Обычно данные содержат в себе кучу мусора, который необходимо почистить, для того чтобы привести их в приемлемый формат. Чистка данных — это необходимый этап решения почти любой реальной задачи.\n",
    "# ![](https://analyticsindiamag.com/wp-content/uploads/2018/01/data-cleaning.png)"
   ],
   "metadata": {
    "collapsed": false,
    "pycharm": {
     "name": "#%% [markdown]\n"
    }
   }
  },
  {
   "cell_type": "code",
   "execution_count": 28,
   "outputs": [],
   "source": [
    "# ## 1. Обработка NAN\n",
    "# У наличия пропусков могут быть разные причины, но пропуски нужно либо заполнить, либо исключить из набора полностью. Но с пропусками нужно быть внимательным, **даже отсутствие информации может быть важным признаком!**\n",
    "# По этому перед обработкой NAN лучше вынести информацию о наличии пропуска как отдельный признак"
   ],
   "metadata": {
    "collapsed": false,
    "pycharm": {
     "name": "#%% [markdown]\n"
    }
   }
  },
  {
   "cell_type": "code",
   "execution_count": 29,
   "outputs": [],
   "source": [
    "# Для примера я возьму столбец Number of Reviews\n",
    "data['Number_of_Reviews_isNAN'] = pd.isna(data['Number of Reviews']).astype('uint8')"
   ],
   "metadata": {
    "collapsed": false,
    "pycharm": {
     "name": "#%% [code]\n"
    }
   }
  },
  {
   "cell_type": "code",
   "execution_count": 30,
   "outputs": [
    {
     "data": {
      "text/plain": "0        0\n1        0\n2        0\n3        0\n4        0\n        ..\n49995    0\n49996    0\n49997    0\n49998    0\n49999    0\nName: Number_of_Reviews_isNAN, Length: 50000, dtype: uint8"
     },
     "execution_count": 30,
     "metadata": {},
     "output_type": "execute_result"
    }
   ],
   "source": [
    "data['Number_of_Reviews_isNAN']"
   ],
   "metadata": {
    "collapsed": false,
    "pycharm": {
     "name": "#%% [code]\n"
    }
   }
  },
  {
   "cell_type": "code",
   "execution_count": 31,
   "outputs": [],
   "source": [
    "# Далее заполняем пропуски 0, вы можете попробовать заполнением средним или средним по городу и тд...\n",
    "data['Number of Reviews'].fillna(0, inplace=True)"
   ],
   "metadata": {
    "collapsed": false,
    "pycharm": {
     "name": "#%% [code]\n"
    }
   }
  },
  {
   "cell_type": "code",
   "execution_count": 32,
   "outputs": [],
   "source": [
    "# ### 2. Обработка признаков\n",
    "# Для начала посмотрим какие признаки у нас могут быть категориальными."
   ],
   "metadata": {
    "collapsed": false,
    "pycharm": {
     "name": "#%% [markdown]\n"
    }
   }
  },
  {
   "cell_type": "code",
   "execution_count": 33,
   "outputs": [
    {
     "data": {
      "text/plain": "Restaurant_id              13094\nCity                          31\nCuisine Style              10732\nRanking                    12975\nPrice Range                    4\nNumber of Reviews           1574\nReviews                    41858\nURL_TA                     49963\nID_TA                      49963\nsample                         2\nRating                        10\nNumber_of_Reviews_isNAN        2\ndtype: int64"
     },
     "execution_count": 33,
     "metadata": {},
     "output_type": "execute_result"
    }
   ],
   "source": [
    "data.nunique(dropna=False)"
   ],
   "metadata": {
    "collapsed": false,
    "pycharm": {
     "name": "#%% [code]\n"
    }
   }
  },
  {
   "cell_type": "code",
   "execution_count": 34,
   "outputs": [],
   "source": [
    "# Какие признаки можно считать категориальными?"
   ],
   "metadata": {
    "collapsed": false,
    "pycharm": {
     "name": "#%% [markdown]\n"
    }
   }
  },
  {
   "cell_type": "code",
   "execution_count": 35,
   "outputs": [],
   "source": [
    "# Для кодирования категориальных признаков есть множество подходов:\n",
    "# * Label Encoding\n",
    "# * One-Hot Encoding\n",
    "# * Target Encoding\n",
    "# * Hashing\n",
    "#\n",
    "# Выбор кодирования зависит от признака и выбраной модели.\n",
    "# Не будем сейчас сильно погружаться в эту тематику, давайте посмотрим лучше пример с One-Hot Encoding:\n",
    "# ![](https://i.imgur.com/mtimFxh.png)"
   ],
   "metadata": {
    "collapsed": false,
    "pycharm": {
     "name": "#%% [markdown]\n"
    }
   }
  },
  {
   "cell_type": "code",
   "execution_count": 36,
   "outputs": [],
   "source": [
    "# для One-Hot Encoding в pandas есть готовая функция - get_dummies. Особенно радует параметр dummy_na\n",
    "data = pd.get_dummies(data, columns=[ 'City',], dummy_na=True)"
   ],
   "metadata": {
    "collapsed": false,
    "pycharm": {
     "name": "#%% [code]\n"
    }
   }
  },
  {
   "cell_type": "code",
   "execution_count": 37,
   "outputs": [
    {
     "data": {
      "text/plain": "  Restaurant_id                                      Cuisine Style  Ranking  \\\n0          id_0                                     ['Bar', 'Pub']  12963.0   \n1          id_1  ['European', 'Scandinavian', 'Gluten Free Opti...    106.0   \n2          id_2                            ['Vegetarian Friendly']    810.0   \n3          id_3  ['Italian', 'Mediterranean', 'European', 'Vege...   1669.0   \n4          id_4  ['Italian', 'Mediterranean', 'European', 'Seaf...     37.0   \n\n  Price Range  Number of Reviews  \\\n0    $$ - $$$                4.0   \n1    $$ - $$$               97.0   \n2    $$ - $$$               28.0   \n3        $$$$              202.0   \n4        $$$$              162.0   \n\n                                             Reviews  \\\n0                                           [[], []]   \n1  [['Very good reviews!', 'Fine dining in Hakani...   \n2  [['Better than the Links', 'Ivy Black'], ['12/...   \n3  [['Most exquisite', 'Delicious and authentic']...   \n4  [['Always the best in bratislava', 'Very good ...   \n\n                                              URL_TA      ID_TA  sample  \\\n0  /Restaurant_Review-g187147-d10746918-Reviews-L...  d10746918       0   \n1  /Restaurant_Review-g189934-d6674944-Reviews-Ra...   d6674944       0   \n2  /Restaurant_Review-g186525-d13129638-Reviews-B...  d13129638       0   \n3  /Restaurant_Review-g186338-d680417-Reviews-Qui...    d680417       0   \n4  /Restaurant_Review-g274924-d1112354-Reviews-Ma...   d1112354       0   \n\n   Rating  ...  City_Oporto  City_Oslo  City_Paris  City_Prague  City_Rome  \\\n0     0.0  ...            0          0           1            0          0   \n1     0.0  ...            0          0           0            0          0   \n2     0.0  ...            0          0           0            0          0   \n3     0.0  ...            0          0           0            0          0   \n4     0.0  ...            0          0           0            0          0   \n\n   City_Stockholm  City_Vienna  City_Warsaw  City_Zurich  City_nan  \n0               0            0            0            0         0  \n1               0            0            0            0         0  \n2               0            0            0            0         0  \n3               0            0            0            0         0  \n4               0            0            0            0         0  \n\n[5 rows x 43 columns]",
      "text/html": "<div>\n<style scoped>\n    .dataframe tbody tr th:only-of-type {\n        vertical-align: middle;\n    }\n\n    .dataframe tbody tr th {\n        vertical-align: top;\n    }\n\n    .dataframe thead th {\n        text-align: right;\n    }\n</style>\n<table border=\"1\" class=\"dataframe\">\n  <thead>\n    <tr style=\"text-align: right;\">\n      <th></th>\n      <th>Restaurant_id</th>\n      <th>Cuisine Style</th>\n      <th>Ranking</th>\n      <th>Price Range</th>\n      <th>Number of Reviews</th>\n      <th>Reviews</th>\n      <th>URL_TA</th>\n      <th>ID_TA</th>\n      <th>sample</th>\n      <th>Rating</th>\n      <th>...</th>\n      <th>City_Oporto</th>\n      <th>City_Oslo</th>\n      <th>City_Paris</th>\n      <th>City_Prague</th>\n      <th>City_Rome</th>\n      <th>City_Stockholm</th>\n      <th>City_Vienna</th>\n      <th>City_Warsaw</th>\n      <th>City_Zurich</th>\n      <th>City_nan</th>\n    </tr>\n  </thead>\n  <tbody>\n    <tr>\n      <th>0</th>\n      <td>id_0</td>\n      <td>['Bar', 'Pub']</td>\n      <td>12963.0</td>\n      <td>$$ - $$$</td>\n      <td>4.0</td>\n      <td>[[], []]</td>\n      <td>/Restaurant_Review-g187147-d10746918-Reviews-L...</td>\n      <td>d10746918</td>\n      <td>0</td>\n      <td>0.0</td>\n      <td>...</td>\n      <td>0</td>\n      <td>0</td>\n      <td>1</td>\n      <td>0</td>\n      <td>0</td>\n      <td>0</td>\n      <td>0</td>\n      <td>0</td>\n      <td>0</td>\n      <td>0</td>\n    </tr>\n    <tr>\n      <th>1</th>\n      <td>id_1</td>\n      <td>['European', 'Scandinavian', 'Gluten Free Opti...</td>\n      <td>106.0</td>\n      <td>$$ - $$$</td>\n      <td>97.0</td>\n      <td>[['Very good reviews!', 'Fine dining in Hakani...</td>\n      <td>/Restaurant_Review-g189934-d6674944-Reviews-Ra...</td>\n      <td>d6674944</td>\n      <td>0</td>\n      <td>0.0</td>\n      <td>...</td>\n      <td>0</td>\n      <td>0</td>\n      <td>0</td>\n      <td>0</td>\n      <td>0</td>\n      <td>0</td>\n      <td>0</td>\n      <td>0</td>\n      <td>0</td>\n      <td>0</td>\n    </tr>\n    <tr>\n      <th>2</th>\n      <td>id_2</td>\n      <td>['Vegetarian Friendly']</td>\n      <td>810.0</td>\n      <td>$$ - $$$</td>\n      <td>28.0</td>\n      <td>[['Better than the Links', 'Ivy Black'], ['12/...</td>\n      <td>/Restaurant_Review-g186525-d13129638-Reviews-B...</td>\n      <td>d13129638</td>\n      <td>0</td>\n      <td>0.0</td>\n      <td>...</td>\n      <td>0</td>\n      <td>0</td>\n      <td>0</td>\n      <td>0</td>\n      <td>0</td>\n      <td>0</td>\n      <td>0</td>\n      <td>0</td>\n      <td>0</td>\n      <td>0</td>\n    </tr>\n    <tr>\n      <th>3</th>\n      <td>id_3</td>\n      <td>['Italian', 'Mediterranean', 'European', 'Vege...</td>\n      <td>1669.0</td>\n      <td>$$$$</td>\n      <td>202.0</td>\n      <td>[['Most exquisite', 'Delicious and authentic']...</td>\n      <td>/Restaurant_Review-g186338-d680417-Reviews-Qui...</td>\n      <td>d680417</td>\n      <td>0</td>\n      <td>0.0</td>\n      <td>...</td>\n      <td>0</td>\n      <td>0</td>\n      <td>0</td>\n      <td>0</td>\n      <td>0</td>\n      <td>0</td>\n      <td>0</td>\n      <td>0</td>\n      <td>0</td>\n      <td>0</td>\n    </tr>\n    <tr>\n      <th>4</th>\n      <td>id_4</td>\n      <td>['Italian', 'Mediterranean', 'European', 'Seaf...</td>\n      <td>37.0</td>\n      <td>$$$$</td>\n      <td>162.0</td>\n      <td>[['Always the best in bratislava', 'Very good ...</td>\n      <td>/Restaurant_Review-g274924-d1112354-Reviews-Ma...</td>\n      <td>d1112354</td>\n      <td>0</td>\n      <td>0.0</td>\n      <td>...</td>\n      <td>0</td>\n      <td>0</td>\n      <td>0</td>\n      <td>0</td>\n      <td>0</td>\n      <td>0</td>\n      <td>0</td>\n      <td>0</td>\n      <td>0</td>\n      <td>0</td>\n    </tr>\n  </tbody>\n</table>\n<p>5 rows × 43 columns</p>\n</div>"
     },
     "execution_count": 37,
     "metadata": {},
     "output_type": "execute_result"
    }
   ],
   "source": [
    "data.head(5)"
   ],
   "metadata": {
    "collapsed": false,
    "pycharm": {
     "name": "#%% [code]\n"
    }
   }
  },
  {
   "cell_type": "code",
   "execution_count": 38,
   "outputs": [
    {
     "data": {
      "text/plain": "      Restaurant_id                                      Cuisine Style  \\\n14098       id_5604  ['Lebanese', 'Mediterranean', 'Vegetarian Frie...   \n13333       id_2804                                                NaN   \n4545        id_4545                              ['Japanese', 'Sushi']   \n19417       id_1329  ['Mexican', 'Latin', 'Street Food', 'Central A...   \n42969       id_2950                                ['Brew Pub', 'Pub']   \n\n       Ranking Price Range  Number of Reviews  \\\n14098   5605.0           $               36.0   \n13333   2806.0         NaN                7.0   \n4545    1697.0    $$ - $$$               25.0   \n19417   1330.0           $               53.0   \n42969   2953.0         NaN                4.0   \n\n                                                 Reviews  \\\n14098  [['Excellent shawarma and kibbeh', 'Good sandw...   \n13333  [['real italian coffee', 'Great location'], ['...   \n4545   [['Good sushi', 'Good value for good price'], ...   \n19417  [['Stopped for a taco a Pacífico', 'My favorit...   \n42969                                           [[], []]   \n\n                                                  URL_TA      ID_TA  sample  \\\n14098  /Restaurant_Review-g187147-d802704-Reviews-Le_...    d802704       1   \n13333  /Restaurant_Review-g190454-d7705085-Reviews-Pa...   d7705085       1   \n4545   /Restaurant_Review-g274856-d4307957-Reviews-Kw...   d4307957       0   \n19417  /Restaurant_Review-g187497-d12336099-Reviews-M...  d12336099       1   \n42969  /Restaurant_Review-g189158-d4041851-Reviews-Le...   d4041851       1   \n\n       Rating  ...  City_Oporto  City_Oslo  City_Paris  City_Prague  \\\n14098     4.5  ...            0          0           1            0   \n13333     3.5  ...            0          0           0            0   \n4545      0.0  ...            0          0           0            0   \n19417     4.5  ...            0          0           0            0   \n42969     4.0  ...            0          0           0            0   \n\n       City_Rome  City_Stockholm  City_Vienna  City_Warsaw  City_Zurich  \\\n14098          0               0            0            0            0   \n13333          0               0            1            0            0   \n4545           0               0            0            1            0   \n19417          0               0            0            0            0   \n42969          0               0            0            0            0   \n\n       City_nan  \n14098         0  \n13333         0  \n4545          0  \n19417         0  \n42969         0  \n\n[5 rows x 43 columns]",
      "text/html": "<div>\n<style scoped>\n    .dataframe tbody tr th:only-of-type {\n        vertical-align: middle;\n    }\n\n    .dataframe tbody tr th {\n        vertical-align: top;\n    }\n\n    .dataframe thead th {\n        text-align: right;\n    }\n</style>\n<table border=\"1\" class=\"dataframe\">\n  <thead>\n    <tr style=\"text-align: right;\">\n      <th></th>\n      <th>Restaurant_id</th>\n      <th>Cuisine Style</th>\n      <th>Ranking</th>\n      <th>Price Range</th>\n      <th>Number of Reviews</th>\n      <th>Reviews</th>\n      <th>URL_TA</th>\n      <th>ID_TA</th>\n      <th>sample</th>\n      <th>Rating</th>\n      <th>...</th>\n      <th>City_Oporto</th>\n      <th>City_Oslo</th>\n      <th>City_Paris</th>\n      <th>City_Prague</th>\n      <th>City_Rome</th>\n      <th>City_Stockholm</th>\n      <th>City_Vienna</th>\n      <th>City_Warsaw</th>\n      <th>City_Zurich</th>\n      <th>City_nan</th>\n    </tr>\n  </thead>\n  <tbody>\n    <tr>\n      <th>14098</th>\n      <td>id_5604</td>\n      <td>['Lebanese', 'Mediterranean', 'Vegetarian Frie...</td>\n      <td>5605.0</td>\n      <td>$</td>\n      <td>36.0</td>\n      <td>[['Excellent shawarma and kibbeh', 'Good sandw...</td>\n      <td>/Restaurant_Review-g187147-d802704-Reviews-Le_...</td>\n      <td>d802704</td>\n      <td>1</td>\n      <td>4.5</td>\n      <td>...</td>\n      <td>0</td>\n      <td>0</td>\n      <td>1</td>\n      <td>0</td>\n      <td>0</td>\n      <td>0</td>\n      <td>0</td>\n      <td>0</td>\n      <td>0</td>\n      <td>0</td>\n    </tr>\n    <tr>\n      <th>13333</th>\n      <td>id_2804</td>\n      <td>NaN</td>\n      <td>2806.0</td>\n      <td>NaN</td>\n      <td>7.0</td>\n      <td>[['real italian coffee', 'Great location'], ['...</td>\n      <td>/Restaurant_Review-g190454-d7705085-Reviews-Pa...</td>\n      <td>d7705085</td>\n      <td>1</td>\n      <td>3.5</td>\n      <td>...</td>\n      <td>0</td>\n      <td>0</td>\n      <td>0</td>\n      <td>0</td>\n      <td>0</td>\n      <td>0</td>\n      <td>1</td>\n      <td>0</td>\n      <td>0</td>\n      <td>0</td>\n    </tr>\n    <tr>\n      <th>4545</th>\n      <td>id_4545</td>\n      <td>['Japanese', 'Sushi']</td>\n      <td>1697.0</td>\n      <td>$$ - $$$</td>\n      <td>25.0</td>\n      <td>[['Good sushi', 'Good value for good price'], ...</td>\n      <td>/Restaurant_Review-g274856-d4307957-Reviews-Kw...</td>\n      <td>d4307957</td>\n      <td>0</td>\n      <td>0.0</td>\n      <td>...</td>\n      <td>0</td>\n      <td>0</td>\n      <td>0</td>\n      <td>0</td>\n      <td>0</td>\n      <td>0</td>\n      <td>0</td>\n      <td>1</td>\n      <td>0</td>\n      <td>0</td>\n    </tr>\n    <tr>\n      <th>19417</th>\n      <td>id_1329</td>\n      <td>['Mexican', 'Latin', 'Street Food', 'Central A...</td>\n      <td>1330.0</td>\n      <td>$</td>\n      <td>53.0</td>\n      <td>[['Stopped for a taco a Pacífico', 'My favorit...</td>\n      <td>/Restaurant_Review-g187497-d12336099-Reviews-M...</td>\n      <td>d12336099</td>\n      <td>1</td>\n      <td>4.5</td>\n      <td>...</td>\n      <td>0</td>\n      <td>0</td>\n      <td>0</td>\n      <td>0</td>\n      <td>0</td>\n      <td>0</td>\n      <td>0</td>\n      <td>0</td>\n      <td>0</td>\n      <td>0</td>\n    </tr>\n    <tr>\n      <th>42969</th>\n      <td>id_2950</td>\n      <td>['Brew Pub', 'Pub']</td>\n      <td>2953.0</td>\n      <td>NaN</td>\n      <td>4.0</td>\n      <td>[[], []]</td>\n      <td>/Restaurant_Review-g189158-d4041851-Reviews-Le...</td>\n      <td>d4041851</td>\n      <td>1</td>\n      <td>4.0</td>\n      <td>...</td>\n      <td>0</td>\n      <td>0</td>\n      <td>0</td>\n      <td>0</td>\n      <td>0</td>\n      <td>0</td>\n      <td>0</td>\n      <td>0</td>\n      <td>0</td>\n      <td>0</td>\n    </tr>\n  </tbody>\n</table>\n<p>5 rows × 43 columns</p>\n</div>"
     },
     "execution_count": 38,
     "metadata": {},
     "output_type": "execute_result"
    }
   ],
   "source": [
    "data.sample(5)"
   ],
   "metadata": {
    "collapsed": false,
    "pycharm": {
     "name": "#%% [code]\n"
    }
   }
  },
  {
   "cell_type": "code",
   "execution_count": 39,
   "outputs": [],
   "source": [
    "# #### Возьмем следующий признак \"Price Range\"."
   ],
   "metadata": {
    "collapsed": false,
    "pycharm": {
     "name": "#%% [markdown]\n"
    }
   }
  },
  {
   "cell_type": "code",
   "execution_count": 40,
   "outputs": [
    {
     "data": {
      "text/plain": "$$ - $$$    23041\n$            7816\n$$$$         1782\nName: Price Range, dtype: int64"
     },
     "execution_count": 40,
     "metadata": {},
     "output_type": "execute_result"
    }
   ],
   "source": [
    "data['Price Range'].value_counts()"
   ],
   "metadata": {
    "collapsed": false,
    "pycharm": {
     "name": "#%% [code]\n"
    }
   }
  },
  {
   "cell_type": "code",
   "execution_count": 41,
   "outputs": [],
   "source": [
    "# По описанию 'Price Range' это - Цены в ресторане.\n",
    "# Их можно поставить по возрастанию (значит это не категориальный признак). А это значит, что их можно заменить последовательными числами, например 1,2,3\n",
    "# *Попробуйте сделать обработку этого признака уже самостоятельно!*"
   ],
   "metadata": {
    "collapsed": false,
    "pycharm": {
     "name": "#%% [markdown]\n"
    }
   }
  },
  {
   "cell_type": "code",
   "execution_count": 42,
   "outputs": [],
   "source": [
    "# Ваша обработка 'Price Range'\n",
    "\n",
    "def to_int(range):\n",
    "    if range == '$':\n",
    "        return 1\n",
    "    elif range == '$$ - $$$':\n",
    "        return 2\n",
    "    elif range == '$$$$':\n",
    "        return 3\n",
    "    else:\n",
    "        return 0\n",
    "data['Price Range'] = data['Price Range'].apply(to_int)"
   ],
   "metadata": {
    "collapsed": false,
    "pycharm": {
     "name": "#%% [code]\n"
    }
   }
  },
  {
   "cell_type": "code",
   "execution_count": 43,
   "outputs": [],
   "source": [
    "# > Для некоторых алгоритмов МЛ даже для не категориальных признаков можно применить One-Hot Encoding, и это может улучшить качество модели. Пробуйте разные подходы к кодированию признака - никто не знает заранее, что может взлететь."
   ],
   "metadata": {
    "collapsed": false,
    "pycharm": {
     "name": "#%% [markdown]\n"
    }
   }
  },
  {
   "cell_type": "code",
   "execution_count": 44,
   "outputs": [],
   "source": [
    "# ### Обработать другие признаки вы должны самостоятельно!\n",
    "# Для обработки других признаков вам возможно придется даже написать свою функцию, а может даже и не одну, но в этом и есть ваша практика в этом модуле!\n",
    "# Следуя подсказкам в модуле вы сможете более подробно узнать, как сделать эти приобразования."
   ],
   "metadata": {
    "collapsed": false,
    "pycharm": {
     "name": "#%% [markdown]\n"
    }
   }
  },
  {
   "cell_type": "code",
   "execution_count": 45,
   "outputs": [],
   "source": [
    "# тут ваш код на обработку других признаков\n",
    "\n",
    "def split_review(cell):\n",
    "    try:\n",
    "        arr = cell.split('],[')\n",
    "        if len(arr) == 1:\n",
    "            arr = cell.split('], [')\n",
    "        if len(arr) != 2:\n",
    "            print('Error')\n",
    "        return arr\n",
    "    except:\n",
    "        return '[], []'\n",
    "\n",
    "def clear_data_and_convert_to_array(value: str):\n",
    "    cleared = value.replace(']', '').replace('[', '')\\\n",
    "        .replace(\"'\", '')\n",
    "    arr = cleared.split(',')\n",
    "    result = []\n",
    "    for item in arr:\n",
    "        if item != '':\n",
    "            result.append(item.lstrip(' '))\n",
    "    if len(result) == 0:\n",
    "        result.append('')\n",
    "        result.append('')\n",
    "    elif len(result) == 1:\n",
    "        result.append('')\n",
    "\n",
    "    return result\n",
    "\n",
    "def convert_to_date(arr):\n",
    "    result = []\n",
    "    for item in arr:\n",
    "        try:\n",
    "            result.append(datetime.strptime(item, '%m/%d/%Y'))\n",
    "        except:\n",
    "            pass\n",
    "    return result"
   ],
   "metadata": {
    "collapsed": false,
    "pycharm": {
     "name": "#%% [code]\n"
    }
   }
  },
  {
   "cell_type": "code",
   "execution_count": 46,
   "outputs": [
    {
     "data": {
      "text/plain": "0                                                 [[], []]\n1        [['Very good reviews!', 'Fine dining in Hakani...\n2        [['Better than the Links', 'Ivy Black'], ['12/...\n3        [['Most exquisite', 'Delicious and authentic']...\n4        [['Always the best in bratislava', 'Very good ...\n                               ...                        \n49995    [['The real Italian experience!', 'Wonderful f...\n49996    [['Parisian atmosphere', 'Bit pricey but inter...\n49997    [['Good by swedish standards', 'A hidden jewel...\n49998    [['Underground restaurant', 'Oldest Restaurant...\n49999    [['Average', 'Nice an informal'], ['01/31/2016...\nName: Reviews, Length: 50000, dtype: object"
     },
     "execution_count": 46,
     "metadata": {},
     "output_type": "execute_result"
    }
   ],
   "source": [
    "data['Reviews']"
   ],
   "metadata": {
    "collapsed": false,
    "pycharm": {
     "name": "#%% [code]\n"
    }
   }
  },
  {
   "cell_type": "code",
   "execution_count": 47,
   "outputs": [
    {
     "data": {
      "text/plain": "0                                                []\n1        [2017-12-05 00:00:00, 2017-10-29 00:00:00]\n2        [2017-12-28 00:00:00, 2017-12-06 00:00:00]\n3        [2017-12-06 00:00:00, 2017-11-22 00:00:00]\n4        [2018-02-08 00:00:00, 2018-01-24 00:00:00]\n                            ...                    \n49995    [2017-12-16 00:00:00, 2017-11-12 00:00:00]\n49996    [2017-12-21 00:00:00, 2017-12-12 00:00:00]\n49997    [2016-11-03 00:00:00, 2008-04-12 00:00:00]\n49998    [2017-07-11 00:00:00, 2017-06-18 00:00:00]\n49999    [2016-01-31 00:00:00, 2012-07-04 00:00:00]\nName: Reviews, Length: 50000, dtype: object"
     },
     "execution_count": 47,
     "metadata": {},
     "output_type": "execute_result"
    }
   ],
   "source": [
    "data_of_review = data['Reviews']\\\n",
    "    .apply(split_review)\\\n",
    "    .apply(lambda x: x[1])\\\n",
    "    .apply(clear_data_and_convert_to_array)\\\n",
    "    .apply(convert_to_date)\n",
    "\n",
    "data_of_review"
   ],
   "metadata": {
    "collapsed": false,
    "pycharm": {
     "name": "#%% [code]\n"
    }
   }
  },
  {
   "cell_type": "code",
   "execution_count": 48,
   "outputs": [],
   "source": [
    "def get_max_date(arr):\n",
    "    interval = 0\n",
    "    if len(arr) == 2:\n",
    "        interval = abs(arr[0] - arr[1]).days\n",
    "\n",
    "    return interval"
   ],
   "metadata": {
    "collapsed": false,
    "pycharm": {
     "name": "#%% [code]\n"
    }
   }
  },
  {
   "cell_type": "code",
   "execution_count": 49,
   "outputs": [],
   "source": [
    "data['Between to reviews'] = data_of_review.apply(get_max_date)"
   ],
   "metadata": {
    "collapsed": false,
    "pycharm": {
     "name": "#%% [code]\n"
    }
   }
  },
  {
   "cell_type": "code",
   "execution_count": 50,
   "outputs": [],
   "source": [
    "data['Review1 simbols'] = data['Reviews']\\\n",
    "    .apply(split_review)\\\n",
    "    .apply(lambda x: x[0])\\\n",
    "    .apply(clear_data_and_convert_to_array)\\\n",
    "    .apply(lambda x: x[0])\\\n",
    "    .apply(lambda x: len(x))\\"
   ],
   "metadata": {
    "collapsed": false,
    "pycharm": {
     "name": "#%% [code]\n"
    }
   }
  },
  {
   "cell_type": "code",
   "execution_count": 51,
   "outputs": [],
   "source": [
    "data['Review2 simbols'] = data['Reviews']\\\n",
    "    .apply(split_review)\\\n",
    "    .apply(lambda x: x[0])\\\n",
    "    .apply(clear_data_and_convert_to_array)\\\n",
    "    .apply(lambda x: x[1])\\\n",
    "    .apply(lambda x: len(x))\\"
   ],
   "metadata": {
    "collapsed": false,
    "pycharm": {
     "name": "#%% [code]\n"
    }
   }
  },
  {
   "cell_type": "code",
   "execution_count": 52,
   "outputs": [],
   "source": [
    "cuisines_as_list = data['Cuisine Style']\\\n",
    "    .apply(lambda x: str(x).replace('[', '')\n",
    "           .replace(']', '').replace(\"'\", '')\n",
    "           .replace(\" \", '').replace('nan', ''))\\\n",
    "    .apply(lambda x: list(set(x.split(','))))"
   ],
   "metadata": {
    "collapsed": false,
    "pycharm": {
     "name": "#%% [code]\n"
    }
   }
  },
  {
   "cell_type": "code",
   "execution_count": 53,
   "outputs": [],
   "source": [
    "data['Cuisine Style'] = cuisines_as_list"
   ],
   "metadata": {
    "collapsed": false,
    "pycharm": {
     "name": "#%% [code]\n"
    }
   }
  },
  {
   "cell_type": "code",
   "execution_count": 54,
   "outputs": [],
   "source": [
    "#делаем dummy колонки по кухням\n",
    "cuisines = pd.get_dummies(cuisines_as_list.apply(pd.Series).stack()).sum(level=0)"
   ],
   "metadata": {
    "collapsed": false,
    "pycharm": {
     "name": "#%% [code]\n"
    }
   }
  },
  {
   "cell_type": "code",
   "execution_count": 55,
   "outputs": [],
   "source": [
    "data = pd.concat([data, cuisines], axis=1)\n",
    "data = data.drop(columns=['Cuisine Style'])"
   ],
   "metadata": {
    "collapsed": false,
    "pycharm": {
     "name": "#%% [code]\n"
    }
   }
  },
  {
   "cell_type": "code",
   "execution_count": 56,
   "outputs": [],
   "source": [
    "data['Restaurant_id'] = data['Restaurant_id'].apply(lambda x: int(x.replace('id_', '')))"
   ],
   "metadata": {
    "collapsed": false,
    "pycharm": {
     "name": "#%% [code]\n"
    }
   }
  },
  {
   "cell_type": "code",
   "execution_count": 57,
   "outputs": [],
   "source": [
    "data = data.drop(columns=['Reviews', 'URL_TA', 'ID_TA'])"
   ],
   "metadata": {
    "collapsed": false,
    "pycharm": {
     "name": "#%% [code]\n"
    }
   }
  },
  {
   "cell_type": "code",
   "execution_count": 58,
   "outputs": [
    {
     "data": {
      "text/plain": "   Restaurant_id  Ranking  Price Range  Number of Reviews  sample  Rating  \\\n0              0  12963.0            2                4.0       0     0.0   \n\n   Number_of_Reviews_isNAN  City_Amsterdam  City_Athens  City_Barcelona  ...  \\\n0                        0               0            0               0  ...   \n\n   Ukrainian  Uzbek  VeganOptions  VegetarianFriendly  Venezuelan  Vietnamese  \\\n0          0      0             0                   0           0           0   \n\n   Welsh  WineBar  Xinjiang  Yun  \n0      0        0         0    0  \n\n[1 rows x 168 columns]",
      "text/html": "<div>\n<style scoped>\n    .dataframe tbody tr th:only-of-type {\n        vertical-align: middle;\n    }\n\n    .dataframe tbody tr th {\n        vertical-align: top;\n    }\n\n    .dataframe thead th {\n        text-align: right;\n    }\n</style>\n<table border=\"1\" class=\"dataframe\">\n  <thead>\n    <tr style=\"text-align: right;\">\n      <th></th>\n      <th>Restaurant_id</th>\n      <th>Ranking</th>\n      <th>Price Range</th>\n      <th>Number of Reviews</th>\n      <th>sample</th>\n      <th>Rating</th>\n      <th>Number_of_Reviews_isNAN</th>\n      <th>City_Amsterdam</th>\n      <th>City_Athens</th>\n      <th>City_Barcelona</th>\n      <th>...</th>\n      <th>Ukrainian</th>\n      <th>Uzbek</th>\n      <th>VeganOptions</th>\n      <th>VegetarianFriendly</th>\n      <th>Venezuelan</th>\n      <th>Vietnamese</th>\n      <th>Welsh</th>\n      <th>WineBar</th>\n      <th>Xinjiang</th>\n      <th>Yun</th>\n    </tr>\n  </thead>\n  <tbody>\n    <tr>\n      <th>0</th>\n      <td>0</td>\n      <td>12963.0</td>\n      <td>2</td>\n      <td>4.0</td>\n      <td>0</td>\n      <td>0.0</td>\n      <td>0</td>\n      <td>0</td>\n      <td>0</td>\n      <td>0</td>\n      <td>...</td>\n      <td>0</td>\n      <td>0</td>\n      <td>0</td>\n      <td>0</td>\n      <td>0</td>\n      <td>0</td>\n      <td>0</td>\n      <td>0</td>\n      <td>0</td>\n      <td>0</td>\n    </tr>\n  </tbody>\n</table>\n<p>1 rows × 168 columns</p>\n</div>"
     },
     "execution_count": 58,
     "metadata": {},
     "output_type": "execute_result"
    }
   ],
   "source": [
    "data.head(1)"
   ],
   "metadata": {
    "collapsed": false,
    "pycharm": {
     "name": "#%% [code]\n"
    }
   }
  },
  {
   "cell_type": "code",
   "execution_count": 58,
   "outputs": [],
   "source": [],
   "metadata": {
    "collapsed": false,
    "pycharm": {
     "name": "#%% [code]\n"
    }
   }
  },
  {
   "cell_type": "code",
   "execution_count": 59,
   "outputs": [],
   "source": [
    "# ![](https://cs10.pikabu.ru/post_img/2018/09/06/11/1536261023140110012.jpg)"
   ],
   "metadata": {
    "collapsed": false,
    "pycharm": {
     "name": "#%% [markdown]\n"
    }
   }
  },
  {
   "cell_type": "code",
   "execution_count": 60,
   "outputs": [],
   "source": [
    "# # EDA\n",
    "# [Exploratory Data Analysis](https://ru.wikipedia.org/wiki/Разведочный_анализ_данных) - Анализ данных\n",
    "# На этом этапе мы строим графики, ищем закономерности, аномалии, выбросы или связи между признаками.\n",
    "# В общем цель этого этапа понять, что эти данные могут нам дать и как признаки могут быть взаимосвязаны между собой.\n",
    "# Понимание изначальных признаков позволит сгенерировать новые, более сильные и, тем самым, сделать нашу модель лучше.\n",
    "# ![](https://miro.medium.com/max/2598/1*RXdMb7Uk6mGqWqPguHULaQ.png)"
   ],
   "metadata": {
    "collapsed": false,
    "pycharm": {
     "name": "#%% [markdown]\n"
    }
   }
  },
  {
   "cell_type": "code",
   "execution_count": 61,
   "outputs": [],
   "source": [
    "# ### Посмотрим распределение признака"
   ],
   "metadata": {
    "collapsed": false,
    "pycharm": {
     "name": "#%% [markdown]\n"
    }
   }
  },
  {
   "cell_type": "code",
   "execution_count": 62,
   "outputs": [
    {
     "data": {
      "text/plain": "<matplotlib.axes._subplots.AxesSubplot at 0x185d0fffd08>"
     },
     "execution_count": 62,
     "metadata": {},
     "output_type": "execute_result"
    },
    {
     "data": {
      "text/plain": "<Figure size 720x504 with 1 Axes>",
      "image/png": "[encoded data removed]"
     },
     "metadata": {
      "needs_background": "light"
     },
     "output_type": "display_data"
    }
   ],
   "source": [
    "plt.rcParams['figure.figsize'] = (10,7)\n",
    "df_train['Ranking'].hist(bins=100)"
   ],
   "metadata": {
    "collapsed": false,
    "pycharm": {
     "name": "#%% [code]\n"
    }
   }
  },
  {
   "cell_type": "code",
   "execution_count": 63,
   "outputs": [],
   "source": [
    "# У нас много ресторанов, которые не дотягивают и до 2500 места в своем городе, а что там по городам?"
   ],
   "metadata": {
    "collapsed": false,
    "pycharm": {
     "name": "#%% [markdown]\n"
    }
   }
  },
  {
   "cell_type": "code",
   "execution_count": 64,
   "outputs": [
    {
     "data": {
      "text/plain": "<matplotlib.axes._subplots.AxesSubplot at 0x185cf7e2648>"
     },
     "execution_count": 64,
     "metadata": {},
     "output_type": "execute_result"
    },
    {
     "data": {
      "text/plain": "<Figure size 720x504 with 1 Axes>",
      "image/png": "[encoded data removed]"
     },
     "metadata": {
      "needs_background": "light"
     },
     "output_type": "display_data"
    }
   ],
   "source": [
    "df_train['City'].value_counts(ascending=True).plot(kind='barh')"
   ],
   "metadata": {
    "collapsed": false,
    "pycharm": {
     "name": "#%% [code]\n"
    }
   }
  },
  {
   "cell_type": "code",
   "execution_count": 65,
   "outputs": [],
   "source": [
    "# А кто-то говорил, что французы любят поесть=) Посмотрим, как изменится распределение в большом городе:"
   ],
   "metadata": {
    "collapsed": false,
    "pycharm": {
     "name": "#%% [markdown]\n"
    }
   }
  },
  {
   "cell_type": "code",
   "execution_count": 66,
   "outputs": [
    {
     "data": {
      "text/plain": "<matplotlib.axes._subplots.AxesSubplot at 0x185cf7a4348>"
     },
     "execution_count": 66,
     "metadata": {},
     "output_type": "execute_result"
    },
    {
     "data": {
      "text/plain": "<Figure size 720x504 with 1 Axes>",
      "image/png": "[encoded data removed]"
     },
     "metadata": {
      "needs_background": "light"
     },
     "output_type": "display_data"
    }
   ],
   "source": [
    "df_train['Ranking'][df_train['City'] =='London'].hist(bins=100)"
   ],
   "metadata": {
    "collapsed": false,
    "pycharm": {
     "name": "#%% [code]\n"
    }
   }
  },
  {
   "cell_type": "code",
   "execution_count": 67,
   "outputs": [
    {
     "data": {
      "text/plain": "<Figure size 720x504 with 1 Axes>",
      "image/png": "[encoded data removed]"
     },
     "metadata": {
      "needs_background": "light"
     },
     "output_type": "display_data"
    }
   ],
   "source": [
    "# посмотрим на топ 10 городов\n",
    "for x in (df_train['City'].value_counts())[0:10].index:\n",
    "    df_train['Ranking'][df_train['City'] == x].hist(bins=100)\n",
    "plt.show()"
   ],
   "metadata": {
    "collapsed": false,
    "pycharm": {
     "name": "#%% [code]\n"
    }
   }
  },
  {
   "cell_type": "code",
   "execution_count": 68,
   "outputs": [],
   "source": [
    "# Получается, что Ranking имеет нормальное распределение, просто в больших городах больше ресторанов, из-за мы этого имеем смещение.\n",
    "#\n",
    "# >Подумайте как из этого можно сделать признак для вашей модели. Я покажу вам пример, как визуализация помогает находить взаимосвязи. А далее действуйте без подсказок =)\n",
    "#"
   ],
   "metadata": {
    "collapsed": false,
    "pycharm": {
     "name": "#%% [markdown]\n"
    }
   }
  },
  {
   "cell_type": "code",
   "execution_count": 69,
   "outputs": [],
   "source": [
    "# ### Посмотрим распределение целевой переменной"
   ],
   "metadata": {
    "collapsed": false,
    "pycharm": {
     "name": "#%% [markdown]\n"
    }
   }
  },
  {
   "cell_type": "code",
   "execution_count": 70,
   "outputs": [
    {
     "data": {
      "text/plain": "<matplotlib.axes._subplots.AxesSubplot at 0x185d3c88088>"
     },
     "execution_count": 70,
     "metadata": {},
     "output_type": "execute_result"
    },
    {
     "data": {
      "text/plain": "<Figure size 720x504 with 1 Axes>",
      "image/png": "[encoded data removed]"
     },
     "metadata": {
      "needs_background": "light"
     },
     "output_type": "display_data"
    }
   ],
   "source": [
    "df_train['Rating'].value_counts(ascending=True).plot(kind='barh')"
   ],
   "metadata": {
    "collapsed": false,
    "pycharm": {
     "name": "#%% [code]\n"
    }
   }
  },
  {
   "cell_type": "code",
   "execution_count": 71,
   "outputs": [],
   "source": [
    "# ### Посмотрим распределение целевой переменной относительно признака"
   ],
   "metadata": {
    "collapsed": false,
    "pycharm": {
     "name": "#%% [markdown]\n"
    }
   }
  },
  {
   "cell_type": "code",
   "execution_count": 72,
   "outputs": [
    {
     "data": {
      "text/plain": "<matplotlib.axes._subplots.AxesSubplot at 0x185d3f9d488>"
     },
     "execution_count": 72,
     "metadata": {},
     "output_type": "execute_result"
    },
    {
     "data": {
      "text/plain": "<Figure size 720x504 with 1 Axes>",
      "image/png": "[encoded data removed]"
     },
     "metadata": {
      "needs_background": "light"
     },
     "output_type": "display_data"
    }
   ],
   "source": [
    "df_train['Ranking'][df_train['Rating'] == 5].hist(bins=100)"
   ],
   "metadata": {
    "collapsed": false,
    "pycharm": {
     "name": "#%% [code]\n"
    }
   }
  },
  {
   "cell_type": "code",
   "execution_count": 73,
   "outputs": [
    {
     "data": {
      "text/plain": "<matplotlib.axes._subplots.AxesSubplot at 0x185d3a73288>"
     },
     "execution_count": 73,
     "metadata": {},
     "output_type": "execute_result"
    },
    {
     "data": {
      "text/plain": "<Figure size 720x504 with 1 Axes>",
      "image/png": "[encoded data removed]"
     },
     "metadata": {
      "needs_background": "light"
     },
     "output_type": "display_data"
    }
   ],
   "source": [
    "df_train['Ranking'][df_train['Rating'] < 4].hist(bins=100)"
   ],
   "metadata": {
    "collapsed": false,
    "pycharm": {
     "name": "#%% [code]\n"
    }
   }
  },
  {
   "cell_type": "code",
   "execution_count": 74,
   "outputs": [],
   "source": [
    "# ### И один из моих любимых - [корреляция признаков](https://ru.wikipedia.org/wiki/Корреляция)\n",
    "# На этом графике уже сейчас вы сможете заметить, как признаки связаны между собой и с целевой переменной."
   ],
   "metadata": {
    "collapsed": false,
    "pycharm": {
     "name": "#%% [markdown]\n"
    }
   }
  },
  {
   "cell_type": "code",
   "execution_count": 75,
   "outputs": [
    {
     "data": {
      "text/plain": "<matplotlib.axes._subplots.AxesSubplot at 0x185d3f02c08>"
     },
     "execution_count": 75,
     "metadata": {},
     "output_type": "execute_result"
    },
    {
     "data": {
      "text/plain": "<Figure size 1080x720 with 2 Axes>",
      "image/png": "[encoded data removed]"
     },
     "metadata": {
      "needs_background": "light"
     },
     "output_type": "display_data"
    }
   ],
   "source": [
    "plt.rcParams['figure.figsize'] = (15,10)\n",
    "sns.heatmap(data.drop(['sample'], axis=1).corr(),)"
   ],
   "metadata": {
    "collapsed": false,
    "pycharm": {
     "name": "#%% [code]\n"
    }
   }
  },
  {
   "cell_type": "code",
   "execution_count": 76,
   "outputs": [],
   "source": [
    "# Вообще благодаря визуализации в этом датасете можно узнать много интересных фактов, например:\n",
    "# * где больше Пицерий в Мадриде или Лондоне?\n",
    "# * в каком городе кухня ресторанов более разнообразна?\n",
    "#\n",
    "# придумайте свои вопрос и найдите на него ответ в данных)"
   ],
   "metadata": {
    "collapsed": false,
    "pycharm": {
     "name": "#%% [markdown]\n"
    }
   }
  },
  {
   "cell_type": "code",
   "execution_count": 77,
   "outputs": [
    {
     "data": {
      "text/plain": "       Restaurant_id  Ranking  Price Range  Number of Reviews  sample  Rating  \\\n40795            987    988.0            2              776.0       1     4.0   \n2543            2543  12566.0            0               28.0       0     0.0   \n24392            405    406.0            3             2207.0       1     4.0   \n39000             36     37.0            2              486.0       1     4.5   \n40405           6228   6232.0            2              329.0       1     1.5   \n25528            499    500.0            2                3.0       1     4.5   \n25642           6059   6060.0            0                3.0       1     3.5   \n9792            9792   2608.0            2               45.0       0     0.0   \n46843           5846   5847.0            3                0.0       1     4.0   \n17603           1638   1641.0            0                6.0       1     4.5   \n\n       Number_of_Reviews_isNAN  City_Amsterdam  City_Athens  City_Barcelona  \\\n40795                        0               0            0               0   \n2543                         0               0            0               0   \n24392                        0               0            0               0   \n39000                        0               0            0               0   \n40405                        0               0            0               0   \n25528                        0               0            0               0   \n25642                        0               0            0               1   \n9792                         0               0            0               0   \n46843                        1               0            0               1   \n17603                        0               0            0               0   \n\n       ...  Ukrainian  Uzbek  VeganOptions  VegetarianFriendly  Venezuelan  \\\n40795  ...          0      0             0                   1           0   \n2543   ...          0      0             0                   0           0   \n24392  ...          0      0             1                   1           0   \n39000  ...          0      0             0                   0           0   \n40405  ...          0      0             0                   0           0   \n25528  ...          0      0             0                   1           0   \n25642  ...          0      0             0                   0           0   \n9792   ...          0      0             0                   0           0   \n46843  ...          0      0             0                   0           0   \n17603  ...          0      0             0                   0           0   \n\n       Vietnamese  Welsh  WineBar  Xinjiang  Yun  \n40795           0      0        0         0    0  \n2543            0      0        0         0    0  \n24392           0      0        0         0    0  \n39000           0      0        0         0    0  \n40405           0      0        0         0    0  \n25528           0      0        0         0    0  \n25642           0      0        0         0    0  \n9792            0      0        0         0    0  \n46843           0      0        0         0    0  \n17603           0      0        0         0    0  \n\n[10 rows x 168 columns]",
      "text/html": "<div>\n<style scoped>\n    .dataframe tbody tr th:only-of-type {\n        vertical-align: middle;\n    }\n\n    .dataframe tbody tr th {\n        vertical-align: top;\n    }\n\n    .dataframe thead th {\n        text-align: right;\n    }\n</style>\n<table border=\"1\" class=\"dataframe\">\n  <thead>\n    <tr style=\"text-align: right;\">\n      <th></th>\n      <th>Restaurant_id</th>\n      <th>Ranking</th>\n      <th>Price Range</th>\n      <th>Number of Reviews</th>\n      <th>sample</th>\n      <th>Rating</th>\n      <th>Number_of_Reviews_isNAN</th>\n      <th>City_Amsterdam</th>\n      <th>City_Athens</th>\n      <th>City_Barcelona</th>\n      <th>...</th>\n      <th>Ukrainian</th>\n      <th>Uzbek</th>\n      <th>VeganOptions</th>\n      <th>VegetarianFriendly</th>\n      <th>Venezuelan</th>\n      <th>Vietnamese</th>\n      <th>Welsh</th>\n      <th>WineBar</th>\n      <th>Xinjiang</th>\n      <th>Yun</th>\n    </tr>\n  </thead>\n  <tbody>\n    <tr>\n      <th>40795</th>\n      <td>987</td>\n      <td>988.0</td>\n      <td>2</td>\n      <td>776.0</td>\n      <td>1</td>\n      <td>4.0</td>\n      <td>0</td>\n      <td>0</td>\n      <td>0</td>\n      <td>0</td>\n      <td>...</td>\n      <td>0</td>\n      <td>0</td>\n      <td>0</td>\n      <td>1</td>\n      <td>0</td>\n      <td>0</td>\n      <td>0</td>\n      <td>0</td>\n      <td>0</td>\n      <td>0</td>\n    </tr>\n    <tr>\n      <th>2543</th>\n      <td>2543</td>\n      <td>12566.0</td>\n      <td>0</td>\n      <td>28.0</td>\n      <td>0</td>\n      <td>0.0</td>\n      <td>0</td>\n      <td>0</td>\n      <td>0</td>\n      <td>0</td>\n      <td>...</td>\n      <td>0</td>\n      <td>0</td>\n      <td>0</td>\n      <td>0</td>\n      <td>0</td>\n      <td>0</td>\n      <td>0</td>\n      <td>0</td>\n      <td>0</td>\n      <td>0</td>\n    </tr>\n    <tr>\n      <th>24392</th>\n      <td>405</td>\n      <td>406.0</td>\n      <td>3</td>\n      <td>2207.0</td>\n      <td>1</td>\n      <td>4.0</td>\n      <td>0</td>\n      <td>0</td>\n      <td>0</td>\n      <td>0</td>\n      <td>...</td>\n      <td>0</td>\n      <td>0</td>\n      <td>1</td>\n      <td>1</td>\n      <td>0</td>\n      <td>0</td>\n      <td>0</td>\n      <td>0</td>\n      <td>0</td>\n      <td>0</td>\n    </tr>\n    <tr>\n      <th>39000</th>\n      <td>36</td>\n      <td>37.0</td>\n      <td>2</td>\n      <td>486.0</td>\n      <td>1</td>\n      <td>4.5</td>\n      <td>0</td>\n      <td>0</td>\n      <td>0</td>\n      <td>0</td>\n      <td>...</td>\n      <td>0</td>\n      <td>0</td>\n      <td>0</td>\n      <td>0</td>\n      <td>0</td>\n      <td>0</td>\n      <td>0</td>\n      <td>0</td>\n      <td>0</td>\n      <td>0</td>\n    </tr>\n    <tr>\n      <th>40405</th>\n      <td>6228</td>\n      <td>6232.0</td>\n      <td>2</td>\n      <td>329.0</td>\n      <td>1</td>\n      <td>1.5</td>\n      <td>0</td>\n      <td>0</td>\n      <td>0</td>\n      <td>0</td>\n      <td>...</td>\n      <td>0</td>\n      <td>0</td>\n      <td>0</td>\n      <td>0</td>\n      <td>0</td>\n      <td>0</td>\n      <td>0</td>\n      <td>0</td>\n      <td>0</td>\n      <td>0</td>\n    </tr>\n    <tr>\n      <th>25528</th>\n      <td>499</td>\n      <td>500.0</td>\n      <td>2</td>\n      <td>3.0</td>\n      <td>1</td>\n      <td>4.5</td>\n      <td>0</td>\n      <td>0</td>\n      <td>0</td>\n      <td>0</td>\n      <td>...</td>\n      <td>0</td>\n      <td>0</td>\n      <td>0</td>\n      <td>1</td>\n      <td>0</td>\n      <td>0</td>\n      <td>0</td>\n      <td>0</td>\n      <td>0</td>\n      <td>0</td>\n    </tr>\n    <tr>\n      <th>25642</th>\n      <td>6059</td>\n      <td>6060.0</td>\n      <td>0</td>\n      <td>3.0</td>\n      <td>1</td>\n      <td>3.5</td>\n      <td>0</td>\n      <td>0</td>\n      <td>0</td>\n      <td>1</td>\n      <td>...</td>\n      <td>0</td>\n      <td>0</td>\n      <td>0</td>\n      <td>0</td>\n      <td>0</td>\n      <td>0</td>\n      <td>0</td>\n      <td>0</td>\n      <td>0</td>\n      <td>0</td>\n    </tr>\n    <tr>\n      <th>9792</th>\n      <td>9792</td>\n      <td>2608.0</td>\n      <td>2</td>\n      <td>45.0</td>\n      <td>0</td>\n      <td>0.0</td>\n      <td>0</td>\n      <td>0</td>\n      <td>0</td>\n      <td>0</td>\n      <td>...</td>\n      <td>0</td>\n      <td>0</td>\n      <td>0</td>\n      <td>0</td>\n      <td>0</td>\n      <td>0</td>\n      <td>0</td>\n      <td>0</td>\n      <td>0</td>\n      <td>0</td>\n    </tr>\n    <tr>\n      <th>46843</th>\n      <td>5846</td>\n      <td>5847.0</td>\n      <td>3</td>\n      <td>0.0</td>\n      <td>1</td>\n      <td>4.0</td>\n      <td>1</td>\n      <td>0</td>\n      <td>0</td>\n      <td>1</td>\n      <td>...</td>\n      <td>0</td>\n      <td>0</td>\n      <td>0</td>\n      <td>0</td>\n      <td>0</td>\n      <td>0</td>\n      <td>0</td>\n      <td>0</td>\n      <td>0</td>\n      <td>0</td>\n    </tr>\n    <tr>\n      <th>17603</th>\n      <td>1638</td>\n      <td>1641.0</td>\n      <td>0</td>\n      <td>6.0</td>\n      <td>1</td>\n      <td>4.5</td>\n      <td>0</td>\n      <td>0</td>\n      <td>0</td>\n      <td>0</td>\n      <td>...</td>\n      <td>0</td>\n      <td>0</td>\n      <td>0</td>\n      <td>0</td>\n      <td>0</td>\n      <td>0</td>\n      <td>0</td>\n      <td>0</td>\n      <td>0</td>\n      <td>0</td>\n    </tr>\n  </tbody>\n</table>\n<p>10 rows × 168 columns</p>\n</div>"
     },
     "execution_count": 77,
     "metadata": {},
     "output_type": "execute_result"
    }
   ],
   "source": [
    "df_preproc = data\n",
    "df_preproc.sample(10)"
   ],
   "metadata": {
    "collapsed": false,
    "pycharm": {
     "name": "#%% [code]\n"
    }
   }
  },
  {
   "cell_type": "code",
   "execution_count": 78,
   "outputs": [
    {
     "name": "stdout",
     "output_type": "stream",
     "text": [
      "<class 'pandas.core.frame.DataFrame'>\n",
      "RangeIndex: 50000 entries, 0 to 49999\n",
      "Columns: 168 entries, Restaurant_id to Yun\n",
      "dtypes: float64(3), int64(6), uint8(159)\n",
      "memory usage: 11.0 MB\n"
     ]
    }
   ],
   "source": [
    "df_preproc.info()"
   ],
   "metadata": {
    "collapsed": false,
    "pycharm": {
     "name": "#%% [code]\n"
    }
   }
  },
  {
   "cell_type": "code",
   "execution_count": 79,
   "outputs": [],
   "source": [
    "# Теперь выделим тестовую часть\n",
    "train_data = df_preproc.query('sample == 1').drop(['sample'], axis=1)\n",
    "test_data = df_preproc.query('sample == 0').drop(['sample'], axis=1)\n",
    "\n",
    "y = train_data.Rating.values            # наш таргет\n",
    "X = train_data.drop(['Rating'], axis=1)"
   ],
   "metadata": {
    "collapsed": false,
    "pycharm": {
     "name": "#%% [code]\n"
    }
   }
  },
  {
   "cell_type": "code",
   "execution_count": 80,
   "outputs": [],
   "source": [
    "# **Перед тем как отправлять наши данные на обучение, разделим данные на еще один тест и трейн, для валидации.\n",
    "# Это поможет нам проверить, как хорошо наша модель работает, до отправки submissiona на kaggle.**"
   ],
   "metadata": {
    "collapsed": false,
    "pycharm": {
     "name": "#%% [markdown]\n"
    }
   }
  },
  {
   "cell_type": "code",
   "execution_count": 81,
   "outputs": [],
   "source": [
    "# Воспользуемся специальной функцие train_test_split для разбивки тестовых данных\n",
    "# выделим 20% данных на валидацию (параметр test_size)\n",
    "X_train, X_test, y_train, y_test = train_test_split(X, y, test_size=0.2, random_state=RANDOM_SEED)"
   ],
   "metadata": {
    "collapsed": false,
    "pycharm": {
     "name": "#%% [code]\n"
    }
   }
  },
  {
   "cell_type": "code",
   "execution_count": 82,
   "outputs": [
    {
     "data": {
      "text/plain": "((10000, 167), (40000, 167), (40000, 166), (32000, 166), (8000, 166))"
     },
     "execution_count": 82,
     "metadata": {},
     "output_type": "execute_result"
    }
   ],
   "source": [
    "# проверяем\n",
    "test_data.shape, train_data.shape, X.shape, X_train.shape, X_test.shape"
   ],
   "metadata": {
    "collapsed": false,
    "pycharm": {
     "name": "#%% [code]\n"
    }
   }
  },
  {
   "cell_type": "code",
   "execution_count": 83,
   "outputs": [],
   "source": [
    "# # Model\n",
    "# Сам ML"
   ],
   "metadata": {
    "collapsed": false,
    "pycharm": {
     "name": "#%% [markdown]\n"
    }
   }
  },
  {
   "cell_type": "code",
   "execution_count": 84,
   "outputs": [],
   "source": [
    "# Импортируем необходимые библиотеки:\n",
    "from sklearn.ensemble import RandomForestRegressor # инструмент для создания и обучения модели\n",
    "from sklearn import metrics # инструменты для оценки точности модели"
   ],
   "metadata": {
    "collapsed": false,
    "pycharm": {
     "name": "#%% [code]\n"
    }
   }
  },
  {
   "cell_type": "code",
   "execution_count": 85,
   "outputs": [],
   "source": [
    "# Создаём модель (НАСТРОЙКИ НЕ ТРОГАЕМ)\n",
    "model = RandomForestRegressor(n_estimators=100, verbose=1, n_jobs=-1, random_state=RANDOM_SEED)"
   ],
   "metadata": {
    "collapsed": false,
    "pycharm": {
     "name": "#%% [code]\n"
    }
   }
  },
  {
   "cell_type": "code",
   "execution_count": 86,
   "outputs": [
    {
     "name": "stderr",
     "output_type": "stream",
     "text": [
      "[Parallel(n_jobs=-1)]: Using backend ThreadingBackend with 4 concurrent workers.\n",
      "[Parallel(n_jobs=-1)]: Done  42 tasks      | elapsed:   14.2s\n",
      "[Parallel(n_jobs=-1)]: Done 100 out of 100 | elapsed:   28.7s finished\n",
      "[Parallel(n_jobs=4)]: Using backend ThreadingBackend with 4 concurrent workers.\n",
      "[Parallel(n_jobs=4)]: Done  42 tasks      | elapsed:    0.0s\n",
      "[Parallel(n_jobs=4)]: Done 100 out of 100 | elapsed:    0.0s finished\n"
     ]
    }
   ],
   "source": [
    "# Обучаем модель на тестовом наборе данных\n",
    "model.fit(X_train, y_train)\n",
    "\n",
    "# Используем обученную модель для предсказания рейтинга ресторанов в тестовой выборке.\n",
    "# Предсказанные значения записываем в переменную y_pred\n",
    "y_pred = model.predict(X_test)"
   ],
   "metadata": {
    "collapsed": false,
    "pycharm": {
     "name": "#%% [code]\n"
    }
   }
  },
  {
   "cell_type": "code",
   "execution_count": 87,
   "outputs": [
    {
     "name": "stdout",
     "output_type": "stream",
     "text": [
      "MAE: 0.21339625\n"
     ]
    }
   ],
   "source": [
    "# Сравниваем предсказанные значения (y_pred) с реальными (y_test), и смотрим насколько они в среднем отличаются\n",
    "# Метрика называется Mean Absolute Error (MAE) и показывает среднее отклонение предсказанных значений от фактических.\n",
    "print('MAE:', metrics.mean_absolute_error(y_test, y_pred))"
   ],
   "metadata": {
    "collapsed": false,
    "pycharm": {
     "name": "#%% [code]\n"
    }
   }
  },
  {
   "cell_type": "code",
   "execution_count": 88,
   "outputs": [
    {
     "data": {
      "text/plain": "<matplotlib.axes._subplots.AxesSubplot at 0x185d689c888>"
     },
     "execution_count": 88,
     "metadata": {},
     "output_type": "execute_result"
    },
    {
     "data": {
      "text/plain": "<Figure size 720x720 with 1 Axes>",
      "image/png": "[encoded data removed]"
     },
     "metadata": {
      "needs_background": "light"
     },
     "output_type": "display_data"
    }
   ],
   "source": [
    "# в RandomForestRegressor есть возможность вывести самые важные признаки для модели\n",
    "plt.rcParams['figure.figsize'] = (10,10)\n",
    "feat_importances = pd.Series(model.feature_importances_, index=X.columns)\n",
    "feat_importances.nlargest(15).plot(kind='barh')"
   ],
   "metadata": {
    "collapsed": false,
    "pycharm": {
     "name": "#%% [code]\n"
    }
   }
  },
  {
   "cell_type": "code",
   "execution_count": 89,
   "outputs": [],
   "source": [
    "# # Submission\n",
    "# Если все устраевает - готовим Submission на кагл"
   ],
   "metadata": {
    "collapsed": false,
    "pycharm": {
     "name": "#%% [markdown]\n"
    }
   }
  },
  {
   "cell_type": "code",
   "execution_count": 90,
   "outputs": [
    {
     "data": {
      "text/plain": "      Restaurant_id  Ranking  Price Range  Number of Reviews  Rating  \\\n9585           9585   4699.0            1               36.0     0.0   \n4575           4575   6162.0            0               12.0     0.0   \n4915           4915   8001.0            2               48.0     0.0   \n9445           9445   4539.0            2                0.0     0.0   \n473             473    693.0            2              158.0     0.0   \n8913           8913   5514.0            0                2.0     0.0   \n5818           5818    181.0            1              129.0     0.0   \n4626           4626    230.0            2              299.0     0.0   \n1447           1447   1112.0            0                4.0     0.0   \n6611           6611   2968.0            1               28.0     0.0   \n\n      Number_of_Reviews_isNAN  City_Amsterdam  City_Athens  City_Barcelona  \\\n9585                        0               0            0               0   \n4575                        0               0            0               0   \n4915                        0               0            0               0   \n9445                        1               0            0               0   \n473                         0               0            0               0   \n8913                        0               0            0               0   \n5818                        0               0            0               0   \n4626                        0               0            0               0   \n1447                        0               0            0               0   \n6611                        0               0            0               0   \n\n      City_Berlin  ...  Ukrainian  Uzbek  VeganOptions  VegetarianFriendly  \\\n9585            0  ...          0      0             0                   0   \n4575            0  ...          0      0             0                   0   \n4915            0  ...          0      0             1                   1   \n9445            0  ...          0      0             0                   0   \n473             0  ...          0      0             0                   1   \n8913            0  ...          0      0             0                   0   \n5818            0  ...          0      0             1                   1   \n4626            0  ...          0      0             0                   1   \n1447            0  ...          0      0             0                   0   \n6611            0  ...          0      0             0                   1   \n\n      Venezuelan  Vietnamese  Welsh  WineBar  Xinjiang  Yun  \n9585           0           0      0        0         0    0  \n4575           0           0      0        0         0    0  \n4915           0           0      0        0         0    0  \n9445           0           0      0        0         0    0  \n473            0           0      0        0         0    0  \n8913           0           0      0        0         0    0  \n5818           0           0      0        0         0    0  \n4626           0           0      0        0         0    0  \n1447           0           0      0        0         0    0  \n6611           0           0      0        0         0    0  \n\n[10 rows x 167 columns]",
      "text/html": "<div>\n<style scoped>\n    .dataframe tbody tr th:only-of-type {\n        vertical-align: middle;\n    }\n\n    .dataframe tbody tr th {\n        vertical-align: top;\n    }\n\n    .dataframe thead th {\n        text-align: right;\n    }\n</style>\n<table border=\"1\" class=\"dataframe\">\n  <thead>\n    <tr style=\"text-align: right;\">\n      <th></th>\n      <th>Restaurant_id</th>\n      <th>Ranking</th>\n      <th>Price Range</th>\n      <th>Number of Reviews</th>\n      <th>Rating</th>\n      <th>Number_of_Reviews_isNAN</th>\n      <th>City_Amsterdam</th>\n      <th>City_Athens</th>\n      <th>City_Barcelona</th>\n      <th>City_Berlin</th>\n      <th>...</th>\n      <th>Ukrainian</th>\n      <th>Uzbek</th>\n      <th>VeganOptions</th>\n      <th>VegetarianFriendly</th>\n      <th>Venezuelan</th>\n      <th>Vietnamese</th>\n      <th>Welsh</th>\n      <th>WineBar</th>\n      <th>Xinjiang</th>\n      <th>Yun</th>\n    </tr>\n  </thead>\n  <tbody>\n    <tr>\n      <th>9585</th>\n      <td>9585</td>\n      <td>4699.0</td>\n      <td>1</td>\n      <td>36.0</td>\n      <td>0.0</td>\n      <td>0</td>\n      <td>0</td>\n      <td>0</td>\n      <td>0</td>\n      <td>0</td>\n      <td>...</td>\n      <td>0</td>\n      <td>0</td>\n      <td>0</td>\n      <td>0</td>\n      <td>0</td>\n      <td>0</td>\n      <td>0</td>\n      <td>0</td>\n      <td>0</td>\n      <td>0</td>\n    </tr>\n    <tr>\n      <th>4575</th>\n      <td>4575</td>\n      <td>6162.0</td>\n      <td>0</td>\n      <td>12.0</td>\n      <td>0.0</td>\n      <td>0</td>\n      <td>0</td>\n      <td>0</td>\n      <td>0</td>\n      <td>0</td>\n      <td>...</td>\n      <td>0</td>\n      <td>0</td>\n      <td>0</td>\n      <td>0</td>\n      <td>0</td>\n      <td>0</td>\n      <td>0</td>\n      <td>0</td>\n      <td>0</td>\n      <td>0</td>\n    </tr>\n    <tr>\n      <th>4915</th>\n      <td>4915</td>\n      <td>8001.0</td>\n      <td>2</td>\n      <td>48.0</td>\n      <td>0.0</td>\n      <td>0</td>\n      <td>0</td>\n      <td>0</td>\n      <td>0</td>\n      <td>0</td>\n      <td>...</td>\n      <td>0</td>\n      <td>0</td>\n      <td>1</td>\n      <td>1</td>\n      <td>0</td>\n      <td>0</td>\n      <td>0</td>\n      <td>0</td>\n      <td>0</td>\n      <td>0</td>\n    </tr>\n    <tr>\n      <th>9445</th>\n      <td>9445</td>\n      <td>4539.0</td>\n      <td>2</td>\n      <td>0.0</td>\n      <td>0.0</td>\n      <td>1</td>\n      <td>0</td>\n      <td>0</td>\n      <td>0</td>\n      <td>0</td>\n      <td>...</td>\n      <td>0</td>\n      <td>0</td>\n      <td>0</td>\n      <td>0</td>\n      <td>0</td>\n      <td>0</td>\n      <td>0</td>\n      <td>0</td>\n      <td>0</td>\n      <td>0</td>\n    </tr>\n    <tr>\n      <th>473</th>\n      <td>473</td>\n      <td>693.0</td>\n      <td>2</td>\n      <td>158.0</td>\n      <td>0.0</td>\n      <td>0</td>\n      <td>0</td>\n      <td>0</td>\n      <td>0</td>\n      <td>0</td>\n      <td>...</td>\n      <td>0</td>\n      <td>0</td>\n      <td>0</td>\n      <td>1</td>\n      <td>0</td>\n      <td>0</td>\n      <td>0</td>\n      <td>0</td>\n      <td>0</td>\n      <td>0</td>\n    </tr>\n    <tr>\n      <th>8913</th>\n      <td>8913</td>\n      <td>5514.0</td>\n      <td>0</td>\n      <td>2.0</td>\n      <td>0.0</td>\n      <td>0</td>\n      <td>0</td>\n      <td>0</td>\n      <td>0</td>\n      <td>0</td>\n      <td>...</td>\n      <td>0</td>\n      <td>0</td>\n      <td>0</td>\n      <td>0</td>\n      <td>0</td>\n      <td>0</td>\n      <td>0</td>\n      <td>0</td>\n      <td>0</td>\n      <td>0</td>\n    </tr>\n    <tr>\n      <th>5818</th>\n      <td>5818</td>\n      <td>181.0</td>\n      <td>1</td>\n      <td>129.0</td>\n      <td>0.0</td>\n      <td>0</td>\n      <td>0</td>\n      <td>0</td>\n      <td>0</td>\n      <td>0</td>\n      <td>...</td>\n      <td>0</td>\n      <td>0</td>\n      <td>1</td>\n      <td>1</td>\n      <td>0</td>\n      <td>0</td>\n      <td>0</td>\n      <td>0</td>\n      <td>0</td>\n      <td>0</td>\n    </tr>\n    <tr>\n      <th>4626</th>\n      <td>4626</td>\n      <td>230.0</td>\n      <td>2</td>\n      <td>299.0</td>\n      <td>0.0</td>\n      <td>0</td>\n      <td>0</td>\n      <td>0</td>\n      <td>0</td>\n      <td>0</td>\n      <td>...</td>\n      <td>0</td>\n      <td>0</td>\n      <td>0</td>\n      <td>1</td>\n      <td>0</td>\n      <td>0</td>\n      <td>0</td>\n      <td>0</td>\n      <td>0</td>\n      <td>0</td>\n    </tr>\n    <tr>\n      <th>1447</th>\n      <td>1447</td>\n      <td>1112.0</td>\n      <td>0</td>\n      <td>4.0</td>\n      <td>0.0</td>\n      <td>0</td>\n      <td>0</td>\n      <td>0</td>\n      <td>0</td>\n      <td>0</td>\n      <td>...</td>\n      <td>0</td>\n      <td>0</td>\n      <td>0</td>\n      <td>0</td>\n      <td>0</td>\n      <td>0</td>\n      <td>0</td>\n      <td>0</td>\n      <td>0</td>\n      <td>0</td>\n    </tr>\n    <tr>\n      <th>6611</th>\n      <td>6611</td>\n      <td>2968.0</td>\n      <td>1</td>\n      <td>28.0</td>\n      <td>0.0</td>\n      <td>0</td>\n      <td>0</td>\n      <td>0</td>\n      <td>0</td>\n      <td>0</td>\n      <td>...</td>\n      <td>0</td>\n      <td>0</td>\n      <td>0</td>\n      <td>1</td>\n      <td>0</td>\n      <td>0</td>\n      <td>0</td>\n      <td>0</td>\n      <td>0</td>\n      <td>0</td>\n    </tr>\n  </tbody>\n</table>\n<p>10 rows × 167 columns</p>\n</div>"
     },
     "execution_count": 90,
     "metadata": {},
     "output_type": "execute_result"
    }
   ],
   "source": [
    "test_data.sample(10)"
   ],
   "metadata": {
    "collapsed": false,
    "pycharm": {
     "name": "#%% [code]\n"
    }
   }
  },
  {
   "cell_type": "code",
   "execution_count": 91,
   "outputs": [],
   "source": [
    "test_data = test_data.drop(['Rating'], axis=1)"
   ],
   "metadata": {
    "collapsed": false,
    "pycharm": {
     "name": "#%% [code]\n"
    }
   }
  },
  {
   "cell_type": "code",
   "execution_count": 92,
   "outputs": [
    {
     "data": {
      "text/plain": "     Restaurant_id  Rating\n0             id_0     2.0\n1             id_1     2.5\n2             id_2     4.0\n3             id_3     1.0\n4             id_4     4.0\n...            ...     ...\n9995       id_9995     3.0\n9996       id_9996     1.5\n9997       id_9997     4.5\n9998       id_9998     1.0\n9999       id_9999     2.5\n\n[10000 rows x 2 columns]",
      "text/html": "<div>\n<style scoped>\n    .dataframe tbody tr th:only-of-type {\n        vertical-align: middle;\n    }\n\n    .dataframe tbody tr th {\n        vertical-align: top;\n    }\n\n    .dataframe thead th {\n        text-align: right;\n    }\n</style>\n<table border=\"1\" class=\"dataframe\">\n  <thead>\n    <tr style=\"text-align: right;\">\n      <th></th>\n      <th>Restaurant_id</th>\n      <th>Rating</th>\n    </tr>\n  </thead>\n  <tbody>\n    <tr>\n      <th>0</th>\n      <td>id_0</td>\n      <td>2.0</td>\n    </tr>\n    <tr>\n      <th>1</th>\n      <td>id_1</td>\n      <td>2.5</td>\n    </tr>\n    <tr>\n      <th>2</th>\n      <td>id_2</td>\n      <td>4.0</td>\n    </tr>\n    <tr>\n      <th>3</th>\n      <td>id_3</td>\n      <td>1.0</td>\n    </tr>\n    <tr>\n      <th>4</th>\n      <td>id_4</td>\n      <td>4.0</td>\n    </tr>\n    <tr>\n      <th>...</th>\n      <td>...</td>\n      <td>...</td>\n    </tr>\n    <tr>\n      <th>9995</th>\n      <td>id_9995</td>\n      <td>3.0</td>\n    </tr>\n    <tr>\n      <th>9996</th>\n      <td>id_9996</td>\n      <td>1.5</td>\n    </tr>\n    <tr>\n      <th>9997</th>\n      <td>id_9997</td>\n      <td>4.5</td>\n    </tr>\n    <tr>\n      <th>9998</th>\n      <td>id_9998</td>\n      <td>1.0</td>\n    </tr>\n    <tr>\n      <th>9999</th>\n      <td>id_9999</td>\n      <td>2.5</td>\n    </tr>\n  </tbody>\n</table>\n<p>10000 rows × 2 columns</p>\n</div>"
     },
     "execution_count": 92,
     "metadata": {},
     "output_type": "execute_result"
    }
   ],
   "source": [
    "sample_submission"
   ],
   "metadata": {
    "collapsed": false,
    "pycharm": {
     "name": "#%% [code]\n"
    }
   }
  },
  {
   "cell_type": "code",
   "execution_count": 93,
   "outputs": [
    {
     "name": "stderr",
     "output_type": "stream",
     "text": [
      "[Parallel(n_jobs=4)]: Using backend ThreadingBackend with 4 concurrent workers.\n",
      "[Parallel(n_jobs=4)]: Done  42 tasks      | elapsed:    0.0s\n",
      "[Parallel(n_jobs=4)]: Done 100 out of 100 | elapsed:    0.0s finished\n"
     ]
    }
   ],
   "source": [
    "predict_submission = model.predict(test_data)"
   ],
   "metadata": {
    "collapsed": false,
    "pycharm": {
     "name": "#%% [code]\n"
    }
   }
  },
  {
   "cell_type": "code",
   "execution_count": 94,
   "outputs": [
    {
     "data": {
      "text/plain": "array([4.395, 4.33 , 4.53 , ..., 2.63 , 3.225, 4.09 ])"
     },
     "execution_count": 94,
     "metadata": {},
     "output_type": "execute_result"
    }
   ],
   "source": [
    "predict_submission"
   ],
   "metadata": {
    "collapsed": false,
    "pycharm": {
     "name": "#%% [code]\n"
    }
   }
  },
  {
   "cell_type": "code",
   "execution_count": 95,
   "outputs": [
    {
     "data": {
      "text/plain": "  Restaurant_id  Rating\n0          id_0   4.395\n1          id_1   4.330\n2          id_2   4.530\n3          id_3   4.415\n4          id_4   4.490\n5          id_5   4.590\n6          id_6   4.130\n7          id_7   3.855\n8          id_8   4.590\n9          id_9   4.635",
      "text/html": "<div>\n<style scoped>\n    .dataframe tbody tr th:only-of-type {\n        vertical-align: middle;\n    }\n\n    .dataframe tbody tr th {\n        vertical-align: top;\n    }\n\n    .dataframe thead th {\n        text-align: right;\n    }\n</style>\n<table border=\"1\" class=\"dataframe\">\n  <thead>\n    <tr style=\"text-align: right;\">\n      <th></th>\n      <th>Restaurant_id</th>\n      <th>Rating</th>\n    </tr>\n  </thead>\n  <tbody>\n    <tr>\n      <th>0</th>\n      <td>id_0</td>\n      <td>4.395</td>\n    </tr>\n    <tr>\n      <th>1</th>\n      <td>id_1</td>\n      <td>4.330</td>\n    </tr>\n    <tr>\n      <th>2</th>\n      <td>id_2</td>\n      <td>4.530</td>\n    </tr>\n    <tr>\n      <th>3</th>\n      <td>id_3</td>\n      <td>4.415</td>\n    </tr>\n    <tr>\n      <th>4</th>\n      <td>id_4</td>\n      <td>4.490</td>\n    </tr>\n    <tr>\n      <th>5</th>\n      <td>id_5</td>\n      <td>4.590</td>\n    </tr>\n    <tr>\n      <th>6</th>\n      <td>id_6</td>\n      <td>4.130</td>\n    </tr>\n    <tr>\n      <th>7</th>\n      <td>id_7</td>\n      <td>3.855</td>\n    </tr>\n    <tr>\n      <th>8</th>\n      <td>id_8</td>\n      <td>4.590</td>\n    </tr>\n    <tr>\n      <th>9</th>\n      <td>id_9</td>\n      <td>4.635</td>\n    </tr>\n  </tbody>\n</table>\n</div>"
     },
     "execution_count": 95,
     "metadata": {},
     "output_type": "execute_result"
    }
   ],
   "source": [
    "sample_submission['Rating'] = predict_submission\n",
    "sample_submission.to_csv('submission.csv', index=False)\n",
    "sample_submission.head(10)"
   ],
   "metadata": {
    "collapsed": false,
    "pycharm": {
     "name": "#%% [code]\n"
    }
   }
  },
  {
   "cell_type": "code",
   "execution_count": 96,
   "outputs": [],
   "source": [
    "# # What's next?\n",
    "# Или что делать, чтоб улучшить результат:\n",
    "# * Обработать оставшиеся признаки в понятный для машины формат\n",
    "# * Посмотреть, что еще можно извлечь из признаков\n",
    "# * Сгенерировать новые признаки\n",
    "# * Подгрузить дополнительные данные, например: по населению или благосостоянию городов\n",
    "# * Подобрать состав признаков\n",
    "#\n",
    "# В общем, процесс творческий и весьма увлекательный! Удачи в соревновании!\n",
    "#"
   ],
   "metadata": {
    "collapsed": false,
    "pycharm": {
     "name": "#%% [markdown]\n"
    }
   }
  },
  {
   "cell_type": "code",
   "execution_count": 96,
   "outputs": [],
   "source": [],
   "metadata": {
    "collapsed": false,
    "pycharm": {
     "name": "#%% [code]\n"
    }
   }
  }
 ],
 "metadata": {
  "kernelspec": {
   "display_name": "Python 3",
   "language": "python",
   "name": "python3"
  },
  "language_info": {
   "codemirror_mode": {
    "name": "ipython",
    "version": 2
   },
   "file_extension": ".py",
   "mimetype": "text/x-python",
   "name": "python",
   "nbconvert_exporter": "python",
   "pygments_lexer": "ipython2",
   "version": "2.7.6"
  }
 },
 "nbformat": 4,
 "nbformat_minor": 0
}